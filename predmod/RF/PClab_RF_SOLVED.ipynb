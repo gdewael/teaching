{
  "cells": [
    {
      "cell_type": "markdown",
      "metadata": {
        "id": "rq7yRzHx5ayg"
      },
      "source": [
        "# Decision trees, ensemble methods and Random Forests"
      ]
    },
    {
      "cell_type": "markdown",
      "metadata": {
        "id": "KzlB6TTg5ayi"
      },
      "source": [
        "Decision trees are very popular in machine learning. They contain a number of favourable properties, amongst which: \n",
        "- Interpretability,\n",
        "- Visualization,\n",
        "- Able to handle missing values and 'mixed' data (e.g. a dataset consisting of a mix of categorical and continuous features),\n",
        "- Able to deal with non-linearity,\n",
        "- No need to normalize the data,\n",
        "- Naturally extendable to a multiclass setting. \n",
        "\n",
        "When many randomized decision trees are bagged in a single model, we obtain the powerful _Random Forest_ classifier (check out [this paper](http://jmlr.org/papers/volume15/delgado14a/delgado14a.pdf), where 179 classifiers from 17 families have been evaluated on 121 datasets). The Random Forest classifier is among the most popular machine learning methods available due to its high performance on most problems, not needing much or any tuning and the possibility of providing variable importance indices. The training of a random forest model can easily be done in parallel (e.g. fitting multiple trees on separate CPUs), making it a suitable method for large-scale data applications. Furthermore, it inherits the favourable properties of decision trees listed above, such that for example the method is easily extended for multi-output problems."
      ]
    },
    {
      "cell_type": "markdown",
      "metadata": {
        "id": "yD7UfKR_5ayj"
      },
      "source": [
        "In this PC lab, we will use the [Breast Cancer Wisconsin (Diagnostic) Data Set](https://archive.ics.uci.edu/ml/datasets/breast+cancer+wisconsin+(diagnostic)). Run the following codeblock to download the dataset."
      ]
    },
    {
      "cell_type": "code",
      "execution_count": 1,
      "metadata": {
        "id": "WhdAAW6wZogc",
        "outputId": "83e7fc1e-75ee-480a-fc74-0780fee27aac",
        "colab": {
          "base_uri": "https://localhost:8080/"
        }
      },
      "outputs": [
        {
          "output_type": "execute_result",
          "data": {
            "text/plain": [
              "('wdbc.data', <http.client.HTTPMessage at 0x7f811ad5e9d0>)"
            ]
          },
          "metadata": {},
          "execution_count": 1
        }
      ],
      "source": [
        "import urllib.request\n",
        "urllib.request.urlretrieve(\"https://raw.githubusercontent.com/gdewael/teaching/main/predmod/RF/wdbc.data\", \"wdbc.data\")"
      ]
    },
    {
      "cell_type": "markdown",
      "metadata": {
        "id": "okGFrS0j5ayj"
      },
      "source": [
        "## Decision trees"
      ]
    },
    {
      "cell_type": "markdown",
      "metadata": {
        "id": "JQ27GL1m5ayj"
      },
      "source": [
        "When a decision tree is fitted to the data, the feature space is recursively splitted. Decision trees make use of a purity measure in order to choose a feature to make a split. Such a purity measure assesses the homogeneity of the labels within the leaf of a decision tree. You have seen two such measures during the theory lecture, the entropy and gini-index measures. In a $K$-class classification setting, having class labels $1, ..., K$, the purity of a set of instances $\\{(x_1,y_1), ..., (x_n,y_n)\\}$ in a leaf can be defined using the proportions $p_1, ..., p_K$ (where $I$ is defined as the identity-function): \n",
        "\n",
        "\\begin{equation}\n",
        "p_k = \\frac{\\sum_{i=1}^{n}I(y_i = k)}{n}, \\qquad k = 1, ..., K, \n",
        "\\end{equation}\n",
        "\n",
        "\\begin{equation}\n",
        "\\text{entropy} = -\\sum_{k=1}^{K}p_k \\ln{p_k}, \\qquad \\text{gini-index} = \\sum_{k=1}^{K} p_k(1-p_k). \n",
        "\\end{equation}\n",
        "\n",
        "\n",
        "These purity measures can be used to split the feature space until a certain leaf is pure. Decision trees are called a _greedy_ approach, as they will choose that feature which will result in the greatest drop for a purity measure at a certain split, not taking the effect of future splits into account.  "
      ]
    },
    {
      "cell_type": "markdown",
      "metadata": {
        "id": "s-dbCzA6Zoge"
      },
      "source": [
        "To start of, let's investigate whether the decision tree can handle the XOR problem, a classic toy dataset for which a model needs to be able to handle non-linearities. For this we will use a helper function:"
      ]
    },
    {
      "cell_type": "code",
      "execution_count": 2,
      "metadata": {
        "id": "75XLqaomZogf"
      },
      "outputs": [],
      "source": [
        "import matplotlib.pyplot as plt\n",
        "import pandas as pd\n",
        "import numpy as np\n",
        "\n",
        "\n",
        "''' Function to plot the decision boundary '''\n",
        "''' X_train: Training dataset to visualize. Needs to be a numpy array of two dimensions. \n",
        "The first two components are visualized '''\n",
        "''' clf: Fitted classifier (also to two dimensions) '''\n",
        "\n",
        "\n",
        "def plot_decision_boundary(X_train, y_train, clf): \n",
        "    plot_step = 0.02\n",
        "    x1_min, x1_max = X_train[:, 0].min() - 1, X_train[:, 0].max() + 1\n",
        "    x2_min, x2_max = X_train[:, 1].min() - 1, X_train[:, 1].max() + 1\n",
        "    x1, x2 = np.meshgrid(np.arange(x1_min, x1_max, plot_step),np.arange(x2_min, x2_max, plot_step))\n",
        "    Z = clf.predict(np.c_[x1.ravel(), x2.ravel()])\n",
        "    Z = Z.reshape(x1.shape)\n",
        "    \n",
        "    blues = y_train == 0\n",
        "    reds = y_train == 1\n",
        "    \n",
        "    fig, ax = plt.subplots()\n",
        "    ax.contourf(x1, x2, Z, cmap=plt.cm.Paired)\n",
        "    ax.scatter(X_train[reds,0],X_train[reds,1], c='red');\n",
        "    ax.scatter(X_train[blues,0],X_train[blues,1], c='blue');\n",
        "    ax.set_xlabel(r'$x_1$', size=18)\n",
        "    ax.set_ylabel(r'$x_2$', size=18)\n",
        "    plt.show()"
      ]
    },
    {
      "cell_type": "markdown",
      "metadata": {
        "id": "c89zGx2oZogg"
      },
      "source": [
        "Generate the dataset:"
      ]
    },
    {
      "cell_type": "code",
      "execution_count": 3,
      "metadata": {
        "id": "r5M1V-quZogh",
        "outputId": "5d425eb6-6bfb-463c-b9e8-00c74d6376e2",
        "colab": {
          "base_uri": "https://localhost:8080/",
          "height": 287
        }
      },
      "outputs": [
        {
          "output_type": "display_data",
          "data": {
            "text/plain": [
              "<Figure size 432x288 with 1 Axes>"
            ],
            "image/png": "[encoded data removed]"
          },
          "metadata": {
            "needs_background": "light"
          }
        }
      ],
      "source": [
        "X_train = np.random.randn(400, 2)\n",
        "y_train = np.logical_xor(X_train[:, 0] > 0, X_train[:, 1] > 0)\n",
        "\n",
        "blues = y_train == 0\n",
        "reds = y_train == 1\n",
        "\n",
        "fig, ax = plt.subplots()\n",
        "ax.scatter(X_train[reds,0],X_train[reds,1], c='red');\n",
        "ax.scatter(X_train[blues,0],X_train[blues,1], c='blue');\n",
        "ax.set_xlabel(r'$x_1$', size=18)\n",
        "ax.set_ylabel(r'$x_2$', size=18)\n",
        "plt.show()"
      ]
    },
    {
      "cell_type": "markdown",
      "metadata": {
        "id": "OhZ7gushZogi"
      },
      "source": [
        "We can fit decision trees using the already-familiar sklearn interface ([link to docs](https://scikit-learn.org/stable/modules/generated/sklearn.tree.DecisionTreeClassifier.html))."
      ]
    },
    {
      "cell_type": "code",
      "execution_count": 4,
      "metadata": {
        "id": "gWiW94yqZogi",
        "outputId": "8c25f9c5-d800-4f4d-ef96-d19a14a67680",
        "colab": {
          "base_uri": "https://localhost:8080/",
          "height": 287
        }
      },
      "outputs": [
        {
          "output_type": "display_data",
          "data": {
            "text/plain": [
              "<Figure size 432x288 with 1 Axes>"
            ],
            "image/png": "[encoded data removed]"
          },
          "metadata": {
            "needs_background": "light"
          }
        }
      ],
      "source": [
        "from sklearn.tree import DecisionTreeClassifier\n",
        "\n",
        "clf = DecisionTreeClassifier()\n",
        "\n",
        "clf.fit(X_train, y_train)\n",
        "\n",
        "plot_decision_boundary(X_train, y_train, clf)"
      ]
    },
    {
      "cell_type": "markdown",
      "metadata": {
        "id": "-wWca3Cq5ayk"
      },
      "source": [
        "<div class=\"alert alert-success\">\n",
        "<b>EXERCISE (warm-up): \n",
        "<br>\n",
        "Think about some other classifiers we have already discussed during this course. How will they square up against the XOR problem? What kind of decision boundary do you expect in the case of e.g. logistic regression? Try plugging some classifiers into the code above and test if the results confirm your intuition.\n",
        "</b>\n",
        "</div>"
      ]
    },
    {
      "cell_type": "markdown",
      "metadata": {
        "id": "kfFegD82Zogj"
      },
      "source": [
        "Written answer:\n",
        "\n",
        "Logistic regression should result in a classifier that randomly draws a single decision line going approximately through the origin. The exact direction and location of that line is random as the linear nature of the classifier will always classify 50% of the samples wrongly, no matter where its location is.\n",
        "\n",
        "Something extra to think about: what influences the \"random\" location/direction of the logistic regression decision line? A non-exhaustive list:\n",
        "\n",
        "- The data itself is randomly generated\n",
        "- The model weights are randomly initialized\n",
        "- Your model might use an optimizer that has stochastic elements (the default of logistic regression LFBGS does not), but look up for example stochastic gradient descent.\n",
        "\n",
        "An example of a previously-seen classifier that will do well on the XOR problem would be, for example, a KNN classifier."
      ]
    },
    {
      "cell_type": "markdown",
      "metadata": {
        "id": "XYmE8a_F5ayn"
      },
      "source": [
        "## Pruning decision trees"
      ]
    },
    {
      "cell_type": "markdown",
      "metadata": {
        "id": "29jm8QcI5ayn"
      },
      "source": [
        "A naive implementation of a decision tree would grow the number of splits the tree makes until it has correctly predicted all training labels, hence making for a model with high variance (potentially leading to overfitting). Just like other machine learning methods, decision trees can be regularized in various ways (using the [sklearn implementation](https://scikit-learn.org/stable/modules/generated/sklearn.tree.DecisionTreeClassifier.html)).\n",
        "\n",
        "<div class=\"alert alert-success\">\n",
        "<b>EXERCISE (warm-up): \n",
        "<br>\n",
        "Look into the documentation and identify some hyperparameters that would regularize a decision tree. What would be your preferred way to regularize trees?\n",
        "</b>\n",
        "</div>"
      ]
    },
    {
      "cell_type": "markdown",
      "metadata": {
        "id": "5DDp2Fc9Zogl"
      },
      "source": [
        "Written Answer:\n",
        "\n",
        "A list of the most important ones:\n",
        "\n",
        "- `max_depth`: decreasing this increases regularization\n",
        "- `min_samples_split`: increasing this increases regularization\n",
        "- `min_samples_leaf`: increasing this increases regularization\n",
        "- `ccp_alpha`: increasing this increases regularization\n",
        "\n",
        "Preferred way to pick? We don't pick favorites in machine learning, nor do we theoretically reason too much about our datasets (usually). The answer of how to choose will in most cases be provided by simply running a hyperparameter tuning such as grid search and simply seeing what works best (either on a held-out fraction of data or using a cross-validation scheme)."
      ]
    },
    {
      "cell_type": "markdown",
      "metadata": {
        "id": "4jc3v3puZogl"
      },
      "source": [
        "Let's code some stuff on a real dataset. For this we read in the previously-mentioned wisconsin breast cancer dataset:"
      ]
    },
    {
      "cell_type": "code",
      "execution_count": 5,
      "metadata": {
        "id": "Vgv7iiHVZogl",
        "outputId": "b781a2d1-29e1-4f85-fd7b-53e2a963fcb8",
        "colab": {
          "base_uri": "https://localhost:8080/",
          "height": 383
        }
      },
      "outputs": [
        {
          "output_type": "display_data",
          "data": {
            "text/plain": [
              "         status  radius_mean  texture_mean  perimeter_mean  area_mean  \\\n",
              "id                                                                      \n",
              "842302        M        17.99         10.38          122.80     1001.0   \n",
              "842517        M        20.57         17.77          132.90     1326.0   \n",
              "84300903      M        19.69         21.25          130.00     1203.0   \n",
              "84348301      M        11.42         20.38           77.58      386.1   \n",
              "84358402      M        20.29         14.34          135.10     1297.0   \n",
              "\n",
              "          smoothness_mean  compactness_mean  concavity_mean  \\\n",
              "id                                                            \n",
              "842302            0.11840           0.27760          0.3001   \n",
              "842517            0.08474           0.07864          0.0869   \n",
              "84300903          0.10960           0.15990          0.1974   \n",
              "84348301          0.14250           0.28390          0.2414   \n",
              "84358402          0.10030           0.13280          0.1980   \n",
              "\n",
              "          concave points_mean  symmetry_mean  ...  radius_worst  \\\n",
              "id                                            ...                 \n",
              "842302                0.14710         0.2419  ...         25.38   \n",
              "842517                0.07017         0.1812  ...         24.99   \n",
              "84300903              0.12790         0.2069  ...         23.57   \n",
              "84348301              0.10520         0.2597  ...         14.91   \n",
              "84358402              0.10430         0.1809  ...         22.54   \n",
              "\n",
              "          texture_worst  perimeter_worst  area_worst  smoothness_worst  \\\n",
              "id                                                                       \n",
              "842302            17.33           184.60      2019.0            0.1622   \n",
              "842517            23.41           158.80      1956.0            0.1238   \n",
              "84300903          25.53           152.50      1709.0            0.1444   \n",
              "84348301          26.50            98.87       567.7            0.2098   \n",
              "84358402          16.67           152.20      1575.0            0.1374   \n",
              "\n",
              "          compactness_worst  concavity_worst  concave points_worst  \\\n",
              "id                                                                   \n",
              "842302               0.6656           0.7119                0.2654   \n",
              "842517               0.1866           0.2416                0.1860   \n",
              "84300903             0.4245           0.4504                0.2430   \n",
              "84348301             0.8663           0.6869                0.2575   \n",
              "84358402             0.2050           0.4000                0.1625   \n",
              "\n",
              "          symmetry_worst  fractal_dimension_worst  \n",
              "id                                                 \n",
              "842302            0.4601                  0.11890  \n",
              "842517            0.2750                  0.08902  \n",
              "84300903          0.3613                  0.08758  \n",
              "84348301          0.6638                  0.17300  \n",
              "84358402          0.2364                  0.07678  \n",
              "\n",
              "[5 rows x 31 columns]"
            ],
            "text/html": [
              "\n",
              "  <div id=\"df-04772776-72e1-4406-ae50-61a7337b8b54\">\n",
              "    <div class=\"colab-df-container\">\n",
              "      <div>\n",
              "<style scoped>\n",
              "    .dataframe tbody tr th:only-of-type {\n",
              "        vertical-align: middle;\n",
              "    }\n",
              "\n",
              "    .dataframe tbody tr th {\n",
              "        vertical-align: top;\n",
              "    }\n",
              "\n",
              "    .dataframe thead th {\n",
              "        text-align: right;\n",
              "    }\n",
              "</style>\n",
              "<table border=\"1\" class=\"dataframe\">\n",
              "  <thead>\n",
              "    <tr style=\"text-align: right;\">\n",
              "      <th></th>\n",
              "      <th>status</th>\n",
              "      <th>radius_mean</th>\n",
              "      <th>texture_mean</th>\n",
              "      <th>perimeter_mean</th>\n",
              "      <th>area_mean</th>\n",
              "      <th>smoothness_mean</th>\n",
              "      <th>compactness_mean</th>\n",
              "      <th>concavity_mean</th>\n",
              "      <th>concave points_mean</th>\n",
              "      <th>symmetry_mean</th>\n",
              "      <th>...</th>\n",
              "      <th>radius_worst</th>\n",
              "      <th>texture_worst</th>\n",
              "      <th>perimeter_worst</th>\n",
              "      <th>area_worst</th>\n",
              "      <th>smoothness_worst</th>\n",
              "      <th>compactness_worst</th>\n",
              "      <th>concavity_worst</th>\n",
              "      <th>concave points_worst</th>\n",
              "      <th>symmetry_worst</th>\n",
              "      <th>fractal_dimension_worst</th>\n",
              "    </tr>\n",
              "    <tr>\n",
              "      <th>id</th>\n",
              "      <th></th>\n",
              "      <th></th>\n",
              "      <th></th>\n",
              "      <th></th>\n",
              "      <th></th>\n",
              "      <th></th>\n",
              "      <th></th>\n",
              "      <th></th>\n",
              "      <th></th>\n",
              "      <th></th>\n",
              "      <th></th>\n",
              "      <th></th>\n",
              "      <th></th>\n",
              "      <th></th>\n",
              "      <th></th>\n",
              "      <th></th>\n",
              "      <th></th>\n",
              "      <th></th>\n",
              "      <th></th>\n",
              "      <th></th>\n",
              "      <th></th>\n",
              "    </tr>\n",
              "  </thead>\n",
              "  <tbody>\n",
              "    <tr>\n",
              "      <th>842302</th>\n",
              "      <td>M</td>\n",
              "      <td>17.99</td>\n",
              "      <td>10.38</td>\n",
              "      <td>122.80</td>\n",
              "      <td>1001.0</td>\n",
              "      <td>0.11840</td>\n",
              "      <td>0.27760</td>\n",
              "      <td>0.3001</td>\n",
              "      <td>0.14710</td>\n",
              "      <td>0.2419</td>\n",
              "      <td>...</td>\n",
              "      <td>25.38</td>\n",
              "      <td>17.33</td>\n",
              "      <td>184.60</td>\n",
              "      <td>2019.0</td>\n",
              "      <td>0.1622</td>\n",
              "      <td>0.6656</td>\n",
              "      <td>0.7119</td>\n",
              "      <td>0.2654</td>\n",
              "      <td>0.4601</td>\n",
              "      <td>0.11890</td>\n",
              "    </tr>\n",
              "    <tr>\n",
              "      <th>842517</th>\n",
              "      <td>M</td>\n",
              "      <td>20.57</td>\n",
              "      <td>17.77</td>\n",
              "      <td>132.90</td>\n",
              "      <td>1326.0</td>\n",
              "      <td>0.08474</td>\n",
              "      <td>0.07864</td>\n",
              "      <td>0.0869</td>\n",
              "      <td>0.07017</td>\n",
              "      <td>0.1812</td>\n",
              "      <td>...</td>\n",
              "      <td>24.99</td>\n",
              "      <td>23.41</td>\n",
              "      <td>158.80</td>\n",
              "      <td>1956.0</td>\n",
              "      <td>0.1238</td>\n",
              "      <td>0.1866</td>\n",
              "      <td>0.2416</td>\n",
              "      <td>0.1860</td>\n",
              "      <td>0.2750</td>\n",
              "      <td>0.08902</td>\n",
              "    </tr>\n",
              "    <tr>\n",
              "      <th>84300903</th>\n",
              "      <td>M</td>\n",
              "      <td>19.69</td>\n",
              "      <td>21.25</td>\n",
              "      <td>130.00</td>\n",
              "      <td>1203.0</td>\n",
              "      <td>0.10960</td>\n",
              "      <td>0.15990</td>\n",
              "      <td>0.1974</td>\n",
              "      <td>0.12790</td>\n",
              "      <td>0.2069</td>\n",
              "      <td>...</td>\n",
              "      <td>23.57</td>\n",
              "      <td>25.53</td>\n",
              "      <td>152.50</td>\n",
              "      <td>1709.0</td>\n",
              "      <td>0.1444</td>\n",
              "      <td>0.4245</td>\n",
              "      <td>0.4504</td>\n",
              "      <td>0.2430</td>\n",
              "      <td>0.3613</td>\n",
              "      <td>0.08758</td>\n",
              "    </tr>\n",
              "    <tr>\n",
              "      <th>84348301</th>\n",
              "      <td>M</td>\n",
              "      <td>11.42</td>\n",
              "      <td>20.38</td>\n",
              "      <td>77.58</td>\n",
              "      <td>386.1</td>\n",
              "      <td>0.14250</td>\n",
              "      <td>0.28390</td>\n",
              "      <td>0.2414</td>\n",
              "      <td>0.10520</td>\n",
              "      <td>0.2597</td>\n",
              "      <td>...</td>\n",
              "      <td>14.91</td>\n",
              "      <td>26.50</td>\n",
              "      <td>98.87</td>\n",
              "      <td>567.7</td>\n",
              "      <td>0.2098</td>\n",
              "      <td>0.8663</td>\n",
              "      <td>0.6869</td>\n",
              "      <td>0.2575</td>\n",
              "      <td>0.6638</td>\n",
              "      <td>0.17300</td>\n",
              "    </tr>\n",
              "    <tr>\n",
              "      <th>84358402</th>\n",
              "      <td>M</td>\n",
              "      <td>20.29</td>\n",
              "      <td>14.34</td>\n",
              "      <td>135.10</td>\n",
              "      <td>1297.0</td>\n",
              "      <td>0.10030</td>\n",
              "      <td>0.13280</td>\n",
              "      <td>0.1980</td>\n",
              "      <td>0.10430</td>\n",
              "      <td>0.1809</td>\n",
              "      <td>...</td>\n",
              "      <td>22.54</td>\n",
              "      <td>16.67</td>\n",
              "      <td>152.20</td>\n",
              "      <td>1575.0</td>\n",
              "      <td>0.1374</td>\n",
              "      <td>0.2050</td>\n",
              "      <td>0.4000</td>\n",
              "      <td>0.1625</td>\n",
              "      <td>0.2364</td>\n",
              "      <td>0.07678</td>\n",
              "    </tr>\n",
              "  </tbody>\n",
              "</table>\n",
              "<p>5 rows × 31 columns</p>\n",
              "</div>\n",
              "      <button class=\"colab-df-convert\" onclick=\"convertToInteractive('df-04772776-72e1-4406-ae50-61a7337b8b54')\"\n",
              "              title=\"Convert this dataframe to an interactive table.\"\n",
              "              style=\"display:none;\">\n",
              "        \n",
              "  <svg xmlns=\"http://www.w3.org/2000/svg\" height=\"24px\"viewBox=\"0 0 24 24\"\n",
              "       width=\"24px\">\n",
              "    <path d=\"M0 0h24v24H0V0z\" fill=\"none\"/>\n",
              "    <path d=\"M18.56 5.44l.94 2.06.94-2.06 2.06-.94-2.06-.94-.94-2.06-.94 2.06-2.06.94zm-11 1L8.5 8.5l.94-2.06 2.06-.94-2.06-.94L8.5 2.5l-.94 2.06-2.06.94zm10 10l.94 2.06.94-2.06 2.06-.94-2.06-.94-.94-2.06-.94 2.06-2.06.94z\"/><path d=\"M17.41 7.96l-1.37-1.37c-.4-.4-.92-.59-1.43-.59-.52 0-1.04.2-1.43.59L10.3 9.45l-7.72 7.72c-.78.78-.78 2.05 0 2.83L4 21.41c.39.39.9.59 1.41.59.51 0 1.02-.2 1.41-.59l7.78-7.78 2.81-2.81c.8-.78.8-2.07 0-2.86zM5.41 20L4 18.59l7.72-7.72 1.47 1.35L5.41 20z\"/>\n",
              "  </svg>\n",
              "      </button>\n",
              "      \n",
              "  <style>\n",
              "    .colab-df-container {\n",
              "      display:flex;\n",
              "      flex-wrap:wrap;\n",
              "      gap: 12px;\n",
              "    }\n",
              "\n",
              "    .colab-df-convert {\n",
              "      background-color: #E8F0FE;\n",
              "      border: none;\n",
              "      border-radius: 50%;\n",
              "      cursor: pointer;\n",
              "      display: none;\n",
              "      fill: #1967D2;\n",
              "      height: 32px;\n",
              "      padding: 0 0 0 0;\n",
              "      width: 32px;\n",
              "    }\n",
              "\n",
              "    .colab-df-convert:hover {\n",
              "      background-color: #E2EBFA;\n",
              "      box-shadow: 0px 1px 2px rgba(60, 64, 67, 0.3), 0px 1px 3px 1px rgba(60, 64, 67, 0.15);\n",
              "      fill: #174EA6;\n",
              "    }\n",
              "\n",
              "    [theme=dark] .colab-df-convert {\n",
              "      background-color: #3B4455;\n",
              "      fill: #D2E3FC;\n",
              "    }\n",
              "\n",
              "    [theme=dark] .colab-df-convert:hover {\n",
              "      background-color: #434B5C;\n",
              "      box-shadow: 0px 1px 3px 1px rgba(0, 0, 0, 0.15);\n",
              "      filter: drop-shadow(0px 1px 2px rgba(0, 0, 0, 0.3));\n",
              "      fill: #FFFFFF;\n",
              "    }\n",
              "  </style>\n",
              "\n",
              "      <script>\n",
              "        const buttonEl =\n",
              "          document.querySelector('#df-04772776-72e1-4406-ae50-61a7337b8b54 button.colab-df-convert');\n",
              "        buttonEl.style.display =\n",
              "          google.colab.kernel.accessAllowed ? 'block' : 'none';\n",
              "\n",
              "        async function convertToInteractive(key) {\n",
              "          const element = document.querySelector('#df-04772776-72e1-4406-ae50-61a7337b8b54');\n",
              "          const dataTable =\n",
              "            await google.colab.kernel.invokeFunction('convertToInteractive',\n",
              "                                                     [key], {});\n",
              "          if (!dataTable) return;\n",
              "\n",
              "          const docLinkHtml = 'Like what you see? Visit the ' +\n",
              "            '<a target=\"_blank\" href=https://colab.research.google.com/notebooks/data_table.ipynb>data table notebook</a>'\n",
              "            + ' to learn more about interactive tables.';\n",
              "          element.innerHTML = '';\n",
              "          dataTable['output_type'] = 'display_data';\n",
              "          await google.colab.output.renderOutput(dataTable, element);\n",
              "          const docLink = document.createElement('div');\n",
              "          docLink.innerHTML = docLinkHtml;\n",
              "          element.appendChild(docLink);\n",
              "        }\n",
              "      </script>\n",
              "    </div>\n",
              "  </div>\n",
              "  "
            ]
          },
          "metadata": {}
        },
        {
          "output_type": "stream",
          "name": "stdout",
          "text": [
            "Number of benign cases: 357\n",
            "Total number of cases: 569\n"
          ]
        }
      ],
      "source": [
        "data = pd.read_csv(\n",
        "    './wdbc.data',\n",
        "    index_col=0)\n",
        "status = data['status']\n",
        "display(data.head(5))\n",
        "print('Number of benign cases: ' + str(data[data.loc[:,'status']=='B'].shape[0]))\n",
        "print('Total number of cases: ' + str(data.shape[0]))"
      ]
    },
    {
      "cell_type": "markdown",
      "metadata": {
        "id": "ZoGWtyMO5ayn"
      },
      "source": [
        "<div class=\"alert alert-success\">\n",
        "<b>EXERCISE: \n",
        "<br>\n",
        "Construct a decision tree model that can predict whether a tumor is malign or benign.\n",
        "Evaluate said model. Optionally, tune your model to make it as good as possible.\n",
        "</b>\n",
        "</div>\n",
        "\n",
        "Some considerations to ponder on:\n",
        "- Your dataset is quite small, how does this influence your data splitting (e.g. percentages) strategy?\n",
        "- The labels are unbalanced, how does this influence (1) learning and (2) evaluation? For (2), let's say this data + model pipeline is a first preliminary test as a patient comes in, how could you account for this in your evaluation?"
      ]
    },
    {
      "cell_type": "code",
      "execution_count": 6,
      "metadata": {
        "id": "gLd1yKFnZogm",
        "outputId": "e428fc2c-b45a-4144-eb21-ec1f9ee811b4",
        "colab": {
          "base_uri": "https://localhost:8080/"
        }
      },
      "outputs": [
        {
          "output_type": "stream",
          "name": "stdout",
          "text": [
            "Accuracy decision tree on training set: 0.9553805774278216\n",
            "Accuracy decision tree on test set: 0.9202127659574468\n"
          ]
        }
      ],
      "source": [
        "## MOST SIMPLE ANSWER: ##\n",
        "from sklearn.model_selection import train_test_split\n",
        "\n",
        "y = (data['status'] == \"M\").values.astype(int)\n",
        "X = data.drop('status', axis=1).values\n",
        "\n",
        "X_train, X_test, y_train, y_test = train_test_split(X, y, test_size=0.33)\n",
        "\n",
        "dt = DecisionTreeClassifier(max_depth = 2)\n",
        "dt.fit(X_train,y_train)\n",
        "acc_train = dt.score(X_train,y_train)\n",
        "acc_test = dt.score(X_test,y_test)\n",
        "\n",
        "print('Accuracy decision tree on training set: ' + str(acc_train))\n",
        "print('Accuracy decision tree on test set: ' + str(acc_test))"
      ]
    },
    {
      "cell_type": "code",
      "execution_count": 7,
      "metadata": {
        "id": "kpxZBpXOZogm",
        "outputId": "fb7c5f18-4801-4a6d-87c8-14978e8a1db6",
        "colab": {
          "base_uri": "https://localhost:8080/"
        }
      },
      "outputs": [
        {
          "output_type": "stream",
          "name": "stdout",
          "text": [
            "Best hyperparameters: {'class_weight': None, 'criterion': 'entropy', 'max_depth': 5}\n",
            "Accuracy tuned decision tree on training set: 1.0\n",
            "Accuracy tuned decision tree on test set: 0.9521276595744681\n"
          ]
        }
      ],
      "source": [
        "## ALTERNATIVE ANSWER USING HYPERPARAMETER TUNING ##\n",
        "from sklearn.model_selection import train_test_split, GridSearchCV\n",
        "\n",
        "y = (data['status'] == \"M\").values.astype(int)\n",
        "X = data.drop('status', axis=1).values\n",
        "\n",
        "X_train, X_test, y_train, y_test = train_test_split(X, y, test_size=0.33)\n",
        "\n",
        "dt = DecisionTreeClassifier()\n",
        "\n",
        "parameter_grid = {\n",
        "    \"max_depth\": [2, 3, 4, 5],\n",
        "    \"criterion\": [\"gini\", \"entropy\"],\n",
        "    \"class_weight\": [None, \"balanced\"]\n",
        "    }\n",
        "\n",
        "clf = GridSearchCV(dt, parameter_grid)\n",
        "clf.fit(X_train,y_train)\n",
        "acc_train = clf.score(X_train,y_train)\n",
        "acc_test = clf.score(X_test,y_test)\n",
        "\n",
        "print(\"Best hyperparameters: \" + str(clf.best_params_))\n",
        "print('Accuracy tuned decision tree on training set: ' + str(acc_train))\n",
        "print('Accuracy tuned decision tree on test set: ' + str(acc_test))"
      ]
    },
    {
      "cell_type": "code",
      "execution_count": 8,
      "metadata": {
        "id": "C-UlRs_GZogn",
        "outputId": "ab939892-8364-4242-ddf1-c5b83fc71f44",
        "colab": {
          "base_uri": "https://localhost:8080/"
        }
      },
      "outputs": [
        {
          "output_type": "stream",
          "name": "stdout",
          "text": [
            "Best hyperparameters: {'class_weight': 'balanced', 'criterion': 'gini', 'max_depth': 3}\n",
            "Recall tuned decision tree on training set: 0.9666666666666667\n",
            "Recall tuned decision tree on test set: 0.9193548387096774\n"
          ]
        }
      ],
      "source": [
        "## ALTERNATIVE ANSWER USING HYPERPARAMETER TUNING + EVALUATING MODEL USING RECALL ##\n",
        "from sklearn.model_selection import train_test_split, GridSearchCV\n",
        "\n",
        "y = (data['status'] == \"M\").values.astype(int)\n",
        "X = data.drop('status', axis=1).values\n",
        "\n",
        "X_train, X_test, y_train, y_test = train_test_split(X, y, test_size=0.33)\n",
        "\n",
        "dt = DecisionTreeClassifier()\n",
        "\n",
        "parameter_grid = {\n",
        "    \"max_depth\": [2, 3, 4, 5],\n",
        "    \"criterion\": [\"gini\", \"entropy\"],\n",
        "    \"class_weight\": [None, \"balanced\"]\n",
        "    }\n",
        "\n",
        "clf = GridSearchCV(dt, parameter_grid, scoring = \"recall\")\n",
        "clf.fit(X_train,y_train)\n",
        "\n",
        "# Remember that .score() will use the function provided by the scoring=\"\" argument, so in this case, recall\n",
        "recall_train = clf.score(X_train,y_train) \n",
        "recall_test = clf.score(X_test,y_test)\n",
        "\n",
        "print(\"Best hyperparameters: \" + str(clf.best_params_))\n",
        "print('Recall tuned decision tree on training set: ' + str(recall_train))\n",
        "print('Recall tuned decision tree on test set: ' + str(recall_test))"
      ]
    },
    {
      "cell_type": "markdown",
      "metadata": {
        "id": "fKVYNDfaZogo"
      },
      "source": [
        "Written note on the answer:\n",
        "\n",
        "Note that I have supplied 3 separates answers here with increasing complexity. You can run all these three and see what they do. Keep in mind that comparing their scores is in this case here is not correct: we have made three separate splits in each solution. If we wanted to compare scores, we need to do it when using the same evaluation data.\n",
        "\n",
        "Also, in the last solution, we optimize for recall as this is compliant with the situation sketched above: if we use this pipeline as a preliminary test, we don't care about sending some people to the next round of testing by error, we care more for predicting every positive as positive, which is what recall achieves. [Wikipedia link for a refresher on precision and recall.](https://en.wikipedia.org/wiki/Precision_and_recall)"
      ]
    },
    {
      "cell_type": "markdown",
      "metadata": {
        "id": "5UKCaYOD5ayp"
      },
      "source": [
        "## Random Forests"
      ]
    },
    {
      "cell_type": "markdown",
      "metadata": {
        "id": "Xrs8n_Yu5ayp"
      },
      "source": [
        "Random Forests are a very popular method used in various fields, ranging from bioinformatics to data competitions (have a look at [this introduction](http://onlinelibrary.wiley.com/doi/10.1002/widm.1072/abstract)  for computational biologists and bioinformaticians). This is because they are known for their high performance, yet they are easy to implement. Random Forests make use of two kinds of randomization: \n",
        "- The method aggregates the result of individual unpruned trees, grown on bootstrap (sub)samples of the dataset; this is called _bagging_ (**b**ootstrap **agg**regat**ing**). \n",
        "- Whenever a decision tree makes a split, only a random subset of the present features are offered to the decision tree. \n",
        "\n",
        "Random Forests are part of a larger class of models which are called _ensemble models_. The power of ensemble methods can be attributed to some kind of [\"wisdom of the crowd\"](https://en.wikipedia.org/wiki/Wisdom_of_the_crowd) phenomenon: averaging the results of many \"simple\" models is often better than relying on one \"advanced\" model, just as the collective judgement of a large group of \"average\" persons may be more reliable than that from one \"expert\". For random forests, the two kinds of randomization (+ optionally other kinds of regularization) aid in making the individual trees \"simple\".\n",
        "\n",
        "\n",
        "\n",
        "After model fitting, for classification, a majority vote for all trees $T_m$ is taken to make a prediction for a new element $x_{new}$: \n",
        "\\begin{equation}\n",
        "\\hat{y}_{new} = 0 \\quad \\text{if} \\quad  \\sum_{m=1}^M T_m(x_{new}) / M < 0.5, \\\\\n",
        "\\hat{y}_{new} = 1 \\quad \\text{if} \\quad  \\sum_{m=1}^M T_m(x_{new}) / M > 0.5.   \n",
        "\\end{equation}\n",
        "\n",
        "For regression problems, the average across trees is simply taken.\n",
        "\n",
        "\n",
        "The [scikit-learn implementation](https://scikit-learn.org/stable/modules/generated/sklearn.ensemble.RandomForestClassifier.html) of random forests works similarly to that of decision trees, with some different parameters. The two most important hyperparameters are the number of trees that is grown and the number of subsetted features that is offered when making a split. The default values of these parameters usually lead to a good performance, although it is of course recommended to do some model selection."
      ]
    },
    {
      "cell_type": "markdown",
      "metadata": {
        "id": "Qm4dVVkC5ayq"
      },
      "source": [
        "<div class=\"alert alert-success\">\n",
        "\n",
        "<b>EXERCISE: \n",
        "<br>\n",
        "Repeat the previous model analysis. Use the same data split you made earlier. Investigate what features are important for prediction according to the model.\n",
        "</b>\n",
        "</div>\n",
        "\n",
        "At the end of this exercise, you will (normally) have one final score for your decision tree model and one for your random forest model, allowing comparison between the two.\n",
        "\n",
        "Let's say you worked for a hospital, and you wanted to report your results to the hospital department that would use your model and for instance say \"I have a model that is x% accurate\", would you use the scores obtained in this analysis?\n",
        "\n",
        "Additionally, how would you explain the feature importances to a biologist looking at your results? How do you think the feature importances are influenced by the feature resampling hyperparameter in the model?\n",
        "\n",
        "Note: If you implement tuning here, take note that for every model hyperparameter setup you are evaluating, you are in fact evaluating an ensemble of smaller models. I.e. Random forests are inherently more computationally demanding than single trees. What kind of effect does this has on your hyperparameter tuning, what can you do?"
      ]
    },
    {
      "cell_type": "code",
      "execution_count": 9,
      "metadata": {
        "id": "2NQYOiofZogq",
        "outputId": "5ebbcdea-d1d1-40ca-d516-d03d13c219f8",
        "colab": {
          "base_uri": "https://localhost:8080/"
        }
      },
      "outputs": [
        {
          "output_type": "stream",
          "name": "stdout",
          "text": [
            "Best hyperparameters: {'max_depth': 2, 'max_features': 0.75, 'max_samples': 0.75, 'n_estimators': 100}\n",
            "Recall tuned random forest on training set: 0.9166666666666666\n",
            "Recall tuned random forest on test set: 0.9705882352941176\n"
          ]
        }
      ],
      "source": [
        "## ALTERNATIVE ANSWER USING HYPERPARAMETER TUNING + EVALUATING MODEL USING RECALL ##\n",
        "from sklearn.model_selection import train_test_split, GridSearchCV\n",
        "from sklearn.ensemble import RandomForestClassifier\n",
        "\n",
        "y = (data['status'] == \"M\").values.astype(int)\n",
        "X = data.drop('status', axis=1).values\n",
        "\n",
        "X_train, X_test, y_train, y_test = train_test_split(X, y, test_size=0.33)\n",
        "\n",
        "rf = RandomForestClassifier()\n",
        "\n",
        "parameter_grid = {\n",
        "    \"max_depth\": [2, 3],\n",
        "    \"n_estimators\": [10, 50, 100],\n",
        "    \"max_features\": [0.5, 0.75],\n",
        "    \"max_samples\": [0.5, 0.75]\n",
        "    }\n",
        "\n",
        "clf = GridSearchCV(rf, parameter_grid, scoring = \"recall\")\n",
        "clf.fit(X_train,y_train)\n",
        "\n",
        "# Remember that .score() will use the function provided by the scoring=\"\" argument, so in this case, recall\n",
        "recall_train = clf.score(X_train,y_train) \n",
        "recall_test = clf.score(X_test,y_test)\n",
        "\n",
        "print(\"Best hyperparameters: \" + str(clf.best_params_))\n",
        "print('Recall tuned random forest on training set: ' + str(recall_train))\n",
        "print('Recall tuned random forest on test set: ' + str(recall_test))"
      ]
    },
    {
      "cell_type": "code",
      "execution_count": 10,
      "metadata": {
        "id": "1XZMrauCZogq",
        "outputId": "df50fee7-d9ea-42d8-9905-965e745ab535",
        "colab": {
          "base_uri": "https://localhost:8080/",
          "height": 767
        }
      },
      "outputs": [
        {
          "output_type": "display_data",
          "data": {
            "text/plain": [
              "<Figure size 432x288 with 1 Axes>"
            ],
            "image/png": "[encoded data removed]"
          },
          "metadata": {
            "needs_background": "light"
          }
        },
        {
          "output_type": "display_data",
          "data": {
            "text/plain": [
              "<Figure size 432x288 with 1 Axes>"
            ],
            "image/png": "[encoded data removed]"
          },
          "metadata": {
            "needs_background": "light"
          }
        }
      ],
      "source": [
        "# simple plot using the feature importance attribute in the RF object:\n",
        "plt.figure()\n",
        "plt.bar(\n",
        "    x = np.arange(X.shape[1]),\n",
        "    height = clf.best_estimator_.feature_importances_\n",
        "    )\n",
        "plt.ylabel('Feature importance')\n",
        "plt.xlabel('Feature index')\n",
        "plt.xticks(ticks = np.arange(X.shape[1]), labels = data.columns[1:], rotation = 90)\n",
        "\n",
        "# More elaborate using the features importances of all the trees in the RF object to get error bars:\n",
        "import seaborn as sns\n",
        "\n",
        "importances = np.array([tree.feature_importances_ for tree in clf.best_estimator_.estimators_])\n",
        "indices = np.array([np.arange(importances.shape[1]) for _ in range(importances.shape[0])])\n",
        "data_to_plot = pd.DataFrame([indices.reshape(-1), importances.reshape(-1)]).T\n",
        "data_to_plot[0] = data_to_plot[0].astype(int)\n",
        "plt.figure()\n",
        "sns.barplot(data = data_to_plot, x=0, y=1)\n",
        "plt.ylabel('Feature importance')\n",
        "plt.xlabel('Feature index')\n",
        "plt.xticks(ticks = np.arange(X.shape[1]), labels = data.columns[1:], rotation = 90)\n",
        "plt.show()"
      ]
    },
    {
      "cell_type": "markdown",
      "metadata": {
        "id": "xhrnnLFXZogr"
      },
      "source": [
        "## Extra: XGBoost\n",
        "\n",
        "Boosting is a subclass of ensembling in which (similarly) many simpler models team up to create a performant model. The difference is that in boosting, subsequent trees try to correct the mistakes of the previous one(s). The most famous example, XGBoost or eXtreme Gradient Boosting is a decision-tree-based algorithm that uses a gradient boosting framework. The algorithm was developed by Tianqi Chen and Carlos Guestrin and more details can be found [here](https://arxiv.org/pdf/1603.02754.pdf). The technique has managed to win numerous kaggle competitions and is currently tied to an active open source [project](https://github.com/dmlc/xgboost/). \n",
        "\n",
        "**Informally, performant boosting implementations such as XGBoost, [CatBoost](https://catboost.ai/) and [LightGBM](https://lightgbm.readthedocs.io/en/v3.3.2/), have been crowned as kings of machine learning on tabular, structured datasets. (As opposed to various deep learning architectures which have been informally crowned as kings of \"perceptual\", unstructured data such as, language, vision, audio, ...)**\n",
        "\n",
        "\n",
        "\n",
        "Some of the main characteristics that make XGboost an appealing choice include:\n",
        "- Can be used to solve different type of prediction problems (regression, classification, ranking)\n",
        "- Runs on every popular OS (Windows, Linux, and OS X)\n",
        "- Supports all major programming languages (C++, Python, R, Java, Scala, and Julia)\n",
        "\n",
        "\n",
        "The library we are going to use is quite flexible as it supports the following cases:\n",
        "\n",
        "- Trees are constructed in parallel using all of available CPU cores during training.\n",
        "- Very large models can use a cluster of machines in a distributed fashion.\n",
        "- Very large datasets that don’t fit into memory are handled with out-of-Core Computing.\n",
        "\n",
        "There is no additional exercise linked to XGBoost. It suffices to say that the XGBoost python package can be installed with the cell below and that the package uses a similar API as in scikit learn: `.fit()`, `.predict()`, ... More information on input arguments here: [XGBRegressor](https://xgboost.readthedocs.io/en/stable/python/python_api.html#xgboost.XGBRegressor) and [XGBClassifier](https://xgboost.readthedocs.io/en/stable/python/python_api.html#xgboost.XGBClassifier). We invite you to play around with the model by plugging XGBoost in the above exercise."
      ]
    },
    {
      "cell_type": "code",
      "execution_count": 11,
      "metadata": {
        "id": "svKCUctSZogr",
        "outputId": "bd1991ec-68b4-4691-f6e6-8b9f6b80160b",
        "colab": {
          "base_uri": "https://localhost:8080/"
        }
      },
      "outputs": [
        {
          "output_type": "stream",
          "name": "stdout",
          "text": [
            "Looking in indexes: https://pypi.org/simple, https://us-python.pkg.dev/colab-wheels/public/simple/\n",
            "Requirement already satisfied: xgboost in /usr/local/lib/python3.7/dist-packages (0.90)\n",
            "Requirement already satisfied: scipy in /usr/local/lib/python3.7/dist-packages (from xgboost) (1.7.3)\n",
            "Requirement already satisfied: numpy in /usr/local/lib/python3.7/dist-packages (from xgboost) (1.21.6)\n"
          ]
        }
      ],
      "source": [
        "!pip install xgboost"
      ]
    },
    {
      "cell_type": "markdown",
      "metadata": {
        "id": "tBg9YovwZogs"
      },
      "source": [
        "## Extra: Feature importance, correlation and causality"
      ]
    },
    {
      "cell_type": "markdown",
      "metadata": {
        "id": "77QDn_t_Zogs"
      },
      "source": [
        "Consider the three following causal graphs:\n",
        "\n",
        "<img src=\"https://raw.githubusercontent.com/gdewael/teaching/main/predmod/RF/RF.png\" width = 800>\n",
        "\n",
        "In scenario 1, we have two features that are (additively) influencing a prediction target `Y`, the second feature more noisily influencing the target than the first. There is also a feature that is unconnected to both other features and target.\n",
        "\n",
        "In scenario 2, the only feature causally influencing the target is the first, which also influences the second feature.\n",
        "\n",
        "In scenario 3, X1 still influences X2, which in turn influences the target.\n",
        "\n",
        "We can simulate these scenarios with some random variables:"
      ]
    },
    {
      "cell_type": "code",
      "execution_count": 12,
      "metadata": {
        "id": "nN1Y3YCBZogt"
      },
      "outputs": [],
      "source": [
        "# Scenario 1:\n",
        "\n",
        "X1 = np.random.randn(100)\n",
        "\n",
        "X2 = np.random.randn(100)\n",
        "\n",
        "Y = X1 + X2 * (np.random.randn(100) + 1) \n",
        "\n",
        "X3 = np.random.randn(100)\n",
        "\n",
        "X = np.stack([X1, X2, X3]).T"
      ]
    },
    {
      "cell_type": "code",
      "execution_count": 13,
      "metadata": {
        "id": "Kz8tWlIIZogt"
      },
      "outputs": [],
      "source": [
        "# Scenario 2\n",
        "X1 = np.random.randn(100)\n",
        "\n",
        "X2 = X1 + np.random.randn(100) / 5\n",
        "\n",
        "Y = X1 + np.random.randn(100) / 5\n",
        "\n",
        "X3 = np.random.randn(100)\n",
        "\n",
        "X = np.stack([X1, X2, X3]).T"
      ]
    },
    {
      "cell_type": "code",
      "execution_count": 14,
      "metadata": {
        "id": "UV3OsyATZogu"
      },
      "outputs": [],
      "source": [
        "# Scenario 3\n",
        "\n",
        "X1 = np.random.randn(100)\n",
        "\n",
        "X2 = X1 + np.random.randn(100) / 5\n",
        "\n",
        "Y = X2 + np.random.randn(100) / 5\n",
        "\n",
        "X3 = np.random.randn(100)\n",
        "\n",
        "X = np.stack([X1, X2, X3]).T"
      ]
    },
    {
      "cell_type": "markdown",
      "metadata": {
        "id": "4qwSOUkMZogu"
      },
      "source": [
        "<div class=\"alert alert-success\">\n",
        "\n",
        "<b>THOUGHT EXERCISE: \n",
        "<br>\n",
        "Run a cell corresponding to a scenario to get a simulated dataset, then run the cell below to get random forest feature importances. Do they confirm to what you want out of a model? What happens if you change the `max_features` argument to a value below 1?\n",
        "</b>\n",
        "</div>\n",
        "\n",
        "A similar analysis can be run using linear regression (L2 / ridge regularized) instead of random forests (max_features regularized). \n",
        "\n",
        "Ponder over these questions:\n",
        "- If our feature importances from ML are still correlative, and not causal, why are we doing ML at all? (As opposed to just computing statistical correlations between target and features)\n",
        "- If feature importances can be so easily tweaked with the arbitrary change of some hyperparameter, should we trust them?\n",
        "\n",
        "Causality in ML is out-of-scope for this course. For those interested, [this](https://towardsdatascience.com/be-careful-when-interpreting-predictive-models-in-search-of-causal-insights-e68626e664b6) is an excellent primer article introducing some key concepts of causal inference."
      ]
    },
    {
      "cell_type": "code",
      "execution_count": 15,
      "metadata": {
        "id": "zWr3SQaIZogv",
        "outputId": "4239908c-411e-4755-e3cd-cb1d9eb215e4",
        "colab": {
          "base_uri": "https://localhost:8080/"
        }
      },
      "outputs": [
        {
          "output_type": "execute_result",
          "data": {
            "text/plain": [
              "array([0.34294407, 0.6441575 , 0.01289843])"
            ]
          },
          "metadata": {},
          "execution_count": 15
        }
      ],
      "source": [
        "from sklearn.ensemble import RandomForestRegressor\n",
        "\n",
        "rf = RandomForestRegressor(max_features=1.).fit(X, Y)\n",
        "rf.feature_importances_"
      ]
    },
    {
      "cell_type": "markdown",
      "metadata": {
        "id": "T85_6V9_Zogv"
      },
      "source": [
        "Written answer:\n",
        "\n",
        "`max_features` has a regularizing effect similar to ridge regression, it forces the model to consider a potential correlation in each feature."
      ]
    }
  ],
  "metadata": {
    "language_info": {
      "name": "python"
    },
    "colab": {
      "provenance": []
    },
    "kernelspec": {
      "name": "python3",
      "display_name": "Python 3"
    }
  },
  "nbformat": 4,
  "nbformat_minor": 0
}