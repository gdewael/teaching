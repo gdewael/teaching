{
  "cells": [
    {
      "cell_type": "markdown",
      "metadata": {
        "id": "WrQv9yrEbWo3"
      },
      "source": [
        "# RNNs\n",
        "\n",
        "## Introduction\n",
        "\n",
        "Recurrent networks strictly operate on 1-D sequences. They can be used for a variety of tasks, pictured below:\n",
        "\n",
        "<img src=\"http://karpathy.github.io/assets/rnn/diags.jpeg\" width = 500>\n",
        "\n",
        "Examples of the settings in the picture:\n",
        "- one to one: vanilla MLPs that map a fixed size 1-D vector to a 1-D vector for classification or regression\n",
        "- one to many: Image captioning, given an input embedding (obtained with a CNN), a textual caption of variable length is generated.\n",
        "- many to one: (1) Sentence classification such as sentiment analysis or (2) image generation from text: in both cases variable input texts are given as input and a fixed dimensional output is generated.\n",
        "- many to many: (1) machine translation of a variable-length sentence to another variable-length sentence or (2) transcription of a variable-length .mp3 audio to a variable length text.\n",
        "- many to many (1to1 correspondence): (1) Video classification: one label for a variable number of frames in the video (the video frame embedding can be obtained with a CNN and then input into a RNN), (2) autoregressive language modeling: trying to predict the next word in the sentence, for generative purposes or (3) word classification: classify every word as belonging to a category.\n",
        "\n",
        "Note that these settings are not exclusive to recurrent neural networks. In fact, any network type that works on variable input sequences can be used towards these ends. Most famously of which are of course, Transformers, which have all but replaced RNNs in NLP and many other fields. An explanation and implementation of transformers is out of the scope of this course. It suffices to know that RNNs process input sequence sequentially through memory cells, whereas transformers do it in parallel through an $n \\times n$ attention matrix. Other than RNNs and Transformers, convolutional networks can also be used on variable length inputs: a 1D kernel can equally well convolve over a sequence of length $100$ as $1000$. It is only because of the linear layers at the end for classification requiring a specific number of input nodes that typical CNNs become applicable on only one specific input size."
      ]
    },
    {
      "cell_type": "markdown",
      "metadata": {
        "id": "PFhcwjLBbWo9"
      },
      "source": [
        "## Partim 1: Autoregressive modeling\n",
        "\n",
        "Autoregressive modeling is the task of trying to predict the next token in a sequence given which tokens came before it: $P(x_i | x_{i-1}, x_{i-2}, ..., x_1)$.\n",
        "\n",
        "In this PC-lab we will explore autoregressive modeling on a dataset close to home: a dataset published by the city of Ghent on how many cyclists pass by the bicycle counter at the Coupure.\n",
        "\n",
        "<img src=\"https://images0.persgroep.net/rcs/4cQwm-ofvb3eyIKMWnNf5axxLHg/diocontent/217261403/_fitwidth/694/?appId=21791a8992982cd8da851550a453bd7f&quality=0.8\" width = 500>"
      ]
    },
    {
      "cell_type": "code",
      "source": [
        "import pandas as pd\n",
        "import numpy as np\n",
        "import torch\n",
        "import torch.nn as nn\n",
        "\n",
        "import urllib.request\n",
        "urllib.request.urlretrieve(\"https://raw.githubusercontent.com/gdewael/teaching/main/predmod/RNNs/fietstelpaal-coupure-links-2022-gent.csv\", \"./data.csv\")\n",
        "\n",
        "data_raw = pd.read_csv(\"data.csv\", sep = \";\")\n",
        "\n",
        "data_raw"
      ],
      "metadata": {
        "id": "ArqjiofwdVJx",
        "outputId": "6f92089b-8417-4441-fd84-8655149bdbb0",
        "colab": {
          "base_uri": "https://localhost:8080/",
          "height": 424
        }
      },
      "execution_count": 1,
      "outputs": [
        {
          "output_type": "execute_result",
          "data": {
            "text/plain": [
              "      Code        Locatie       Datum Uur5Minuten                   Ordening  \\\n",
              "0      COU  Coupure-Links  2022-01-01     0:00:00  2022-01-01T00:00:00+01:00   \n",
              "1      COU  Coupure-Links  2022-01-01     0:05:00  2022-01-01T00:05:00+01:00   \n",
              "2      COU  Coupure-Links  2022-01-01     0:10:00  2022-01-01T00:10:00+01:00   \n",
              "3      COU  Coupure-Links  2022-01-01     0:15:00  2022-01-01T00:15:00+01:00   \n",
              "4      COU  Coupure-Links  2022-01-01     0:20:00  2022-01-01T00:20:00+01:00   \n",
              "...    ...            ...         ...         ...                        ...   \n",
              "61051  COU  Coupure-Links  2022-07-31    23:35:00  2022-07-31T23:35:00+02:00   \n",
              "61052  COU  Coupure-Links  2022-07-31    23:40:00  2022-07-31T23:40:00+02:00   \n",
              "61053  COU  Coupure-Links  2022-07-31    23:45:00  2022-07-31T23:45:00+02:00   \n",
              "61054  COU  Coupure-Links  2022-07-31    23:50:00  2022-07-31T23:50:00+02:00   \n",
              "61055  COU  Coupure-Links  2022-07-31    23:55:00  2022-07-31T23:55:00+02:00   \n",
              "\n",
              "       Totaal  Tegenrichting  Hoofdrichting  \n",
              "0         0.0            0.0            0.0  \n",
              "1         2.0            1.0            1.0  \n",
              "2         1.0            0.0            1.0  \n",
              "3         0.0            0.0            0.0  \n",
              "4         2.0            0.0            2.0  \n",
              "...       ...            ...            ...  \n",
              "61051     7.0            3.0            4.0  \n",
              "61052     3.0            3.0            0.0  \n",
              "61053     6.0            3.0            3.0  \n",
              "61054     3.0            1.0            2.0  \n",
              "61055     3.0            0.0            3.0  \n",
              "\n",
              "[61056 rows x 8 columns]"
            ],
            "text/html": [
              "\n",
              "  <div id=\"df-07854f86-45eb-4fa5-86a5-1629c0c346a2\">\n",
              "    <div class=\"colab-df-container\">\n",
              "      <div>\n",
              "<style scoped>\n",
              "    .dataframe tbody tr th:only-of-type {\n",
              "        vertical-align: middle;\n",
              "    }\n",
              "\n",
              "    .dataframe tbody tr th {\n",
              "        vertical-align: top;\n",
              "    }\n",
              "\n",
              "    .dataframe thead th {\n",
              "        text-align: right;\n",
              "    }\n",
              "</style>\n",
              "<table border=\"1\" class=\"dataframe\">\n",
              "  <thead>\n",
              "    <tr style=\"text-align: right;\">\n",
              "      <th></th>\n",
              "      <th>Code</th>\n",
              "      <th>Locatie</th>\n",
              "      <th>Datum</th>\n",
              "      <th>Uur5Minuten</th>\n",
              "      <th>Ordening</th>\n",
              "      <th>Totaal</th>\n",
              "      <th>Tegenrichting</th>\n",
              "      <th>Hoofdrichting</th>\n",
              "    </tr>\n",
              "  </thead>\n",
              "  <tbody>\n",
              "    <tr>\n",
              "      <th>0</th>\n",
              "      <td>COU</td>\n",
              "      <td>Coupure-Links</td>\n",
              "      <td>2022-01-01</td>\n",
              "      <td>0:00:00</td>\n",
              "      <td>2022-01-01T00:00:00+01:00</td>\n",
              "      <td>0.0</td>\n",
              "      <td>0.0</td>\n",
              "      <td>0.0</td>\n",
              "    </tr>\n",
              "    <tr>\n",
              "      <th>1</th>\n",
              "      <td>COU</td>\n",
              "      <td>Coupure-Links</td>\n",
              "      <td>2022-01-01</td>\n",
              "      <td>0:05:00</td>\n",
              "      <td>2022-01-01T00:05:00+01:00</td>\n",
              "      <td>2.0</td>\n",
              "      <td>1.0</td>\n",
              "      <td>1.0</td>\n",
              "    </tr>\n",
              "    <tr>\n",
              "      <th>2</th>\n",
              "      <td>COU</td>\n",
              "      <td>Coupure-Links</td>\n",
              "      <td>2022-01-01</td>\n",
              "      <td>0:10:00</td>\n",
              "      <td>2022-01-01T00:10:00+01:00</td>\n",
              "      <td>1.0</td>\n",
              "      <td>0.0</td>\n",
              "      <td>1.0</td>\n",
              "    </tr>\n",
              "    <tr>\n",
              "      <th>3</th>\n",
              "      <td>COU</td>\n",
              "      <td>Coupure-Links</td>\n",
              "      <td>2022-01-01</td>\n",
              "      <td>0:15:00</td>\n",
              "      <td>2022-01-01T00:15:00+01:00</td>\n",
              "      <td>0.0</td>\n",
              "      <td>0.0</td>\n",
              "      <td>0.0</td>\n",
              "    </tr>\n",
              "    <tr>\n",
              "      <th>4</th>\n",
              "      <td>COU</td>\n",
              "      <td>Coupure-Links</td>\n",
              "      <td>2022-01-01</td>\n",
              "      <td>0:20:00</td>\n",
              "      <td>2022-01-01T00:20:00+01:00</td>\n",
              "      <td>2.0</td>\n",
              "      <td>0.0</td>\n",
              "      <td>2.0</td>\n",
              "    </tr>\n",
              "    <tr>\n",
              "      <th>...</th>\n",
              "      <td>...</td>\n",
              "      <td>...</td>\n",
              "      <td>...</td>\n",
              "      <td>...</td>\n",
              "      <td>...</td>\n",
              "      <td>...</td>\n",
              "      <td>...</td>\n",
              "      <td>...</td>\n",
              "    </tr>\n",
              "    <tr>\n",
              "      <th>61051</th>\n",
              "      <td>COU</td>\n",
              "      <td>Coupure-Links</td>\n",
              "      <td>2022-07-31</td>\n",
              "      <td>23:35:00</td>\n",
              "      <td>2022-07-31T23:35:00+02:00</td>\n",
              "      <td>7.0</td>\n",
              "      <td>3.0</td>\n",
              "      <td>4.0</td>\n",
              "    </tr>\n",
              "    <tr>\n",
              "      <th>61052</th>\n",
              "      <td>COU</td>\n",
              "      <td>Coupure-Links</td>\n",
              "      <td>2022-07-31</td>\n",
              "      <td>23:40:00</td>\n",
              "      <td>2022-07-31T23:40:00+02:00</td>\n",
              "      <td>3.0</td>\n",
              "      <td>3.0</td>\n",
              "      <td>0.0</td>\n",
              "    </tr>\n",
              "    <tr>\n",
              "      <th>61053</th>\n",
              "      <td>COU</td>\n",
              "      <td>Coupure-Links</td>\n",
              "      <td>2022-07-31</td>\n",
              "      <td>23:45:00</td>\n",
              "      <td>2022-07-31T23:45:00+02:00</td>\n",
              "      <td>6.0</td>\n",
              "      <td>3.0</td>\n",
              "      <td>3.0</td>\n",
              "    </tr>\n",
              "    <tr>\n",
              "      <th>61054</th>\n",
              "      <td>COU</td>\n",
              "      <td>Coupure-Links</td>\n",
              "      <td>2022-07-31</td>\n",
              "      <td>23:50:00</td>\n",
              "      <td>2022-07-31T23:50:00+02:00</td>\n",
              "      <td>3.0</td>\n",
              "      <td>1.0</td>\n",
              "      <td>2.0</td>\n",
              "    </tr>\n",
              "    <tr>\n",
              "      <th>61055</th>\n",
              "      <td>COU</td>\n",
              "      <td>Coupure-Links</td>\n",
              "      <td>2022-07-31</td>\n",
              "      <td>23:55:00</td>\n",
              "      <td>2022-07-31T23:55:00+02:00</td>\n",
              "      <td>3.0</td>\n",
              "      <td>0.0</td>\n",
              "      <td>3.0</td>\n",
              "    </tr>\n",
              "  </tbody>\n",
              "</table>\n",
              "<p>61056 rows × 8 columns</p>\n",
              "</div>\n",
              "      <button class=\"colab-df-convert\" onclick=\"convertToInteractive('df-07854f86-45eb-4fa5-86a5-1629c0c346a2')\"\n",
              "              title=\"Convert this dataframe to an interactive table.\"\n",
              "              style=\"display:none;\">\n",
              "        \n",
              "  <svg xmlns=\"http://www.w3.org/2000/svg\" height=\"24px\"viewBox=\"0 0 24 24\"\n",
              "       width=\"24px\">\n",
              "    <path d=\"M0 0h24v24H0V0z\" fill=\"none\"/>\n",
              "    <path d=\"M18.56 5.44l.94 2.06.94-2.06 2.06-.94-2.06-.94-.94-2.06-.94 2.06-2.06.94zm-11 1L8.5 8.5l.94-2.06 2.06-.94-2.06-.94L8.5 2.5l-.94 2.06-2.06.94zm10 10l.94 2.06.94-2.06 2.06-.94-2.06-.94-.94-2.06-.94 2.06-2.06.94z\"/><path d=\"M17.41 7.96l-1.37-1.37c-.4-.4-.92-.59-1.43-.59-.52 0-1.04.2-1.43.59L10.3 9.45l-7.72 7.72c-.78.78-.78 2.05 0 2.83L4 21.41c.39.39.9.59 1.41.59.51 0 1.02-.2 1.41-.59l7.78-7.78 2.81-2.81c.8-.78.8-2.07 0-2.86zM5.41 20L4 18.59l7.72-7.72 1.47 1.35L5.41 20z\"/>\n",
              "  </svg>\n",
              "      </button>\n",
              "      \n",
              "  <style>\n",
              "    .colab-df-container {\n",
              "      display:flex;\n",
              "      flex-wrap:wrap;\n",
              "      gap: 12px;\n",
              "    }\n",
              "\n",
              "    .colab-df-convert {\n",
              "      background-color: #E8F0FE;\n",
              "      border: none;\n",
              "      border-radius: 50%;\n",
              "      cursor: pointer;\n",
              "      display: none;\n",
              "      fill: #1967D2;\n",
              "      height: 32px;\n",
              "      padding: 0 0 0 0;\n",
              "      width: 32px;\n",
              "    }\n",
              "\n",
              "    .colab-df-convert:hover {\n",
              "      background-color: #E2EBFA;\n",
              "      box-shadow: 0px 1px 2px rgba(60, 64, 67, 0.3), 0px 1px 3px 1px rgba(60, 64, 67, 0.15);\n",
              "      fill: #174EA6;\n",
              "    }\n",
              "\n",
              "    [theme=dark] .colab-df-convert {\n",
              "      background-color: #3B4455;\n",
              "      fill: #D2E3FC;\n",
              "    }\n",
              "\n",
              "    [theme=dark] .colab-df-convert:hover {\n",
              "      background-color: #434B5C;\n",
              "      box-shadow: 0px 1px 3px 1px rgba(0, 0, 0, 0.15);\n",
              "      filter: drop-shadow(0px 1px 2px rgba(0, 0, 0, 0.3));\n",
              "      fill: #FFFFFF;\n",
              "    }\n",
              "  </style>\n",
              "\n",
              "      <script>\n",
              "        const buttonEl =\n",
              "          document.querySelector('#df-07854f86-45eb-4fa5-86a5-1629c0c346a2 button.colab-df-convert');\n",
              "        buttonEl.style.display =\n",
              "          google.colab.kernel.accessAllowed ? 'block' : 'none';\n",
              "\n",
              "        async function convertToInteractive(key) {\n",
              "          const element = document.querySelector('#df-07854f86-45eb-4fa5-86a5-1629c0c346a2');\n",
              "          const dataTable =\n",
              "            await google.colab.kernel.invokeFunction('convertToInteractive',\n",
              "                                                     [key], {});\n",
              "          if (!dataTable) return;\n",
              "\n",
              "          const docLinkHtml = 'Like what you see? Visit the ' +\n",
              "            '<a target=\"_blank\" href=https://colab.research.google.com/notebooks/data_table.ipynb>data table notebook</a>'\n",
              "            + ' to learn more about interactive tables.';\n",
              "          element.innerHTML = '';\n",
              "          dataTable['output_type'] = 'display_data';\n",
              "          await google.colab.output.renderOutput(dataTable, element);\n",
              "          const docLink = document.createElement('div');\n",
              "          docLink.innerHTML = docLinkHtml;\n",
              "          element.appendChild(docLink);\n",
              "        }\n",
              "      </script>\n",
              "    </div>\n",
              "  </div>\n",
              "  "
            ]
          },
          "metadata": {},
          "execution_count": 1
        }
      ]
    },
    {
      "cell_type": "markdown",
      "source": [
        "For the PC lab, we will aggregate the individual 5-minute observations to hour-level observations. The following code processes the data:\n",
        "\n",
        "Think for yourself what the advantages and disadvantages are of working at this reduced temporal resolution."
      ],
      "metadata": {
        "id": "kux7BEuBemUS"
      }
    },
    {
      "cell_type": "code",
      "source": [
        "data_raw[\"Date_hour\"] = data_raw[\"Ordening\"].str.split(':', expand = True)[0]\n",
        "data_grouped = data_raw.groupby(\"Date_hour\").sum()\n",
        "data = pd.concat([data_grouped.index.to_series().str.split('T', expand = True), data_grouped[\"Totaal\"]], axis = 1).reset_index(drop = True)\n",
        "data.columns = ['Date', 'Hour', 'n']\n",
        "data = pd.concat([data, pd.DataFrame([[\"2022-03-27\", \"02\", 0.0]], columns = data.columns)], axis = 0).sort_values([\"Date\", \"Hour\"]) # ignore this line, this is because there is no observation for this date/hour\n",
        "data[\"n_norm\"] = data[\"n\"] / data[\"n\"].max() # we min-max normalize here for learning stability\n",
        "data"
      ],
      "metadata": {
        "id": "qRZFEx2Od2vd",
        "outputId": "6b25827c-2e5e-41c5-af9b-650997dbbbd6",
        "colab": {
          "base_uri": "https://localhost:8080/",
          "height": 424
        }
      },
      "execution_count": 2,
      "outputs": [
        {
          "output_type": "execute_result",
          "data": {
            "text/plain": [
              "            Date Hour      n    n_norm\n",
              "0     2022-01-01   00   30.0  0.018484\n",
              "1     2022-01-01   01  110.0  0.067776\n",
              "2     2022-01-01   02  117.0  0.072089\n",
              "3     2022-01-01   03  148.0  0.091189\n",
              "4     2022-01-01   04  150.0  0.092421\n",
              "...          ...  ...    ...       ...\n",
              "5082  2022-07-31   19  217.0  0.133703\n",
              "5083  2022-07-31   20  151.0  0.093038\n",
              "5084  2022-07-31   21  156.0  0.096118\n",
              "5085  2022-07-31   22  116.0  0.071473\n",
              "5086  2022-07-31   23   59.0  0.036352\n",
              "\n",
              "[5088 rows x 4 columns]"
            ],
            "text/html": [
              "\n",
              "  <div id=\"df-c6befe4e-5eb3-42d2-bca5-77f2d2b72039\">\n",
              "    <div class=\"colab-df-container\">\n",
              "      <div>\n",
              "<style scoped>\n",
              "    .dataframe tbody tr th:only-of-type {\n",
              "        vertical-align: middle;\n",
              "    }\n",
              "\n",
              "    .dataframe tbody tr th {\n",
              "        vertical-align: top;\n",
              "    }\n",
              "\n",
              "    .dataframe thead th {\n",
              "        text-align: right;\n",
              "    }\n",
              "</style>\n",
              "<table border=\"1\" class=\"dataframe\">\n",
              "  <thead>\n",
              "    <tr style=\"text-align: right;\">\n",
              "      <th></th>\n",
              "      <th>Date</th>\n",
              "      <th>Hour</th>\n",
              "      <th>n</th>\n",
              "      <th>n_norm</th>\n",
              "    </tr>\n",
              "  </thead>\n",
              "  <tbody>\n",
              "    <tr>\n",
              "      <th>0</th>\n",
              "      <td>2022-01-01</td>\n",
              "      <td>00</td>\n",
              "      <td>30.0</td>\n",
              "      <td>0.018484</td>\n",
              "    </tr>\n",
              "    <tr>\n",
              "      <th>1</th>\n",
              "      <td>2022-01-01</td>\n",
              "      <td>01</td>\n",
              "      <td>110.0</td>\n",
              "      <td>0.067776</td>\n",
              "    </tr>\n",
              "    <tr>\n",
              "      <th>2</th>\n",
              "      <td>2022-01-01</td>\n",
              "      <td>02</td>\n",
              "      <td>117.0</td>\n",
              "      <td>0.072089</td>\n",
              "    </tr>\n",
              "    <tr>\n",
              "      <th>3</th>\n",
              "      <td>2022-01-01</td>\n",
              "      <td>03</td>\n",
              "      <td>148.0</td>\n",
              "      <td>0.091189</td>\n",
              "    </tr>\n",
              "    <tr>\n",
              "      <th>4</th>\n",
              "      <td>2022-01-01</td>\n",
              "      <td>04</td>\n",
              "      <td>150.0</td>\n",
              "      <td>0.092421</td>\n",
              "    </tr>\n",
              "    <tr>\n",
              "      <th>...</th>\n",
              "      <td>...</td>\n",
              "      <td>...</td>\n",
              "      <td>...</td>\n",
              "      <td>...</td>\n",
              "    </tr>\n",
              "    <tr>\n",
              "      <th>5082</th>\n",
              "      <td>2022-07-31</td>\n",
              "      <td>19</td>\n",
              "      <td>217.0</td>\n",
              "      <td>0.133703</td>\n",
              "    </tr>\n",
              "    <tr>\n",
              "      <th>5083</th>\n",
              "      <td>2022-07-31</td>\n",
              "      <td>20</td>\n",
              "      <td>151.0</td>\n",
              "      <td>0.093038</td>\n",
              "    </tr>\n",
              "    <tr>\n",
              "      <th>5084</th>\n",
              "      <td>2022-07-31</td>\n",
              "      <td>21</td>\n",
              "      <td>156.0</td>\n",
              "      <td>0.096118</td>\n",
              "    </tr>\n",
              "    <tr>\n",
              "      <th>5085</th>\n",
              "      <td>2022-07-31</td>\n",
              "      <td>22</td>\n",
              "      <td>116.0</td>\n",
              "      <td>0.071473</td>\n",
              "    </tr>\n",
              "    <tr>\n",
              "      <th>5086</th>\n",
              "      <td>2022-07-31</td>\n",
              "      <td>23</td>\n",
              "      <td>59.0</td>\n",
              "      <td>0.036352</td>\n",
              "    </tr>\n",
              "  </tbody>\n",
              "</table>\n",
              "<p>5088 rows × 4 columns</p>\n",
              "</div>\n",
              "      <button class=\"colab-df-convert\" onclick=\"convertToInteractive('df-c6befe4e-5eb3-42d2-bca5-77f2d2b72039')\"\n",
              "              title=\"Convert this dataframe to an interactive table.\"\n",
              "              style=\"display:none;\">\n",
              "        \n",
              "  <svg xmlns=\"http://www.w3.org/2000/svg\" height=\"24px\"viewBox=\"0 0 24 24\"\n",
              "       width=\"24px\">\n",
              "    <path d=\"M0 0h24v24H0V0z\" fill=\"none\"/>\n",
              "    <path d=\"M18.56 5.44l.94 2.06.94-2.06 2.06-.94-2.06-.94-.94-2.06-.94 2.06-2.06.94zm-11 1L8.5 8.5l.94-2.06 2.06-.94-2.06-.94L8.5 2.5l-.94 2.06-2.06.94zm10 10l.94 2.06.94-2.06 2.06-.94-2.06-.94-.94-2.06-.94 2.06-2.06.94z\"/><path d=\"M17.41 7.96l-1.37-1.37c-.4-.4-.92-.59-1.43-.59-.52 0-1.04.2-1.43.59L10.3 9.45l-7.72 7.72c-.78.78-.78 2.05 0 2.83L4 21.41c.39.39.9.59 1.41.59.51 0 1.02-.2 1.41-.59l7.78-7.78 2.81-2.81c.8-.78.8-2.07 0-2.86zM5.41 20L4 18.59l7.72-7.72 1.47 1.35L5.41 20z\"/>\n",
              "  </svg>\n",
              "      </button>\n",
              "      \n",
              "  <style>\n",
              "    .colab-df-container {\n",
              "      display:flex;\n",
              "      flex-wrap:wrap;\n",
              "      gap: 12px;\n",
              "    }\n",
              "\n",
              "    .colab-df-convert {\n",
              "      background-color: #E8F0FE;\n",
              "      border: none;\n",
              "      border-radius: 50%;\n",
              "      cursor: pointer;\n",
              "      display: none;\n",
              "      fill: #1967D2;\n",
              "      height: 32px;\n",
              "      padding: 0 0 0 0;\n",
              "      width: 32px;\n",
              "    }\n",
              "\n",
              "    .colab-df-convert:hover {\n",
              "      background-color: #E2EBFA;\n",
              "      box-shadow: 0px 1px 2px rgba(60, 64, 67, 0.3), 0px 1px 3px 1px rgba(60, 64, 67, 0.15);\n",
              "      fill: #174EA6;\n",
              "    }\n",
              "\n",
              "    [theme=dark] .colab-df-convert {\n",
              "      background-color: #3B4455;\n",
              "      fill: #D2E3FC;\n",
              "    }\n",
              "\n",
              "    [theme=dark] .colab-df-convert:hover {\n",
              "      background-color: #434B5C;\n",
              "      box-shadow: 0px 1px 3px 1px rgba(0, 0, 0, 0.15);\n",
              "      filter: drop-shadow(0px 1px 2px rgba(0, 0, 0, 0.3));\n",
              "      fill: #FFFFFF;\n",
              "    }\n",
              "  </style>\n",
              "\n",
              "      <script>\n",
              "        const buttonEl =\n",
              "          document.querySelector('#df-c6befe4e-5eb3-42d2-bca5-77f2d2b72039 button.colab-df-convert');\n",
              "        buttonEl.style.display =\n",
              "          google.colab.kernel.accessAllowed ? 'block' : 'none';\n",
              "\n",
              "        async function convertToInteractive(key) {\n",
              "          const element = document.querySelector('#df-c6befe4e-5eb3-42d2-bca5-77f2d2b72039');\n",
              "          const dataTable =\n",
              "            await google.colab.kernel.invokeFunction('convertToInteractive',\n",
              "                                                     [key], {});\n",
              "          if (!dataTable) return;\n",
              "\n",
              "          const docLinkHtml = 'Like what you see? Visit the ' +\n",
              "            '<a target=\"_blank\" href=https://colab.research.google.com/notebooks/data_table.ipynb>data table notebook</a>'\n",
              "            + ' to learn more about interactive tables.';\n",
              "          element.innerHTML = '';\n",
              "          dataTable['output_type'] = 'display_data';\n",
              "          await google.colab.output.renderOutput(dataTable, element);\n",
              "          const docLink = document.createElement('div');\n",
              "          docLink.innerHTML = docLinkHtml;\n",
              "          element.appendChild(docLink);\n",
              "        }\n",
              "      </script>\n",
              "    </div>\n",
              "  </div>\n",
              "  "
            ]
          },
          "metadata": {},
          "execution_count": 2
        }
      ]
    },
    {
      "cell_type": "markdown",
      "source": [
        "Architecturally, autoregressive modeling of a timeseries looks like this:\n",
        "\n",
        "<img src=\"https://raw.githubusercontent.com/gdewael/teaching/main/predmod/RNNs/AR.png\" width = 500>\n",
        "\n",
        "For every point in the timeseries, the *input token* consists of the value at that timepoint and, optionally, extra covariates pertaining to that timepoint. Conceptually, this is similar to the channels in a CNN, as there we also had input tokens (e.g. pixels) with multiple values (e.g. the 3 RGB values) per token. In our case, extra covariates could be for example the hour at which that timepoint was taken. This input sequence will go into the RNN, which will keep a hidden layer which acts as a memory bank. The memory bank of every input will consist of a combination of the information at that time point and the information coming in from the memory cell at the previous time point. The specific way this information is brought together depends on the specific construction of the RNN. We refer you to the theory lectures for details. The most popular constructions are the LSTM and the GRU memory cells. For every timestep, the model outputs a vector which (for this purpose) needs to be linearly recombined to one number as our goal is to predict the value of the next timestep (i.e. a regression task).\n",
        "\n",
        "Code-wise, it is important to know that for a given sequence, we have an input $x$ consisting of the timepoints in that sequence, and an output $y$, consisting of the same points, but **shifted one time-step to the left**. **Because of the directionality of the RNN, for every time-step, it will predict the next point given only the preceding ones.**\n",
        "\n",
        "In this PC-lab, we will use the hour of the timepoint as covariate.\n",
        "\n",
        "For training, we can't put all days in to our model as one sample. Just like the reason for doing batches in other networks is that: it is more computationally efficient, and it allows us to have training steps on different parts of data with some stochasticity to it, allowing us to jump out of local minima.\n",
        "\n",
        "**For RNN, another reason is that our \"actual\" neural network depth is essentially decided by our input length**, so if we send in a sample containing a thousand input tokens, we also backpropagate through a thousand layers, and our computers will surely crash. In addition, it is not reasonable to assume the number of cyclists hundreds of days past still influences the number of cyclists now. So, the problem of batching our sequence becomes one of weighing two factors: how long of a sequence can our model handle, and how much context (in number of preceding tokens) do our models need for prediction?\n",
        "\n",
        "Here we will take a batch size of 48 as a default, meaning that our samples will always coincide with two consecutive days."
      ],
      "metadata": {
        "id": "45I4eXgtdUrm"
      }
    },
    {
      "cell_type": "code",
      "source": [
        "def generate_batches(sequence, seqlen = 48):\n",
        "    batches = []\n",
        "    for i in np.arange(0, len(sequence) - seqlen, seqlen):\n",
        "        batches.append(sequence[i:i+seqlen])\n",
        "    return torch.stack(batches)\n",
        "\n",
        "batches = generate_batches(torch.tensor(data[[\"Hour\", \"n_norm\"]].values.astype(np.float32)))"
      ],
      "metadata": {
        "id": "H_xO94-nfEUJ"
      },
      "execution_count": 3,
      "outputs": []
    },
    {
      "cell_type": "markdown",
      "source": [
        "Let's see how a sample looks like:"
      ],
      "metadata": {
        "id": "8DeB-YAajJye"
      }
    },
    {
      "cell_type": "code",
      "source": [
        "batches.shape"
      ],
      "metadata": {
        "id": "oV9G5RHzmiW1",
        "outputId": "b4dc96dc-41d6-436a-9d1f-bdae11a7a506",
        "colab": {
          "base_uri": "https://localhost:8080/"
        }
      },
      "execution_count": 4,
      "outputs": [
        {
          "output_type": "execute_result",
          "data": {
            "text/plain": [
              "torch.Size([105, 48, 2])"
            ]
          },
          "metadata": {},
          "execution_count": 4
        }
      ]
    },
    {
      "cell_type": "code",
      "source": [
        "batches[0]"
      ],
      "metadata": {
        "id": "kqNij14zjIlf",
        "outputId": "4a19ae31-a177-4534-d6a4-9c119d30b6d7",
        "colab": {
          "base_uri": "https://localhost:8080/"
        }
      },
      "execution_count": 5,
      "outputs": [
        {
          "output_type": "execute_result",
          "data": {
            "text/plain": [
              "tensor([[0.0000e+00, 1.8484e-02],\n",
              "        [1.0000e+00, 6.7776e-02],\n",
              "        [2.0000e+00, 7.2089e-02],\n",
              "        [3.0000e+00, 9.1189e-02],\n",
              "        [4.0000e+00, 9.2421e-02],\n",
              "        [5.0000e+00, 6.3463e-02],\n",
              "        [6.0000e+00, 4.3130e-02],\n",
              "        [7.0000e+00, 4.8059e-02],\n",
              "        [8.0000e+00, 2.3413e-02],\n",
              "        [9.0000e+00, 2.3413e-02],\n",
              "        [1.0000e+01, 3.2039e-02],\n",
              "        [1.1000e+01, 6.3463e-02],\n",
              "        [1.2000e+01, 7.5786e-02],\n",
              "        [1.3000e+01, 8.1947e-02],\n",
              "        [1.4000e+01, 1.0351e-01],\n",
              "        [1.5000e+01, 1.2138e-01],\n",
              "        [1.6000e+01, 1.2877e-01],\n",
              "        [1.7000e+01, 8.7492e-02],\n",
              "        [1.8000e+01, 6.5311e-02],\n",
              "        [1.9000e+01, 5.4837e-02],\n",
              "        [2.0000e+01, 4.1282e-02],\n",
              "        [2.1000e+01, 4.8675e-02],\n",
              "        [2.2000e+01, 4.3130e-02],\n",
              "        [2.3000e+01, 2.4646e-02],\n",
              "        [0.0000e+00, 1.3555e-02],\n",
              "        [1.0000e+00, 5.5453e-03],\n",
              "        [2.0000e+00, 2.4646e-03],\n",
              "        [3.0000e+00, 2.4646e-03],\n",
              "        [4.0000e+00, 1.8484e-03],\n",
              "        [5.0000e+00, 6.1614e-03],\n",
              "        [6.0000e+00, 1.3555e-02],\n",
              "        [7.0000e+00, 8.0099e-03],\n",
              "        [8.0000e+00, 1.9100e-02],\n",
              "        [9.0000e+00, 4.9291e-02],\n",
              "        [1.0000e+01, 6.9008e-02],\n",
              "        [1.1000e+01, 8.7492e-02],\n",
              "        [1.2000e+01, 1.0166e-01],\n",
              "        [1.3000e+01, 1.0474e-01],\n",
              "        [1.4000e+01, 9.3038e-02],\n",
              "        [1.5000e+01, 9.8583e-02],\n",
              "        [1.6000e+01, 1.0290e-01],\n",
              "        [1.7000e+01, 9.4270e-02],\n",
              "        [1.8000e+01, 9.4270e-02],\n",
              "        [1.9000e+01, 6.1614e-02],\n",
              "        [2.0000e+01, 6.5927e-02],\n",
              "        [2.1000e+01, 4.4978e-02],\n",
              "        [2.2000e+01, 3.9433e-02],\n",
              "        [2.3000e+01, 2.8343e-02]])"
            ]
          },
          "metadata": {},
          "execution_count": 5
        }
      ]
    },
    {
      "cell_type": "markdown",
      "source": [
        "We could give our input to the model like this, as the hour is a numerical value which can be interpreted using linear layers. It would make more sense to treat the hour variable as categorical and encode it using dummy variables (one-hot encoding)."
      ],
      "metadata": {
        "id": "Fogv0s--jiXD"
      }
    },
    {
      "cell_type": "code",
      "source": [
        "one_hot_hour = torch.nn.functional.one_hot(batches[:, :, 0].long())\n",
        "\n",
        "one_hot_hour.shape"
      ],
      "metadata": {
        "id": "1XAhDa7pmdNd",
        "outputId": "3c6b31bd-91aa-4aff-b7cf-4e7394f55bd2",
        "colab": {
          "base_uri": "https://localhost:8080/"
        }
      },
      "execution_count": 6,
      "outputs": [
        {
          "output_type": "execute_result",
          "data": {
            "text/plain": [
              "torch.Size([105, 48, 24])"
            ]
          },
          "metadata": {},
          "execution_count": 6
        }
      ]
    },
    {
      "cell_type": "code",
      "source": [
        "batches = torch.cat([batches[:, :, [1]], one_hot_hour], axis = 2)"
      ],
      "metadata": {
        "id": "1RTNwK3Amv21"
      },
      "execution_count": 7,
      "outputs": []
    },
    {
      "cell_type": "code",
      "source": [
        "batches.shape"
      ],
      "metadata": {
        "id": "5h43ZQWKm3G4",
        "outputId": "7b36641b-2fa9-404f-e154-55ad6d8f7d67",
        "colab": {
          "base_uri": "https://localhost:8080/"
        }
      },
      "execution_count": 8,
      "outputs": [
        {
          "output_type": "execute_result",
          "data": {
            "text/plain": [
              "torch.Size([105, 48, 25])"
            ]
          },
          "metadata": {},
          "execution_count": 8
        }
      ]
    },
    {
      "cell_type": "code",
      "source": [
        "batches[0]"
      ],
      "metadata": {
        "id": "Aw3OsNCom4Ic",
        "outputId": "16a16ad5-a780-407f-e763-89b6fdd2eaa6",
        "colab": {
          "base_uri": "https://localhost:8080/"
        }
      },
      "execution_count": 9,
      "outputs": [
        {
          "output_type": "execute_result",
          "data": {
            "text/plain": [
              "tensor([[0.0185, 1.0000, 0.0000,  ..., 0.0000, 0.0000, 0.0000],\n",
              "        [0.0678, 0.0000, 1.0000,  ..., 0.0000, 0.0000, 0.0000],\n",
              "        [0.0721, 0.0000, 0.0000,  ..., 0.0000, 0.0000, 0.0000],\n",
              "        ...,\n",
              "        [0.0450, 0.0000, 0.0000,  ..., 1.0000, 0.0000, 0.0000],\n",
              "        [0.0394, 0.0000, 0.0000,  ..., 0.0000, 1.0000, 0.0000],\n",
              "        [0.0283, 0.0000, 0.0000,  ..., 0.0000, 0.0000, 1.0000]])"
            ]
          },
          "metadata": {},
          "execution_count": 9
        }
      ]
    },
    {
      "cell_type": "markdown",
      "source": [
        "### RNNs in PyTorch\n",
        "\n",
        "In this PC-lab we will use the GRU, but note that other RNN-types work similarly in PyTorch.\n",
        "\n",
        "[Documentation for the GRU](https://pytorch.org/docs/stable/generated/torch.nn.GRU.html)\n",
        "\n",
        "Extra note: The weird shape expectations (such as not expecting batches to come first by default) are a consequence of optimizations that PyTorch has implemented so the RNNs run efficiently on data with variable input sequence lengths (such as sentences). For this PC lab, we have batched our sequences so that they have constant sequence length, so we can add the argument `batch_first = True`.\n",
        "\n",
        "Let's create a GRU and some toy data to see how it all works:"
      ],
      "metadata": {
        "id": "autQkT0vn_L5"
      }
    },
    {
      "cell_type": "code",
      "source": [
        "gru = nn.GRU(input_size = 64, hidden_size = 512, batch_first = True)"
      ],
      "metadata": {
        "id": "m_Z39C9soQXX"
      },
      "execution_count": 10,
      "outputs": []
    },
    {
      "cell_type": "code",
      "source": [
        "x = torch.randn(2, 50, 64)\n",
        "output, h_n = gru(x)\n",
        "output.shape, h_n.shape"
      ],
      "metadata": {
        "id": "6XU72dghoRnu",
        "outputId": "d33e607c-5ffa-4fc7-a675-f2203ed16cbb",
        "colab": {
          "base_uri": "https://localhost:8080/"
        }
      },
      "execution_count": 11,
      "outputs": [
        {
          "output_type": "execute_result",
          "data": {
            "text/plain": [
              "(torch.Size([2, 50, 512]), torch.Size([1, 2, 512]))"
            ]
          },
          "metadata": {},
          "execution_count": 11
        }
      ]
    },
    {
      "cell_type": "markdown",
      "source": [
        "Explanation of the outputs: `h_n` is the hidden representation of the last hidden memory cell. It can be seen as a summarized representation of the content of the whole input (if one wants a single output for a whole sequence as in e.g. sentence classification). `output` will return the output representation of the RNN for every input token. (Look back at the picture in the introduction of this part of the PC lab (Section 2.1) for more intuition as to when to use what outputs of the RNN)"
      ],
      "metadata": {
        "id": "y7h1DZBHoX9o"
      }
    },
    {
      "cell_type": "markdown",
      "source": [
        "For autoregressive modeling of time series, we should have an output for every input, mainly: the prediction of the next timepoint. For our purpose, we are interested to predict a single output per timepoint, whereas we can see that this is not the case for our GRU model as it is now. We can remedy this with a simple linear layer \n",
        "\n",
        "<div class=\"alert alert-success\">\n",
        "\n",
        "<b>EXERCISE:</b> \n",
        "<p> Implement an autoregressive GRU for cycler forecasting by completing the code below. The model should contain a recurrent layer, and a layer that takes the outputs of the GRU at each timestep and manipulates their dimensions so that the output dimensionality of each token is equal to one. Keep in mind how many input variables we have in our dataset. (Look at the $batches$ variable).\n",
        "</p>\n",
        "\n",
        "</div>\n",
        "\n",
        "Test your model with some toy data down below.\n",
        "\n"
      ],
      "metadata": {
        "id": "1jPd_xQpolKr"
      }
    },
    {
      "cell_type": "code",
      "source": [
        "class CyclerForecaster(nn.Module):\n",
        "    # def __init__() ....\n",
        "    \n",
        "    # def forward() ...."
      ],
      "metadata": {
        "id": "13mJg1lqomei"
      },
      "execution_count": 12,
      "outputs": []
    },
    {
      "cell_type": "code",
      "source": [
        "model = CyclerForecaster()\n",
        "\n",
        "x = torch.randn(2, 48, 25)\n",
        "\n",
        "y = model(x)\n",
        "\n",
        "y.shape"
      ],
      "metadata": {
        "id": "PPgN3P4NpvJL",
        "outputId": "a026e94a-930a-47ed-d8e3-9d1576d7d385",
        "colab": {
          "base_uri": "https://localhost:8080/"
        }
      },
      "execution_count": 13,
      "outputs": [
        {
          "output_type": "execute_result",
          "data": {
            "text/plain": [
              "torch.Size([2, 48, 1])"
            ]
          },
          "metadata": {},
          "execution_count": 13
        }
      ]
    },
    {
      "cell_type": "markdown",
      "source": [
        "To create an input and an output, we have to do the above-mentioned shifting. In practice, this means that we take all but the last timepoints to create X, and all but the first timepoints to create Y, hence creating shifted X,y pairs.\n",
        "\n",
        "Additionally, for y, we only want to keep the first variable, meaning the number of cyclists itself."
      ],
      "metadata": {
        "id": "QwqJ1fTpnCWa"
      }
    },
    {
      "cell_type": "code",
      "source": [
        "X = batches[:, :-1]\n",
        "\n",
        "y = batches[:, 1:]\n",
        "y = y[:, :, [0]]\n",
        "\n",
        "print(X.shape, y.shape)"
      ],
      "metadata": {
        "id": "XMw9_32bf9hj",
        "outputId": "95c56ca1-05b3-4779-ed0c-82140a35671b",
        "colab": {
          "base_uri": "https://localhost:8080/"
        }
      },
      "execution_count": 14,
      "outputs": [
        {
          "output_type": "stream",
          "name": "stdout",
          "text": [
            "torch.Size([105, 47, 25]) torch.Size([105, 47, 1])\n"
          ]
        }
      ]
    },
    {
      "cell_type": "markdown",
      "source": [
        "Data splitting:"
      ],
      "metadata": {
        "id": "Shw0wQUNrLiz"
      }
    },
    {
      "cell_type": "code",
      "source": [
        "X_train = X[:int(batches.shape[0] * 0.80)]\n",
        "X_test = X[int(batches.shape[0] * 0.80):]\n",
        "\n",
        "y_train = y[:int(batches.shape[0] * 0.80)]\n",
        "y_test = y[int(batches.shape[0] * 0.80):]\n",
        "\n",
        "train_dataset = torch.utils.data.TensorDataset(X_train, y_train)\n",
        "train_dataloader = torch.utils.data.DataLoader(train_dataset, batch_size = 8, shuffle = True)\n",
        "\n",
        "test_dataset = torch.utils.data.TensorDataset(X_test, y_test)\n",
        "test_dataloader = torch.utils.data.DataLoader(test_dataset, batch_size = 8, shuffle = True)"
      ],
      "metadata": {
        "id": "yvr5sBhDhR5G"
      },
      "execution_count": 15,
      "outputs": []
    },
    {
      "cell_type": "markdown",
      "source": [
        "Note that we are just taking the first 80% of the data as training and the last 20% as validation set. Normally, we shuffle our data so that we are not biased. In this case, however, we can make a case for doing it our way: because the samples are ordered by day and month, the last samples will be from the summer months, where we may expect different patterns (June: exams, July: vacations)."
      ],
      "metadata": {
        "id": "tM5AD2u7rNA2"
      }
    },
    {
      "cell_type": "markdown",
      "source": [
        "<div class=\"alert alert-success\">\n",
        "\n",
        "<b>EXERCISE:</b> \n",
        "<p> Implement the training loop for the Cycler Forecaster using the same principles from last PC labs. Keep in mind that unlike previous PC labs, we are now training a regression task. You will also need to up the number of epochs as our dataset is quite small and each epoch only constitutes a small number of training steps.\n",
        "</p>\n",
        "\n",
        "</div>\n"
      ],
      "metadata": {
        "id": "DmpFl85TvvF0"
      }
    },
    {
      "cell_type": "code",
      "source": [
        "# YOUR CODE HERE"
      ],
      "metadata": {
        "id": "RclHsVTChfYQ",
        "outputId": "4fd20463-92d5-4d0e-e585-52dadd27a5aa",
        "colab": {
          "base_uri": "https://localhost:8080/"
        }
      },
      "execution_count": 16,
      "outputs": [
        {
          "output_type": "stream",
          "name": "stdout",
          "text": [
            "1 \t 0.03358017704026266 0.014260758024950823\n",
            "2 \t 0.022255422886122356 0.013017560355365276\n",
            "3 \t 0.018317396921867676 0.008957142165551582\n",
            "4 \t 0.01631992852145975 0.008109785305956999\n",
            "5 \t 0.014619241045279936 0.007456693798303604\n",
            "6 \t 0.013603395951742476 0.006640912344058354\n",
            "7 \t 0.01268506558103995 0.007570295594632626\n",
            "8 \t 0.011600302701646631 0.0062660824817915755\n",
            "9 \t 0.011151947758414528 0.0061478678447504835\n",
            "10 \t 0.010921543252400377 0.006303341904034217\n",
            "11 \t 0.009926259221339767 0.005764352778593699\n",
            "12 \t 0.009286542126739567 0.005982717343916495\n",
            "13 \t 0.00902464659884572 0.005551665400465329\n",
            "14 \t 0.008533154063942757 0.005680675773570935\n",
            "15 \t 0.008367786437950352 0.005351261080553134\n",
            "16 \t 0.00788063636388291 0.005667558793599407\n",
            "17 \t 0.007681403605436737 0.005677871871739626\n",
            "18 \t 0.00749978833747181 0.00541086137915651\n",
            "19 \t 0.00736408494412899 0.005466603363553683\n",
            "20 \t 0.0072890376587483015 0.005492558392385642\n",
            "21 \t 0.007246947423978286 0.005583121286084254\n",
            "22 \t 0.007192356808280403 0.0057105667268236475\n",
            "23 \t 0.0072058561596680774 0.005714707852651675\n",
            "24 \t 0.0069294453344561835 0.005657097014288108\n",
            "25 \t 0.006884835110130635 0.005491420005758603\n",
            "26 \t 0.006932115055282007 0.005583302117884159\n",
            "27 \t 0.006774316414852034 0.0053917281329631805\n",
            "28 \t 0.006700993092222648 0.005479070513198773\n",
            "29 \t 0.006719759284433993 0.0056643726614614325\n",
            "30 \t 0.006855718410489234 0.005411922310789426\n",
            "31 \t 0.006714187562465668 0.0052728244724373026\n",
            "32 \t 0.006549454167146574 0.005411859912176927\n",
            "33 \t 0.006611379413780841 0.005328240183492501\n",
            "34 \t 0.006553571078587662 0.005388357676565647\n",
            "35 \t 0.006358999610793861 0.005554337985813618\n",
            "36 \t 0.006288800261576067 0.0051999955127636594\n",
            "37 \t 0.006188508715819229 0.005389757299174865\n",
            "38 \t 0.006251788486472585 0.005243639461696148\n",
            "39 \t 0.006200695325705138 0.004932595261683066\n",
            "40 \t 0.006089064588939602 0.005344299289087455\n",
            "41 \t 0.006029447963969274 0.005205122753977776\n",
            "42 \t 0.005911685526371002 0.005251990010341008\n",
            "43 \t 0.005957206330177459 0.005125388658295075\n",
            "44 \t 0.005759875120764429 0.005041575524955988\n",
            "45 \t 0.005843313093381849 0.0052438102041681605\n",
            "46 \t 0.005723959935659712 0.00505265174433589\n",
            "47 \t 0.005669530205936594 0.004664864003037413\n",
            "48 \t 0.005579979201270776 0.004728903993964195\n",
            "49 \t 0.005470648788931695 0.004860384777809183\n",
            "50 \t 0.005406801927496086 0.0048668463714420795\n",
            "51 \t 0.005384284283288501 0.004866462045659621\n",
            "52 \t 0.005360056011175568 0.004571504658088088\n",
            "53 \t 0.005262066864154555 0.004592568535978596\n",
            "54 \t 0.005233429647474127 0.004420080222189426\n",
            "55 \t 0.005101094826717268 0.004506953060626984\n",
            "56 \t 0.005047412165863948 0.004496365863208969\n",
            "57 \t 0.004877232840623368 0.004404638738681872\n",
            "58 \t 0.004976375769315796 0.004517884614566962\n",
            "59 \t 0.004879733293571256 0.004349092797686656\n",
            "60 \t 0.0048528880896893415 0.004313317282746236\n",
            "61 \t 0.00468868772837926 0.004134625739728411\n",
            "62 \t 0.004554550629109144 0.004061069727564852\n",
            "63 \t 0.004579083845865997 0.003940126625820994\n",
            "64 \t 0.004485071679069238 0.004035216678554813\n",
            "65 \t 0.004461593693122268 0.004077837414418657\n",
            "66 \t 0.004500586476007646 0.003830199595540762\n",
            "67 \t 0.0044787149368362 0.003886752218628923\n",
            "68 \t 0.004515204155309634 0.003951317553098003\n",
            "69 \t 0.004329906607216055 0.003787278663367033\n",
            "70 \t 0.00432213315401565 0.003791935664291183\n",
            "71 \t 0.004220281092619354 0.0037600479554384947\n",
            "72 \t 0.0042187788481400776 0.003685710486024618\n",
            "73 \t 0.004139383090659976 0.003784752373273174\n",
            "74 \t 0.004105709006332539 0.0037591105016569295\n",
            "75 \t 0.0041772155302830715 0.003760693750033776\n",
            "76 \t 0.004172000631859357 0.0036551281033704677\n",
            "77 \t 0.00411135982722044 0.003983865569656094\n",
            "78 \t 0.004034369887614792 0.003827640941987435\n",
            "79 \t 0.004198150688105009 0.0036355940780291953\n",
            "80 \t 0.003980624870481816 0.0037725477013736963\n",
            "81 \t 0.0038766257295554333 0.0035199406556785107\n",
            "82 \t 0.00381731212308461 0.003477552362407247\n",
            "83 \t 0.0038785838352685623 0.003397244649628798\n",
            "84 \t 0.003776233410462737 0.0037229148050149283\n",
            "85 \t 0.003761355997994542 0.003414300736039877\n",
            "86 \t 0.0036745357581160283 0.003318574745208025\n",
            "87 \t 0.0035802552222528243 0.0031015354519089064\n",
            "88 \t 0.0035845465450124307 0.003195870667695999\n",
            "89 \t 0.0035527482501823793 0.003043689842646321\n",
            "90 \t 0.003546379633586515 0.0032126205042004585\n",
            "91 \t 0.0034351856024427848 0.0031429283941785493\n",
            "92 \t 0.003416837849230929 0.003011055833970507\n",
            "93 \t 0.0033896784509786153 0.0031316311409076056\n",
            "94 \t 0.003332418156787753 0.0030246719252318144\n",
            "95 \t 0.003291061402044513 0.0031984448432922363\n",
            "96 \t 0.003342895768582821 0.003063417117421826\n",
            "97 \t 0.003225411690602248 0.0031795470664898553\n",
            "98 \t 0.003241498383100737 0.0032711834646761417\n",
            "99 \t 0.003144312014972622 0.0030526849441230297\n",
            "100 \t 0.0030744164568287406 0.0030222943363090358\n",
            "101 \t 0.0030554952946576204 0.0027670306153595448\n",
            "102 \t 0.0030360787217928605 0.002780845699210962\n",
            "103 \t 0.0030937055760825224 0.0026843815576285124\n",
            "104 \t 0.0030290303243832154 0.0025076520396396518\n",
            "105 \t 0.002899050987748937 0.0026696916514386735\n",
            "106 \t 0.002872054274617271 0.0026274967628220716\n",
            "107 \t 0.0028348729988052087 0.0027660876512527466\n",
            "108 \t 0.0028516896153715525 0.002733886086692413\n",
            "109 \t 0.0028129651380533523 0.002748020381356279\n",
            "110 \t 0.002735778064975007 0.0025372597544143596\n",
            "111 \t 0.0027874266644093123 0.0025352127850055695\n",
            "112 \t 0.0028735246212983675 0.0023490937116245427\n",
            "113 \t 0.002730324017730626 0.0025989077209184566\n",
            "114 \t 0.0026210915000939913 0.0025444251174728074\n",
            "115 \t 0.002690380925989964 0.0022914312624682984\n",
            "116 \t 0.0026518032589757986 0.002371345336238543\n",
            "117 \t 0.002525744038972665 0.002461301162838936\n",
            "118 \t 0.0024850392311980777 0.0023884538871546588\n",
            "119 \t 0.0024674444734542208 0.002363160407791535\n",
            "120 \t 0.0024818438846109943 0.002316193732743462\n",
            "121 \t 0.0024337127317928457 0.002465346362441778\n",
            "122 \t 0.002445315656421537 0.002486937213689089\n",
            "123 \t 0.002417078305205161 0.0024144131845484176\n",
            "124 \t 0.0023263855625621295 0.002138100292844077\n",
            "125 \t 0.0023242386100305753 0.002342749542246262\n",
            "126 \t 0.0023501604604958134 0.002264399314299226\n",
            "127 \t 0.0023312836737287316 0.0022781328298151493\n",
            "128 \t 0.0023119343042542987 0.0022749333487202725\n",
            "129 \t 0.0022675782251595097 0.0021486612192044654\n",
            "130 \t 0.0023859823016788473 0.0024800709603975215\n",
            "131 \t 0.0022654176626185126 0.0022001156272987523\n",
            "132 \t 0.0022328017406504264 0.002291079688196381\n",
            "133 \t 0.0021659585075791588 0.0022261164461572966\n",
            "134 \t 0.002216397520070049 0.0024971823828915754\n",
            "135 \t 0.0021880978760732846 0.0020720758475363255\n",
            "136 \t 0.002101266671988097 0.0023965816168735423\n",
            "137 \t 0.002097379987720739 0.00210383414135625\n",
            "138 \t 0.0021179721754213624 0.0020374179584905505\n",
            "139 \t 0.0020674725105478005 0.0022852522476265826\n",
            "140 \t 0.0020092084199528804 0.0020803670243670544\n",
            "141 \t 0.002172405725683678 0.0022190470869342485\n",
            "142 \t 0.0020482818680730734 0.001915283656368653\n",
            "143 \t 0.0020848200762305746 0.0023177500115707517\n",
            "144 \t 0.0019711331697180867 0.001981299021281302\n",
            "145 \t 0.0019909405382350087 0.0020369893948857984\n",
            "146 \t 0.001979276167482815 0.0022452127498884997\n",
            "147 \t 0.0019240390445867722 0.0021824506111443043\n",
            "148 \t 0.0019090884492139924 0.002062881598249078\n",
            "149 \t 0.0018975901607932015 0.0021160958567634225\n",
            "150 \t 0.0018660867248069155 0.0019048927739883463\n",
            "151 \t 0.0018940707986158404 0.00217478823227187\n",
            "152 \t 0.0018697837473485958 0.0019141186494380236\n",
            "153 \t 0.0019001285333863714 0.0019086392130702734\n",
            "154 \t 0.0018530804240568118 0.002100880490615964\n",
            "155 \t 0.0018198652065951717 0.001982811993608872\n",
            "156 \t 0.0018360948888584971 0.0019841103348881006\n",
            "157 \t 0.0018321382072330875 0.001872496446594596\n",
            "158 \t 0.001762326383455233 0.002151927833134929\n",
            "159 \t 0.0017612038645893335 0.001919639917711417\n",
            "160 \t 0.0017581896179101684 0.0020192902302369475\n",
            "161 \t 0.0017368061975999312 0.0019457224213207762\n",
            "162 \t 0.0017029299104416912 0.0019131531783690054\n",
            "163 \t 0.0017665779662572525 0.002231389284133911\n",
            "164 \t 0.0017300495369867845 0.0017563016541923087\n",
            "165 \t 0.0017002500297332351 0.0020950845597932735\n",
            "166 \t 0.0017214079006490383 0.0020973716552058854\n",
            "167 \t 0.0016930323115295985 0.001911610869380335\n",
            "168 \t 0.0016787373249165037 0.002047021252413591\n",
            "169 \t 0.0016780080570077355 0.0018180767850329478\n",
            "170 \t 0.0017221505669030275 0.0018265126661087077\n",
            "171 \t 0.0017554262674159625 0.002020985664178928\n",
            "172 \t 0.0016392319653691216 0.002086629858240485\n",
            "173 \t 0.0016704176510260863 0.0018514638456205528\n",
            "174 \t 0.0016369860492308032 0.00195549459507068\n",
            "175 \t 0.0017119874140586364 0.001979942782782018\n",
            "176 \t 0.001608774986710738 0.001757278883208831\n",
            "177 \t 0.0016191372838379307 0.0020114287035539746\n",
            "178 \t 0.0015982640907168388 0.001984118988427023\n",
            "179 \t 0.0015993609982119365 0.001778447728914519\n",
            "180 \t 0.0016165989535776052 0.0018419233771661918\n",
            "181 \t 0.001595433748496527 0.0020746357816581926\n",
            "182 \t 0.0015954367435452614 0.0018752360095580418\n",
            "183 \t 0.0015977901851081035 0.001873987726867199\n",
            "184 \t 0.0015398967503146691 0.001778412804317971\n",
            "185 \t 0.0015414093134247444 0.001961992161038021\n",
            "186 \t 0.0015257461927831173 0.0018790225343157847\n",
            "187 \t 0.0015351980056783016 0.0020032733445987105\n",
            "188 \t 0.0015516241758384488 0.0017514409264549613\n",
            "189 \t 0.0015234878413717854 0.0018885768949985504\n",
            "190 \t 0.0015214348148385232 0.0017686128073061507\n",
            "191 \t 0.0015214841537685556 0.0019406239734962583\n",
            "192 \t 0.0016070595116947186 0.00186993891838938\n",
            "193 \t 0.0016241448359902608 0.001713975565508008\n",
            "194 \t 0.0015056058023632927 0.0017547681151578824\n",
            "195 \t 0.0014976597687398846 0.0018566371873021126\n",
            "196 \t 0.0014652435202151537 0.0017917266037936013\n",
            "197 \t 0.001489940490996973 0.0018282414336378376\n",
            "198 \t 0.0014866952128200369 0.0018295121844857931\n",
            "199 \t 0.001516238500533456 0.0018035114820425708\n",
            "200 \t 0.0015164946142414753 0.0019527943804860115\n",
            "201 \t 0.001505025683648207 0.001786924743403991\n",
            "202 \t 0.0014632307839664545 0.001767409189293782\n",
            "203 \t 0.0014598011145029557 0.0020203775881479182\n",
            "204 \t 0.0014615992761471055 0.0017327277067427833\n",
            "205 \t 0.0014465080298991365 0.0017931831534951925\n",
            "206 \t 0.0014455933441323314 0.0017714700661599636\n",
            "207 \t 0.0014421580973165956 0.0018497169173012178\n",
            "208 \t 0.0014497114832259037 0.001636409394753476\n",
            "209 \t 0.0014748543670231645 0.0018155603902414441\n",
            "210 \t 0.0014246357710693371 0.0017705934199814994\n",
            "211 \t 0.0014253837712617083 0.0017865602082262437\n",
            "212 \t 0.0014340514528819106 0.0018404256940508883\n",
            "213 \t 0.001429257977923209 0.0016504044954975445\n",
            "214 \t 0.001436235827647827 0.0017843344248831272\n",
            "215 \t 0.0014421872328966856 0.0018606838614990313\n",
            "216 \t 0.001427869735793634 0.0015743667803083856\n",
            "217 \t 0.0014288160336119208 0.0017716767033562064\n",
            "218 \t 0.0013921146535060623 0.001813350012525916\n",
            "219 \t 0.0014108443548056212 0.0017523102772732575\n",
            "220 \t 0.0014230320865119045 0.0016929131622115772\n",
            "221 \t 0.0013906411159868267 0.0017520391071836154\n",
            "222 \t 0.0013978287831626155 0.00196801316148291\n",
            "223 \t 0.001450147818435322 0.0016440397206073005\n",
            "224 \t 0.0014377290340648456 0.0017687712485591571\n",
            "225 \t 0.001417169675484977 0.0017972851637750864\n",
            "226 \t 0.001368126673200591 0.0016730930268143613\n",
            "227 \t 0.0013748797672716055 0.0016903491923585534\n",
            "228 \t 0.001360311744395982 0.0017122726033752163\n",
            "229 \t 0.001369087036106397 0.00174926135999461\n",
            "230 \t 0.001346999483013695 0.0016852062738810976\n",
            "231 \t 0.0013702084754847667 0.0018013471271842718\n",
            "232 \t 0.0013446771666746247 0.0016115234078218539\n",
            "233 \t 0.0013661043485626578 0.0018427881489818294\n",
            "234 \t 0.001354404926215383 0.0016550789199148614\n",
            "235 \t 0.0013413530118255453 0.0015916050955032308\n",
            "236 \t 0.0013710412789474833 0.0019023868953809142\n",
            "237 \t 0.0013399600072509863 0.0017230672140916188\n",
            "238 \t 0.0013472670371728864 0.0016332692854727309\n",
            "239 \t 0.001345037736675956 0.0016898468602448702\n",
            "240 \t 0.0013193737884814088 0.0016156110214069486\n",
            "241 \t 0.0013545301044359803 0.0016107118378082912\n",
            "242 \t 0.0013580847087062218 0.0016756770589078467\n",
            "243 \t 0.0013175683667544615 0.0017335758699725072\n",
            "244 \t 0.0013649198120798576 0.0017661173284674685\n",
            "245 \t 0.0013760185419497166 0.0015698345378041267\n",
            "246 \t 0.0014191101707348769 0.001612521552791198\n",
            "247 \t 0.00135044437113472 0.0018454982976739605\n",
            "248 \t 0.0013157442127439108 0.0016949842295919855\n",
            "249 \t 0.0013061531777070327 0.0016470936825498939\n",
            "250 \t 0.001334031519945711 0.0017882590182125568\n"
          ]
        }
      ]
    },
    {
      "cell_type": "markdown",
      "source": [
        "To evaluate our model beyond looking at a loss function going down: we can look at the autoregressive results for a random test sample:"
      ],
      "metadata": {
        "id": "XntUGcU0wR8m"
      }
    },
    {
      "cell_type": "code",
      "source": [
        "import matplotlib.pyplot as plt\n",
        "\n",
        "plt.plot(np.arange(len(y_test[0])), y_test[0])\n",
        "plt.plot(np.arange(len(y_test[0])), model(X_test[[0]]).detach().squeeze(0).numpy())\n",
        "plt.legend([\"True\", \"Predicted\"])\n",
        "plt.show()"
      ],
      "metadata": {
        "id": "CYeAfeVhhnCA",
        "outputId": "a383541c-21f4-462a-c740-aefb4deddddf",
        "colab": {
          "base_uri": "https://localhost:8080/",
          "height": 269
        }
      },
      "execution_count": 17,
      "outputs": [
        {
          "output_type": "display_data",
          "data": {
            "text/plain": [
              "<Figure size 432x288 with 1 Axes>"
            ],
            "image/png": "[encoded data removed]"
          },
          "metadata": {
            "needs_background": "light"
          }
        }
      ]
    },
    {
      "cell_type": "markdown",
      "source": [
        "You should see that at the beginning of the second day, the model overshoots its prediction by a wide margin. This is because most probably the next day is a weekend day. After that, for the prediction of the next step, we give it the true input of that (previously-wrongly predicted) timestep, and because it recognizes that by this low value it should be a weekend day, the subsequent predictions are also low.\n",
        "\n",
        "This is not really forecasting though: at every timestep, we are predicting only one timestep (hour) in advance. To really do forecasting for a longer time limit, we should feed the predictions of the model back into the model, like this:\n",
        "\n",
        "<img src=\"https://raw.githubusercontent.com/gdewael/teaching/main/predmod/RNNs/generation.png\" width = 500>\n",
        "\n",
        "To perform this, we will create a helper function that extracts the next step:"
      ],
      "metadata": {
        "id": "ZXMxdryOwuY5"
      }
    },
    {
      "cell_type": "code",
      "source": [
        "def generate_next_timestep(previous, model):\n",
        "    with torch.no_grad():\n",
        "        output = model(previous.unsqueeze(0))[0, -1]\n",
        "    \n",
        "    return output\n",
        "\n",
        "def generate_n_timesteps(previous, model, n = 5):\n",
        "    for _ in range(n):\n",
        "        prediction = generate_next_timestep(previous, model)\n",
        "        # to make a next prediction, we not only need to add the prediction but also the covariates (hour) to our next input:\n",
        "        next_timestep_hour = nn.functional.one_hot((previous[-1, 1:].argmax() + 1) % 24, num_classes = 24) \n",
        "        new_input = torch.cat([prediction, next_timestep_hour])\n",
        "        previous = torch.cat([previous, new_input.unsqueeze(0)])\n",
        "\n",
        "    return previous[:, 0]"
      ],
      "metadata": {
        "id": "SiyoKVzAx_sc"
      },
      "execution_count": 18,
      "outputs": []
    },
    {
      "cell_type": "code",
      "source": [
        "sample_index = 0 # any index in the test set\n",
        "priming_points = ... # how many observed timepoints to give the model to start predicting from\n",
        "generate_steps = ... # how many timepoints in the future the model should forecast\n",
        "\n",
        "\n",
        "plt.plot(np.arange(len(X_test[sample_index])), X_test[sample_index, :, 0])\n",
        "predictions = generate_n_timesteps(X_test[sample_index, :priming_points], model, n = generate_steps).numpy()\n",
        "plt.plot(np.arange(len(predictions)), predictions)\n",
        "plt.axvline(x = priming_points-1, color = \"green\", linestyle = \":\")\n",
        "plt.legend([\"True\", \"Predicted\"])\n",
        "plt.show()"
      ],
      "metadata": {
        "id": "ROyU81wA8Ixe",
        "outputId": "fba3a982-691d-4831-e79d-772eda3017ef",
        "colab": {
          "base_uri": "https://localhost:8080/",
          "height": 265
        }
      },
      "execution_count": 19,
      "outputs": [
        {
          "output_type": "display_data",
          "data": {
            "text/plain": [
              "<Figure size 432x288 with 1 Axes>"
            ],
            "image/png": "[encoded data removed]"
          },
          "metadata": {
            "needs_background": "light"
          }
        }
      ]
    },
    {
      "cell_type": "markdown",
      "source": [
        "<div class=\"alert alert-success\">\n",
        "\n",
        "<b>THOUGHT EXERCISE:</b> \n",
        "<p> Play around with the code for forecasting bicyclists by changing up which sample you forecast (\"sample_index\"), how much initial input points you give the model (\"priming points\") and how far in time it should generate after that (\"generate steps\"). Can you find obvious failure states? Can you think of ways how to remedy these failure modes?\n",
        "</p>\n",
        "\n",
        "</div>"
      ],
      "metadata": {
        "id": "LZytOD_XA0tx"
      }
    },
    {
      "cell_type": "markdown",
      "source": [
        "Written answer:\n",
        "If the priming point is a friday and the next day a weekend day, it will still predict high numbers for the weekend. Additionally, when generating a lot of days, after a while the same pattern is predicted for every day.\n",
        "\n",
        "**Solution**: The model doesn't know what day of the week it is, resulting in a behavior in which the best the model can do is predict \"the average day\". One could encode more features for every timepoint in addition to just which hour it was, such as which day of the week it is. In addition, one could add weather and temperature variables to the model, so that the model can account for seasonal and weather impacts on the prediction. One could even go as far as adding an indicator variable that indicates whether a day is a Belgian holiday ..."
      ],
      "metadata": {
        "id": "RLOnrUwuPoOA"
      }
    },
    {
      "cell_type": "markdown",
      "source": [
        "## Partim 2: time series classification\n",
        "\n",
        "In the next part, we will explore a many-to-one scenario. To keep things simple, we will work on the same dataset and try to predict from the series of a single day whether that day was a weekend or a weekday.\n",
        "\n",
        "To do this, we first need to know which days were weekdays:"
      ],
      "metadata": {
        "id": "T2N3F1zyBpQg"
      }
    },
    {
      "cell_type": "code",
      "source": [
        "data"
      ],
      "metadata": {
        "id": "itJrohODCD5a",
        "outputId": "75122521-e323-45b3-9eae-f10bb29f9992",
        "colab": {
          "base_uri": "https://localhost:8080/",
          "height": 424
        }
      },
      "execution_count": 20,
      "outputs": [
        {
          "output_type": "execute_result",
          "data": {
            "text/plain": [
              "            Date Hour      n    n_norm\n",
              "0     2022-01-01   00   30.0  0.018484\n",
              "1     2022-01-01   01  110.0  0.067776\n",
              "2     2022-01-01   02  117.0  0.072089\n",
              "3     2022-01-01   03  148.0  0.091189\n",
              "4     2022-01-01   04  150.0  0.092421\n",
              "...          ...  ...    ...       ...\n",
              "5082  2022-07-31   19  217.0  0.133703\n",
              "5083  2022-07-31   20  151.0  0.093038\n",
              "5084  2022-07-31   21  156.0  0.096118\n",
              "5085  2022-07-31   22  116.0  0.071473\n",
              "5086  2022-07-31   23   59.0  0.036352\n",
              "\n",
              "[5088 rows x 4 columns]"
            ],
            "text/html": [
              "\n",
              "  <div id=\"df-09f13405-2164-4707-b17a-1085cc631897\">\n",
              "    <div class=\"colab-df-container\">\n",
              "      <div>\n",
              "<style scoped>\n",
              "    .dataframe tbody tr th:only-of-type {\n",
              "        vertical-align: middle;\n",
              "    }\n",
              "\n",
              "    .dataframe tbody tr th {\n",
              "        vertical-align: top;\n",
              "    }\n",
              "\n",
              "    .dataframe thead th {\n",
              "        text-align: right;\n",
              "    }\n",
              "</style>\n",
              "<table border=\"1\" class=\"dataframe\">\n",
              "  <thead>\n",
              "    <tr style=\"text-align: right;\">\n",
              "      <th></th>\n",
              "      <th>Date</th>\n",
              "      <th>Hour</th>\n",
              "      <th>n</th>\n",
              "      <th>n_norm</th>\n",
              "    </tr>\n",
              "  </thead>\n",
              "  <tbody>\n",
              "    <tr>\n",
              "      <th>0</th>\n",
              "      <td>2022-01-01</td>\n",
              "      <td>00</td>\n",
              "      <td>30.0</td>\n",
              "      <td>0.018484</td>\n",
              "    </tr>\n",
              "    <tr>\n",
              "      <th>1</th>\n",
              "      <td>2022-01-01</td>\n",
              "      <td>01</td>\n",
              "      <td>110.0</td>\n",
              "      <td>0.067776</td>\n",
              "    </tr>\n",
              "    <tr>\n",
              "      <th>2</th>\n",
              "      <td>2022-01-01</td>\n",
              "      <td>02</td>\n",
              "      <td>117.0</td>\n",
              "      <td>0.072089</td>\n",
              "    </tr>\n",
              "    <tr>\n",
              "      <th>3</th>\n",
              "      <td>2022-01-01</td>\n",
              "      <td>03</td>\n",
              "      <td>148.0</td>\n",
              "      <td>0.091189</td>\n",
              "    </tr>\n",
              "    <tr>\n",
              "      <th>4</th>\n",
              "      <td>2022-01-01</td>\n",
              "      <td>04</td>\n",
              "      <td>150.0</td>\n",
              "      <td>0.092421</td>\n",
              "    </tr>\n",
              "    <tr>\n",
              "      <th>...</th>\n",
              "      <td>...</td>\n",
              "      <td>...</td>\n",
              "      <td>...</td>\n",
              "      <td>...</td>\n",
              "    </tr>\n",
              "    <tr>\n",
              "      <th>5082</th>\n",
              "      <td>2022-07-31</td>\n",
              "      <td>19</td>\n",
              "      <td>217.0</td>\n",
              "      <td>0.133703</td>\n",
              "    </tr>\n",
              "    <tr>\n",
              "      <th>5083</th>\n",
              "      <td>2022-07-31</td>\n",
              "      <td>20</td>\n",
              "      <td>151.0</td>\n",
              "      <td>0.093038</td>\n",
              "    </tr>\n",
              "    <tr>\n",
              "      <th>5084</th>\n",
              "      <td>2022-07-31</td>\n",
              "      <td>21</td>\n",
              "      <td>156.0</td>\n",
              "      <td>0.096118</td>\n",
              "    </tr>\n",
              "    <tr>\n",
              "      <th>5085</th>\n",
              "      <td>2022-07-31</td>\n",
              "      <td>22</td>\n",
              "      <td>116.0</td>\n",
              "      <td>0.071473</td>\n",
              "    </tr>\n",
              "    <tr>\n",
              "      <th>5086</th>\n",
              "      <td>2022-07-31</td>\n",
              "      <td>23</td>\n",
              "      <td>59.0</td>\n",
              "      <td>0.036352</td>\n",
              "    </tr>\n",
              "  </tbody>\n",
              "</table>\n",
              "<p>5088 rows × 4 columns</p>\n",
              "</div>\n",
              "      <button class=\"colab-df-convert\" onclick=\"convertToInteractive('df-09f13405-2164-4707-b17a-1085cc631897')\"\n",
              "              title=\"Convert this dataframe to an interactive table.\"\n",
              "              style=\"display:none;\">\n",
              "        \n",
              "  <svg xmlns=\"http://www.w3.org/2000/svg\" height=\"24px\"viewBox=\"0 0 24 24\"\n",
              "       width=\"24px\">\n",
              "    <path d=\"M0 0h24v24H0V0z\" fill=\"none\"/>\n",
              "    <path d=\"M18.56 5.44l.94 2.06.94-2.06 2.06-.94-2.06-.94-.94-2.06-.94 2.06-2.06.94zm-11 1L8.5 8.5l.94-2.06 2.06-.94-2.06-.94L8.5 2.5l-.94 2.06-2.06.94zm10 10l.94 2.06.94-2.06 2.06-.94-2.06-.94-.94-2.06-.94 2.06-2.06.94z\"/><path d=\"M17.41 7.96l-1.37-1.37c-.4-.4-.92-.59-1.43-.59-.52 0-1.04.2-1.43.59L10.3 9.45l-7.72 7.72c-.78.78-.78 2.05 0 2.83L4 21.41c.39.39.9.59 1.41.59.51 0 1.02-.2 1.41-.59l7.78-7.78 2.81-2.81c.8-.78.8-2.07 0-2.86zM5.41 20L4 18.59l7.72-7.72 1.47 1.35L5.41 20z\"/>\n",
              "  </svg>\n",
              "      </button>\n",
              "      \n",
              "  <style>\n",
              "    .colab-df-container {\n",
              "      display:flex;\n",
              "      flex-wrap:wrap;\n",
              "      gap: 12px;\n",
              "    }\n",
              "\n",
              "    .colab-df-convert {\n",
              "      background-color: #E8F0FE;\n",
              "      border: none;\n",
              "      border-radius: 50%;\n",
              "      cursor: pointer;\n",
              "      display: none;\n",
              "      fill: #1967D2;\n",
              "      height: 32px;\n",
              "      padding: 0 0 0 0;\n",
              "      width: 32px;\n",
              "    }\n",
              "\n",
              "    .colab-df-convert:hover {\n",
              "      background-color: #E2EBFA;\n",
              "      box-shadow: 0px 1px 2px rgba(60, 64, 67, 0.3), 0px 1px 3px 1px rgba(60, 64, 67, 0.15);\n",
              "      fill: #174EA6;\n",
              "    }\n",
              "\n",
              "    [theme=dark] .colab-df-convert {\n",
              "      background-color: #3B4455;\n",
              "      fill: #D2E3FC;\n",
              "    }\n",
              "\n",
              "    [theme=dark] .colab-df-convert:hover {\n",
              "      background-color: #434B5C;\n",
              "      box-shadow: 0px 1px 3px 1px rgba(0, 0, 0, 0.15);\n",
              "      filter: drop-shadow(0px 1px 2px rgba(0, 0, 0, 0.3));\n",
              "      fill: #FFFFFF;\n",
              "    }\n",
              "  </style>\n",
              "\n",
              "      <script>\n",
              "        const buttonEl =\n",
              "          document.querySelector('#df-09f13405-2164-4707-b17a-1085cc631897 button.colab-df-convert');\n",
              "        buttonEl.style.display =\n",
              "          google.colab.kernel.accessAllowed ? 'block' : 'none';\n",
              "\n",
              "        async function convertToInteractive(key) {\n",
              "          const element = document.querySelector('#df-09f13405-2164-4707-b17a-1085cc631897');\n",
              "          const dataTable =\n",
              "            await google.colab.kernel.invokeFunction('convertToInteractive',\n",
              "                                                     [key], {});\n",
              "          if (!dataTable) return;\n",
              "\n",
              "          const docLinkHtml = 'Like what you see? Visit the ' +\n",
              "            '<a target=\"_blank\" href=https://colab.research.google.com/notebooks/data_table.ipynb>data table notebook</a>'\n",
              "            + ' to learn more about interactive tables.';\n",
              "          element.innerHTML = '';\n",
              "          dataTable['output_type'] = 'display_data';\n",
              "          await google.colab.output.renderOutput(dataTable, element);\n",
              "          const docLink = document.createElement('div');\n",
              "          docLink.innerHTML = docLinkHtml;\n",
              "          element.appendChild(docLink);\n",
              "        }\n",
              "      </script>\n",
              "    </div>\n",
              "  </div>\n",
              "  "
            ]
          },
          "metadata": {},
          "execution_count": 20
        }
      ]
    },
    {
      "cell_type": "markdown",
      "source": [
        "Following code adds an indicator variable to the data that signifies if the date is a weekday or not. We'll use this as \"y\" values to predict"
      ],
      "metadata": {
        "id": "w7msK_1LRVLM"
      }
    },
    {
      "cell_type": "code",
      "source": [
        "from datetime import datetime\n",
        "def isweekday(date):\n",
        "    return datetime.fromisoformat(date).weekday() < 5\n",
        "\n",
        "data[\"isweekday\"] = [int(isweekday(i)) for i in data[\"Date\"]]\n",
        "data \n",
        "\n"
      ],
      "metadata": {
        "id": "K3ZcSVjICFRo",
        "outputId": "52c379ab-1549-43f2-f726-414d25af90d9",
        "colab": {
          "base_uri": "https://localhost:8080/",
          "height": 424
        }
      },
      "execution_count": 21,
      "outputs": [
        {
          "output_type": "execute_result",
          "data": {
            "text/plain": [
              "            Date Hour      n    n_norm  isweekday\n",
              "0     2022-01-01   00   30.0  0.018484          0\n",
              "1     2022-01-01   01  110.0  0.067776          0\n",
              "2     2022-01-01   02  117.0  0.072089          0\n",
              "3     2022-01-01   03  148.0  0.091189          0\n",
              "4     2022-01-01   04  150.0  0.092421          0\n",
              "...          ...  ...    ...       ...        ...\n",
              "5082  2022-07-31   19  217.0  0.133703          0\n",
              "5083  2022-07-31   20  151.0  0.093038          0\n",
              "5084  2022-07-31   21  156.0  0.096118          0\n",
              "5085  2022-07-31   22  116.0  0.071473          0\n",
              "5086  2022-07-31   23   59.0  0.036352          0\n",
              "\n",
              "[5088 rows x 5 columns]"
            ],
            "text/html": [
              "\n",
              "  <div id=\"df-103f1ca5-99a8-428a-bb91-6ddc44eec5c9\">\n",
              "    <div class=\"colab-df-container\">\n",
              "      <div>\n",
              "<style scoped>\n",
              "    .dataframe tbody tr th:only-of-type {\n",
              "        vertical-align: middle;\n",
              "    }\n",
              "\n",
              "    .dataframe tbody tr th {\n",
              "        vertical-align: top;\n",
              "    }\n",
              "\n",
              "    .dataframe thead th {\n",
              "        text-align: right;\n",
              "    }\n",
              "</style>\n",
              "<table border=\"1\" class=\"dataframe\">\n",
              "  <thead>\n",
              "    <tr style=\"text-align: right;\">\n",
              "      <th></th>\n",
              "      <th>Date</th>\n",
              "      <th>Hour</th>\n",
              "      <th>n</th>\n",
              "      <th>n_norm</th>\n",
              "      <th>isweekday</th>\n",
              "    </tr>\n",
              "  </thead>\n",
              "  <tbody>\n",
              "    <tr>\n",
              "      <th>0</th>\n",
              "      <td>2022-01-01</td>\n",
              "      <td>00</td>\n",
              "      <td>30.0</td>\n",
              "      <td>0.018484</td>\n",
              "      <td>0</td>\n",
              "    </tr>\n",
              "    <tr>\n",
              "      <th>1</th>\n",
              "      <td>2022-01-01</td>\n",
              "      <td>01</td>\n",
              "      <td>110.0</td>\n",
              "      <td>0.067776</td>\n",
              "      <td>0</td>\n",
              "    </tr>\n",
              "    <tr>\n",
              "      <th>2</th>\n",
              "      <td>2022-01-01</td>\n",
              "      <td>02</td>\n",
              "      <td>117.0</td>\n",
              "      <td>0.072089</td>\n",
              "      <td>0</td>\n",
              "    </tr>\n",
              "    <tr>\n",
              "      <th>3</th>\n",
              "      <td>2022-01-01</td>\n",
              "      <td>03</td>\n",
              "      <td>148.0</td>\n",
              "      <td>0.091189</td>\n",
              "      <td>0</td>\n",
              "    </tr>\n",
              "    <tr>\n",
              "      <th>4</th>\n",
              "      <td>2022-01-01</td>\n",
              "      <td>04</td>\n",
              "      <td>150.0</td>\n",
              "      <td>0.092421</td>\n",
              "      <td>0</td>\n",
              "    </tr>\n",
              "    <tr>\n",
              "      <th>...</th>\n",
              "      <td>...</td>\n",
              "      <td>...</td>\n",
              "      <td>...</td>\n",
              "      <td>...</td>\n",
              "      <td>...</td>\n",
              "    </tr>\n",
              "    <tr>\n",
              "      <th>5082</th>\n",
              "      <td>2022-07-31</td>\n",
              "      <td>19</td>\n",
              "      <td>217.0</td>\n",
              "      <td>0.133703</td>\n",
              "      <td>0</td>\n",
              "    </tr>\n",
              "    <tr>\n",
              "      <th>5083</th>\n",
              "      <td>2022-07-31</td>\n",
              "      <td>20</td>\n",
              "      <td>151.0</td>\n",
              "      <td>0.093038</td>\n",
              "      <td>0</td>\n",
              "    </tr>\n",
              "    <tr>\n",
              "      <th>5084</th>\n",
              "      <td>2022-07-31</td>\n",
              "      <td>21</td>\n",
              "      <td>156.0</td>\n",
              "      <td>0.096118</td>\n",
              "      <td>0</td>\n",
              "    </tr>\n",
              "    <tr>\n",
              "      <th>5085</th>\n",
              "      <td>2022-07-31</td>\n",
              "      <td>22</td>\n",
              "      <td>116.0</td>\n",
              "      <td>0.071473</td>\n",
              "      <td>0</td>\n",
              "    </tr>\n",
              "    <tr>\n",
              "      <th>5086</th>\n",
              "      <td>2022-07-31</td>\n",
              "      <td>23</td>\n",
              "      <td>59.0</td>\n",
              "      <td>0.036352</td>\n",
              "      <td>0</td>\n",
              "    </tr>\n",
              "  </tbody>\n",
              "</table>\n",
              "<p>5088 rows × 5 columns</p>\n",
              "</div>\n",
              "      <button class=\"colab-df-convert\" onclick=\"convertToInteractive('df-103f1ca5-99a8-428a-bb91-6ddc44eec5c9')\"\n",
              "              title=\"Convert this dataframe to an interactive table.\"\n",
              "              style=\"display:none;\">\n",
              "        \n",
              "  <svg xmlns=\"http://www.w3.org/2000/svg\" height=\"24px\"viewBox=\"0 0 24 24\"\n",
              "       width=\"24px\">\n",
              "    <path d=\"M0 0h24v24H0V0z\" fill=\"none\"/>\n",
              "    <path d=\"M18.56 5.44l.94 2.06.94-2.06 2.06-.94-2.06-.94-.94-2.06-.94 2.06-2.06.94zm-11 1L8.5 8.5l.94-2.06 2.06-.94-2.06-.94L8.5 2.5l-.94 2.06-2.06.94zm10 10l.94 2.06.94-2.06 2.06-.94-2.06-.94-.94-2.06-.94 2.06-2.06.94z\"/><path d=\"M17.41 7.96l-1.37-1.37c-.4-.4-.92-.59-1.43-.59-.52 0-1.04.2-1.43.59L10.3 9.45l-7.72 7.72c-.78.78-.78 2.05 0 2.83L4 21.41c.39.39.9.59 1.41.59.51 0 1.02-.2 1.41-.59l7.78-7.78 2.81-2.81c.8-.78.8-2.07 0-2.86zM5.41 20L4 18.59l7.72-7.72 1.47 1.35L5.41 20z\"/>\n",
              "  </svg>\n",
              "      </button>\n",
              "      \n",
              "  <style>\n",
              "    .colab-df-container {\n",
              "      display:flex;\n",
              "      flex-wrap:wrap;\n",
              "      gap: 12px;\n",
              "    }\n",
              "\n",
              "    .colab-df-convert {\n",
              "      background-color: #E8F0FE;\n",
              "      border: none;\n",
              "      border-radius: 50%;\n",
              "      cursor: pointer;\n",
              "      display: none;\n",
              "      fill: #1967D2;\n",
              "      height: 32px;\n",
              "      padding: 0 0 0 0;\n",
              "      width: 32px;\n",
              "    }\n",
              "\n",
              "    .colab-df-convert:hover {\n",
              "      background-color: #E2EBFA;\n",
              "      box-shadow: 0px 1px 2px rgba(60, 64, 67, 0.3), 0px 1px 3px 1px rgba(60, 64, 67, 0.15);\n",
              "      fill: #174EA6;\n",
              "    }\n",
              "\n",
              "    [theme=dark] .colab-df-convert {\n",
              "      background-color: #3B4455;\n",
              "      fill: #D2E3FC;\n",
              "    }\n",
              "\n",
              "    [theme=dark] .colab-df-convert:hover {\n",
              "      background-color: #434B5C;\n",
              "      box-shadow: 0px 1px 3px 1px rgba(0, 0, 0, 0.15);\n",
              "      filter: drop-shadow(0px 1px 2px rgba(0, 0, 0, 0.3));\n",
              "      fill: #FFFFFF;\n",
              "    }\n",
              "  </style>\n",
              "\n",
              "      <script>\n",
              "        const buttonEl =\n",
              "          document.querySelector('#df-103f1ca5-99a8-428a-bb91-6ddc44eec5c9 button.colab-df-convert');\n",
              "        buttonEl.style.display =\n",
              "          google.colab.kernel.accessAllowed ? 'block' : 'none';\n",
              "\n",
              "        async function convertToInteractive(key) {\n",
              "          const element = document.querySelector('#df-103f1ca5-99a8-428a-bb91-6ddc44eec5c9');\n",
              "          const dataTable =\n",
              "            await google.colab.kernel.invokeFunction('convertToInteractive',\n",
              "                                                     [key], {});\n",
              "          if (!dataTable) return;\n",
              "\n",
              "          const docLinkHtml = 'Like what you see? Visit the ' +\n",
              "            '<a target=\"_blank\" href=https://colab.research.google.com/notebooks/data_table.ipynb>data table notebook</a>'\n",
              "            + ' to learn more about interactive tables.';\n",
              "          element.innerHTML = '';\n",
              "          dataTable['output_type'] = 'display_data';\n",
              "          await google.colab.output.renderOutput(dataTable, element);\n",
              "          const docLink = document.createElement('div');\n",
              "          docLink.innerHTML = docLinkHtml;\n",
              "          element.appendChild(docLink);\n",
              "        }\n",
              "      </script>\n",
              "    </div>\n",
              "  </div>\n",
              "  "
            ]
          },
          "metadata": {},
          "execution_count": 21
        }
      ]
    },
    {
      "cell_type": "markdown",
      "source": [
        "With this data added, we can process our data into X and y:"
      ],
      "metadata": {
        "id": "SQKStrAtHLVs"
      }
    },
    {
      "cell_type": "code",
      "source": [
        "batches = generate_batches(torch.tensor(data[[\"isweekday\", \"Hour\", \"n_norm\"]].values.astype(np.float32)), seqlen = 24)\n",
        "y = batches[:, 0, 0]\n",
        "X = batches[:, :, 1:]\n",
        "\n",
        "one_hot_hour = torch.nn.functional.one_hot(X[:, :, 0].long())\n",
        "X = torch.cat([X[:, :, [1]], one_hot_hour], axis = 2)"
      ],
      "metadata": {
        "id": "LAhtjoCMDdlM"
      },
      "execution_count": 22,
      "outputs": []
    },
    {
      "cell_type": "code",
      "source": [
        "X.shape, y.shape"
      ],
      "metadata": {
        "id": "BvtDFbMhDh4U",
        "outputId": "0eccdb5d-0d0e-405b-a326-74088e98239f",
        "colab": {
          "base_uri": "https://localhost:8080/"
        }
      },
      "execution_count": 23,
      "outputs": [
        {
          "output_type": "execute_result",
          "data": {
            "text/plain": [
              "(torch.Size([211, 24, 25]), torch.Size([211]))"
            ]
          },
          "metadata": {},
          "execution_count": 23
        }
      ]
    },
    {
      "cell_type": "markdown",
      "source": [
        "Examine if the shapes are conforming to your expectations as to what we expect it to be for timeseries classification. What does every dimension in X and y signify?"
      ],
      "metadata": {
        "id": "0DBAGqj4ReEj"
      }
    },
    {
      "cell_type": "code",
      "source": [
        "X_train = X[:int(batches.shape[0] * 0.80)]\n",
        "X_test = X[int(batches.shape[0] * 0.80):]\n",
        "\n",
        "y_train = y[:int(batches.shape[0] * 0.80)]\n",
        "y_test = y[int(batches.shape[0] * 0.80):]\n",
        "\n",
        "train_dataset = torch.utils.data.TensorDataset(X_train, y_train)\n",
        "train_dataloader = torch.utils.data.DataLoader(train_dataset, batch_size = 8, shuffle = True)\n",
        "\n",
        "test_dataset = torch.utils.data.TensorDataset(X_test, y_test)\n",
        "test_dataloader = torch.utils.data.DataLoader(test_dataset, batch_size = 8, shuffle = True)"
      ],
      "metadata": {
        "id": "2DMgGIEGGc29"
      },
      "execution_count": 24,
      "outputs": []
    },
    {
      "cell_type": "markdown",
      "source": [
        "<div class=\"alert alert-success\">\n",
        "\n",
        "<b>EXERCISE:</b> \n",
        "<p> Implement a time series classification model by copying the code above and adapting it.\n",
        "\n",
        "Steps you need to take:\n",
        "- Change the RNN model so that it is adapted for many to one tasks\n",
        "- Change the loss function for binary classification\n",
        "- Implement a way to keep track of accuracies instead of only losses\n",
        "</p>\n",
        "\n",
        "</div>\n",
        "\n",
        "You should be able to obtain an accuracy of at least 90%."
      ],
      "metadata": {
        "id": "L15DJ0eeHHpL"
      }
    },
    {
      "cell_type": "code",
      "source": [
        "class TimeseriesClassifier(nn.Module):\n",
        "    # def __init__() ....\n",
        "    \n",
        "    # def forward() ...."
      ],
      "metadata": {
        "id": "KBQaLX3xHvQ6"
      },
      "execution_count": 25,
      "outputs": []
    },
    {
      "cell_type": "code",
      "source": [
        "# TRAINING CODE GOES HERE ..."
      ],
      "metadata": {
        "id": "bOhRw5MBIscM",
        "outputId": "efd88f05-c031-4f86-a172-3a714921ddf2",
        "colab": {
          "base_uri": "https://localhost:8080/"
        }
      },
      "execution_count": 26,
      "outputs": [
        {
          "output_type": "stream",
          "name": "stdout",
          "text": [
            "1 \t 0.6084799809115273 0.6193274060885111 0.6976743936538696\n",
            "2 \t 0.5866338773852303 0.6148033936818441 0.6976743936538696\n",
            "3 \t 0.5520790347031185 0.5288791010777155 0.6976743936538696\n",
            "4 \t 0.3553735606727146 0.29250839352607727 0.8837209343910217\n",
            "5 \t 0.511172984150194 0.29741394395629567 0.9069767594337463\n",
            "6 \t 0.2825188835461934 0.3926099054515362 0.7209302186965942\n",
            "7 \t 0.21254908949846313 0.5246105094750723 0.6976743936538696\n",
            "8 \t 0.21581610318805491 0.19769107414564738 0.9069767594337463\n",
            "9 \t 0.1822723133400792 0.6604217986265818 0.604651153087616\n",
            "10 \t 0.27870182781701996 0.2323508287469546 0.930232584476471\n",
            "11 \t 0.15339103305623644 0.2643115846440196 0.9069767594337463\n",
            "12 \t 0.1855186364790868 0.24879919923841953 0.8837209343910217\n",
            "13 \t 0.17368347268728984 0.19545022894938788 0.930232584476471\n",
            "14 \t 0.11957605475825923 0.16629958587388197 0.930232584476471\n",
            "15 \t 0.10894720809578541 0.17158422991633415 0.930232584476471\n",
            "16 \t 0.1969282807826641 0.5534090201059977 0.7209302186965942\n",
            "17 \t 0.23850048493061746 0.3432368189096451 0.8372092843055725\n",
            "18 \t 0.19757689269525663 0.2426430881023407 0.930232584476471\n",
            "19 \t 0.1476787186804272 0.2295779255218804 0.8837209343910217\n",
            "20 \t 0.12050109102468316 0.3134964558606346 0.930232584476471\n",
            "21 \t 0.09881164743343279 0.18967888791424534 0.930232584476471\n",
            "22 \t 0.14747046466384614 0.20877021178603172 0.9069767594337463\n",
            "23 \t 0.11865946198148387 0.247787207365036 0.930232584476471\n",
            "24 \t 0.12098912584284942 0.16793311356256405 0.930232584476471\n",
            "25 \t 0.08003689166868017 0.17778280998269716 0.930232584476471\n",
            "26 \t 0.10806807633655678 0.2328886726560692 0.9069767594337463\n",
            "27 \t 0.1567422361556618 0.19610985989371935 0.930232584476471\n",
            "28 \t 0.10331982959594045 0.24417120528717837 0.930232584476471\n",
            "29 \t 0.0942170581270364 0.26689232637484867 0.9069767594337463\n",
            "30 \t 0.08238272089511156 0.183639583158462 0.930232584476471\n",
            "31 \t 0.1131568491175477 0.20006515954931578 0.9534883499145508\n",
            "32 \t 0.08648025397477406 0.19367575024565062 0.9069767594337463\n",
            "33 \t 0.06848501442471475 0.17652698745951056 0.9534883499145508\n",
            "34 \t 0.12394783872046641 0.19671858681249432 0.9534883499145508\n",
            "35 \t 0.09760678942049188 0.16702672963341078 0.9534883499145508\n",
            "36 \t 0.08943385564322982 0.16372451237596883 0.9534883499145508\n",
            "37 \t 0.08278714552787798 0.327915800580134 0.9534883499145508\n",
            "38 \t 0.08546518214695555 0.33341209404170513 0.930232584476471\n",
            "39 \t 0.08185061821409147 0.19162152086695036 0.930232584476471\n",
            "40 \t 0.09191631771890181 0.19161446547756592 0.930232584476471\n",
            "41 \t 0.10743701825239918 0.19938989037958285 0.9534883499145508\n",
            "42 \t 0.09080602155466165 0.1788938415023343 0.930232584476471\n",
            "43 \t 0.07265628896476257 0.17214625126022534 0.930232584476471\n",
            "44 \t 0.098360156900959 0.224406315634648 0.930232584476471\n",
            "45 \t 0.07471074631792449 0.1611939208038772 0.9534883499145508\n",
            "46 \t 0.06702659291303939 0.18275233901416263 0.9534883499145508\n",
            "47 \t 0.09074583211484077 0.1827432013427218 0.9534883499145508\n",
            "48 \t 0.07732946565374732 0.1652910616248846 0.9534883499145508\n",
            "49 \t 0.08538427351907428 0.2823876601954301 0.8837209343910217\n",
            "50 \t 0.08899771289101668 0.17398427737255892 0.9534883499145508\n",
            "51 \t 0.06975513978284739 0.1791329417998592 0.930232584476471\n",
            "52 \t 0.06718361879064191 0.3415294613999625 0.9767441749572754\n",
            "53 \t 0.08151983122696124 0.21219749834078053 0.930232584476471\n",
            "54 \t 0.10460648701215784 0.17249393648671685 0.9534883499145508\n",
            "55 \t 0.08542156873625659 0.17875840328633785 0.930232584476471\n",
            "56 \t 0.06683666032283024 0.15397293136144677 0.9534883499145508\n",
            "57 \t 0.07017952974274522 0.17996325033406416 0.9534883499145508\n",
            "58 \t 0.08070613426111993 0.3648304721961419 0.930232584476471\n",
            "59 \t 0.08440928684458845 0.17378121940419078 0.9534883499145508\n",
            "60 \t 0.06154244123258866 0.18003086214109013 0.9534883499145508\n",
            "61 \t 0.06621572846147285 0.22075818510105213 0.930232584476471\n",
            "62 \t 0.06769582330404471 0.18393190889037214 0.930232584476471\n",
            "63 \t 0.05645208681623141 0.3388640775034825 0.8837209343910217\n",
            "64 \t 0.09459726522410554 0.2304053360130638 0.930232584476471\n",
            "65 \t 0.11966636187225092 0.20261169224977493 0.930232584476471\n",
            "66 \t 0.0778120410007735 0.25789310472706956 0.930232584476471\n",
            "67 \t 0.07344877801369876 0.1833395097249498 0.9534883499145508\n",
            "68 \t 0.06871482500892376 0.18195262379595079 0.9534883499145508\n",
            "69 \t 0.05397654381938212 0.19938026120265326 0.9534883499145508\n",
            "70 \t 0.06861656129781511 0.24243324813627018 0.930232584476471\n",
            "71 \t 0.05936333022397039 0.20549027699386593 0.9767441749572754\n",
            "72 \t 0.05908414585255308 0.19875113619491458 0.930232584476471\n",
            "73 \t 0.06373338622627973 0.24439643944303194 0.930232584476471\n",
            "74 \t 0.0664943680666121 0.21827477558205524 0.930232584476471\n",
            "75 \t 0.0450608745838205 0.29716633384426433 0.9069767594337463\n",
            "76 \t 0.0736008585713751 0.4322964285189907 0.8372092843055725\n",
            "77 \t 0.18476824820460197 0.2893273675193389 0.8837209343910217\n",
            "78 \t 0.10313723830594904 0.21414753484229246 0.9069767594337463\n",
            "79 \t 0.08437651062247044 0.2153981855760018 0.930232584476471\n",
            "80 \t 0.10717519414001367 0.20049259846079318 0.9534883499145508\n",
            "81 \t 0.061715861407200076 0.17314897948684424 0.9534883499145508\n",
            "82 \t 0.0456894839558767 0.22737330322464308 0.930232584476471\n",
            "83 \t 0.07317508954327509 0.2816605711122975 0.930232584476471\n",
            "84 \t 0.10692966845124915 0.38240888981575455 0.8139534592628479\n",
            "85 \t 0.051257250553351785 0.2671178105908136 0.930232584476471\n",
            "86 \t 0.07180161593446212 0.2113477038219571 0.930232584476471\n",
            "87 \t 0.062383807335208985 0.1723047660974165 0.9767441749572754\n",
            "88 \t 0.05284074603159319 0.38922567044695217 0.9767441749572754\n",
            "89 \t 0.032216831679328435 0.1995703011440734 0.9534883499145508\n",
            "90 \t 0.052661256110739144 0.26254920064578374 0.8837209343910217\n",
            "91 \t 0.06471124766531353 0.44273011200129986 0.9767441749572754\n",
            "92 \t 0.03147401810634792 0.19546568773997328 0.9534883499145508\n",
            "93 \t 0.03181802021018008 0.25134795770281926 0.930232584476471\n",
            "94 \t 0.07188738762141882 0.3252490529169639 0.9069767594337463\n",
            "95 \t 0.07738614798013475 0.19835857558064163 0.9767441749572754\n",
            "96 \t 0.049691828122983374 0.18399957132836184 0.9534883499145508\n",
            "97 \t 0.055685639849841775 0.4162070204038173 0.9534883499145508\n",
            "98 \t 0.05419671184305722 0.2740991357713938 0.930232584476471\n",
            "99 \t 0.041989089460371144 0.17703612444165628 0.9534883499145508\n",
            "100 \t 0.04355442038511336 0.24832729374368986 0.9069767594337463\n"
          ]
        }
      ]
    },
    {
      "cell_type": "markdown",
      "source": [
        "Let's plot all the test data and see what the model still got wrong. In the following code. Green timeseries are weekdays and blue timeseries are weekends. The transparent ones are correctly predicted, whereas the dotted ones are predicted wrongly. (So a blue dotted line means a weekend predicted as being a weekday and vice-versa)."
      ],
      "metadata": {
        "id": "fauaIT83dN4X"
      }
    },
    {
      "cell_type": "code",
      "source": [
        "preds = (model(X_test) > 0).detach().int().numpy()\n",
        "trues = y_test.numpy()\n",
        "\n",
        "for i in range(len(X_test)):\n",
        "    plt.plot(np.arange(24), X_test[i, :, 0].numpy(),\n",
        "             color = [\"blue\", \"green\"][int(trues[i])],\n",
        "             ls = [\":\", \"-\"][int(trues[i] == preds[i])],\n",
        "             alpha = [1, 0.1][int(trues[i] == preds[i])])\n"
      ],
      "metadata": {
        "id": "ynouhvU1dNeO"
      },
      "execution_count": null,
      "outputs": []
    }
  ],
  "metadata": {
    "kernelspec": {
      "display_name": "Python 3.9.13 ('gaetan_predmod')",
      "language": "python",
      "name": "python3"
    },
    "language_info": {
      "name": "python",
      "version": "3.9.13"
    },
    "orig_nbformat": 4,
    "vscode": {
      "interpreter": {
        "hash": "ef9dbff06f2d3990401ab7bd73f166712843564b695d78ee6ca1b88459deb91e"
      }
    },
    "colab": {
      "provenance": []
    }
  },
  "nbformat": 4,
  "nbformat_minor": 0
}