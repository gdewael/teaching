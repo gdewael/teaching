{
  "cells": [
    {
      "cell_type": "markdown",
      "metadata": {
        "id": "view-in-github",
        "colab_type": "text"
      },
      "source": [
        "<a href=\"https://colab.research.google.com/github/gdewael/teaching/blob/main/predmod/RNNs/PClab_RNNs_SOLVED.ipynb\" target=\"_parent\"><img src=\"https://colab.research.google.com/assets/colab-badge.svg\" alt=\"Open In Colab\"/></a>"
      ]
    },
    {
      "cell_type": "markdown",
      "metadata": {
        "id": "WrQv9yrEbWo3"
      },
      "source": [
        "# RNNs\n",
        "\n",
        "## Introduction\n",
        "\n",
        "Recurrent networks strictly operate on 1-D sequences. They can be used for a variety of tasks, pictured below:\n",
        "\n",
        "<img src=\"http://karpathy.github.io/assets/rnn/diags.jpeg\" width = 500>\n",
        "\n",
        "Examples of the settings in the picture:\n",
        "- one to one: vanilla MLPs that map a fixed size 1-D vector to a 1-D vector for classification or regression\n",
        "- one to many: Image captioning, given an input embedding (obtained with a CNN), a textual caption of variable length is generated.\n",
        "- many to one: (1) Sentence classification such as sentiment analysis or (2) image generation from text: in both cases variable input texts are given as input and a fixed dimensional output is generated.\n",
        "- many to many: (1) machine translation of a variable-length sentence to another variable-length sentence or (2) transcription of a variable-length .mp3 audio to a variable length text.\n",
        "- many to many (1to1 correspondence): (1) Video classification: one label for a variable number of frames in the video (the video frame embedding can be obtained with a CNN and then input into a RNN), (2) autoregressive language modeling: trying to predict the next word in the sentence, for generative purposes or (3) word classification: classify every word as belonging to a category.\n",
        "\n",
        "Note that these settings are not exclusive to recurrent neural networks. In fact, any network type that works on variable input sequences can be used towards these ends. Most famously of which are of course, Transformers, which have all but replaced RNNs in NLP and many other fields. An explanation and implementation of transformers is out of the scope of this course. It suffices to know that RNNs process input sequence sequentially through memory cells, whereas transformers do it in parallel through an $n \\times n$ attention matrix. Other than RNNs and Transformers, convolutional networks can also be used on variable length inputs: a 1D kernel can equally well convolve over a sequence of length $100$ as $1000$. It is only because of the linear layers at the end for classification requiring a specific number of input nodes that typical CNNs become applicable on only one specific input size."
      ]
    },
    {
      "cell_type": "markdown",
      "metadata": {
        "id": "PFhcwjLBbWo9"
      },
      "source": [
        "## Partim 1: Autoregressive modeling\n",
        "\n",
        "Autoregressive modeling is the task of trying to predict the next token in a sequence given which tokens came before it: $P(x_i | x_{i-1}, x_{i-2}, ..., x_1)$.\n",
        "\n",
        "In this PC-lab we will explore autoregressive modeling on a dataset close to home: a dataset published by the city of Ghent on how many cyclists pass by the bicycle counter at the Coupure.\n",
        "\n",
        "<img src=\"https://images0.persgroep.net/rcs/4cQwm-ofvb3eyIKMWnNf5axxLHg/diocontent/217261403/_fitwidth/694/?appId=21791a8992982cd8da851550a453bd7f&quality=0.8\" width = 500>"
      ]
    },
    {
      "cell_type": "code",
      "source": [
        "import pandas as pd\n",
        "import numpy as np\n",
        "import torch\n",
        "import torch.nn as nn\n",
        "\n",
        "import urllib.request\n",
        "urllib.request.urlretrieve(\"https://raw.githubusercontent.com/gdewael/teaching/main/predmod/RNNs/fietstelpaal-coupure-links-2022-gent.csv\", \"./data.csv\")\n",
        "\n",
        "data_raw = pd.read_csv(\"data.csv\", sep = \";\")\n",
        "\n",
        "data_raw"
      ],
      "metadata": {
        "id": "ArqjiofwdVJx",
        "outputId": "7bae4c2c-1198-4aa1-dc45-6b79e21fb725",
        "colab": {
          "base_uri": "https://localhost:8080/",
          "height": 424
        }
      },
      "execution_count": 1,
      "outputs": [
        {
          "output_type": "execute_result",
          "data": {
            "text/plain": [
              "      Code        Locatie       Datum Uur5Minuten                   Ordening  \\\n",
              "0      COU  Coupure-Links  2022-01-01     0:00:00  2022-01-01T00:00:00+01:00   \n",
              "1      COU  Coupure-Links  2022-01-01     0:05:00  2022-01-01T00:05:00+01:00   \n",
              "2      COU  Coupure-Links  2022-01-01     0:10:00  2022-01-01T00:10:00+01:00   \n",
              "3      COU  Coupure-Links  2022-01-01     0:15:00  2022-01-01T00:15:00+01:00   \n",
              "4      COU  Coupure-Links  2022-01-01     0:20:00  2022-01-01T00:20:00+01:00   \n",
              "...    ...            ...         ...         ...                        ...   \n",
              "61051  COU  Coupure-Links  2022-07-31    23:35:00  2022-07-31T23:35:00+02:00   \n",
              "61052  COU  Coupure-Links  2022-07-31    23:40:00  2022-07-31T23:40:00+02:00   \n",
              "61053  COU  Coupure-Links  2022-07-31    23:45:00  2022-07-31T23:45:00+02:00   \n",
              "61054  COU  Coupure-Links  2022-07-31    23:50:00  2022-07-31T23:50:00+02:00   \n",
              "61055  COU  Coupure-Links  2022-07-31    23:55:00  2022-07-31T23:55:00+02:00   \n",
              "\n",
              "       Totaal  Tegenrichting  Hoofdrichting  \n",
              "0         0.0            0.0            0.0  \n",
              "1         2.0            1.0            1.0  \n",
              "2         1.0            0.0            1.0  \n",
              "3         0.0            0.0            0.0  \n",
              "4         2.0            0.0            2.0  \n",
              "...       ...            ...            ...  \n",
              "61051     7.0            3.0            4.0  \n",
              "61052     3.0            3.0            0.0  \n",
              "61053     6.0            3.0            3.0  \n",
              "61054     3.0            1.0            2.0  \n",
              "61055     3.0            0.0            3.0  \n",
              "\n",
              "[61056 rows x 8 columns]"
            ],
            "text/html": [
              "\n",
              "  <div id=\"df-bd3ec719-b74b-4c8c-b970-a858ce4b4b80\">\n",
              "    <div class=\"colab-df-container\">\n",
              "      <div>\n",
              "<style scoped>\n",
              "    .dataframe tbody tr th:only-of-type {\n",
              "        vertical-align: middle;\n",
              "    }\n",
              "\n",
              "    .dataframe tbody tr th {\n",
              "        vertical-align: top;\n",
              "    }\n",
              "\n",
              "    .dataframe thead th {\n",
              "        text-align: right;\n",
              "    }\n",
              "</style>\n",
              "<table border=\"1\" class=\"dataframe\">\n",
              "  <thead>\n",
              "    <tr style=\"text-align: right;\">\n",
              "      <th></th>\n",
              "      <th>Code</th>\n",
              "      <th>Locatie</th>\n",
              "      <th>Datum</th>\n",
              "      <th>Uur5Minuten</th>\n",
              "      <th>Ordening</th>\n",
              "      <th>Totaal</th>\n",
              "      <th>Tegenrichting</th>\n",
              "      <th>Hoofdrichting</th>\n",
              "    </tr>\n",
              "  </thead>\n",
              "  <tbody>\n",
              "    <tr>\n",
              "      <th>0</th>\n",
              "      <td>COU</td>\n",
              "      <td>Coupure-Links</td>\n",
              "      <td>2022-01-01</td>\n",
              "      <td>0:00:00</td>\n",
              "      <td>2022-01-01T00:00:00+01:00</td>\n",
              "      <td>0.0</td>\n",
              "      <td>0.0</td>\n",
              "      <td>0.0</td>\n",
              "    </tr>\n",
              "    <tr>\n",
              "      <th>1</th>\n",
              "      <td>COU</td>\n",
              "      <td>Coupure-Links</td>\n",
              "      <td>2022-01-01</td>\n",
              "      <td>0:05:00</td>\n",
              "      <td>2022-01-01T00:05:00+01:00</td>\n",
              "      <td>2.0</td>\n",
              "      <td>1.0</td>\n",
              "      <td>1.0</td>\n",
              "    </tr>\n",
              "    <tr>\n",
              "      <th>2</th>\n",
              "      <td>COU</td>\n",
              "      <td>Coupure-Links</td>\n",
              "      <td>2022-01-01</td>\n",
              "      <td>0:10:00</td>\n",
              "      <td>2022-01-01T00:10:00+01:00</td>\n",
              "      <td>1.0</td>\n",
              "      <td>0.0</td>\n",
              "      <td>1.0</td>\n",
              "    </tr>\n",
              "    <tr>\n",
              "      <th>3</th>\n",
              "      <td>COU</td>\n",
              "      <td>Coupure-Links</td>\n",
              "      <td>2022-01-01</td>\n",
              "      <td>0:15:00</td>\n",
              "      <td>2022-01-01T00:15:00+01:00</td>\n",
              "      <td>0.0</td>\n",
              "      <td>0.0</td>\n",
              "      <td>0.0</td>\n",
              "    </tr>\n",
              "    <tr>\n",
              "      <th>4</th>\n",
              "      <td>COU</td>\n",
              "      <td>Coupure-Links</td>\n",
              "      <td>2022-01-01</td>\n",
              "      <td>0:20:00</td>\n",
              "      <td>2022-01-01T00:20:00+01:00</td>\n",
              "      <td>2.0</td>\n",
              "      <td>0.0</td>\n",
              "      <td>2.0</td>\n",
              "    </tr>\n",
              "    <tr>\n",
              "      <th>...</th>\n",
              "      <td>...</td>\n",
              "      <td>...</td>\n",
              "      <td>...</td>\n",
              "      <td>...</td>\n",
              "      <td>...</td>\n",
              "      <td>...</td>\n",
              "      <td>...</td>\n",
              "      <td>...</td>\n",
              "    </tr>\n",
              "    <tr>\n",
              "      <th>61051</th>\n",
              "      <td>COU</td>\n",
              "      <td>Coupure-Links</td>\n",
              "      <td>2022-07-31</td>\n",
              "      <td>23:35:00</td>\n",
              "      <td>2022-07-31T23:35:00+02:00</td>\n",
              "      <td>7.0</td>\n",
              "      <td>3.0</td>\n",
              "      <td>4.0</td>\n",
              "    </tr>\n",
              "    <tr>\n",
              "      <th>61052</th>\n",
              "      <td>COU</td>\n",
              "      <td>Coupure-Links</td>\n",
              "      <td>2022-07-31</td>\n",
              "      <td>23:40:00</td>\n",
              "      <td>2022-07-31T23:40:00+02:00</td>\n",
              "      <td>3.0</td>\n",
              "      <td>3.0</td>\n",
              "      <td>0.0</td>\n",
              "    </tr>\n",
              "    <tr>\n",
              "      <th>61053</th>\n",
              "      <td>COU</td>\n",
              "      <td>Coupure-Links</td>\n",
              "      <td>2022-07-31</td>\n",
              "      <td>23:45:00</td>\n",
              "      <td>2022-07-31T23:45:00+02:00</td>\n",
              "      <td>6.0</td>\n",
              "      <td>3.0</td>\n",
              "      <td>3.0</td>\n",
              "    </tr>\n",
              "    <tr>\n",
              "      <th>61054</th>\n",
              "      <td>COU</td>\n",
              "      <td>Coupure-Links</td>\n",
              "      <td>2022-07-31</td>\n",
              "      <td>23:50:00</td>\n",
              "      <td>2022-07-31T23:50:00+02:00</td>\n",
              "      <td>3.0</td>\n",
              "      <td>1.0</td>\n",
              "      <td>2.0</td>\n",
              "    </tr>\n",
              "    <tr>\n",
              "      <th>61055</th>\n",
              "      <td>COU</td>\n",
              "      <td>Coupure-Links</td>\n",
              "      <td>2022-07-31</td>\n",
              "      <td>23:55:00</td>\n",
              "      <td>2022-07-31T23:55:00+02:00</td>\n",
              "      <td>3.0</td>\n",
              "      <td>0.0</td>\n",
              "      <td>3.0</td>\n",
              "    </tr>\n",
              "  </tbody>\n",
              "</table>\n",
              "<p>61056 rows × 8 columns</p>\n",
              "</div>\n",
              "      <button class=\"colab-df-convert\" onclick=\"convertToInteractive('df-bd3ec719-b74b-4c8c-b970-a858ce4b4b80')\"\n",
              "              title=\"Convert this dataframe to an interactive table.\"\n",
              "              style=\"display:none;\">\n",
              "        \n",
              "  <svg xmlns=\"http://www.w3.org/2000/svg\" height=\"24px\"viewBox=\"0 0 24 24\"\n",
              "       width=\"24px\">\n",
              "    <path d=\"M0 0h24v24H0V0z\" fill=\"none\"/>\n",
              "    <path d=\"M18.56 5.44l.94 2.06.94-2.06 2.06-.94-2.06-.94-.94-2.06-.94 2.06-2.06.94zm-11 1L8.5 8.5l.94-2.06 2.06-.94-2.06-.94L8.5 2.5l-.94 2.06-2.06.94zm10 10l.94 2.06.94-2.06 2.06-.94-2.06-.94-.94-2.06-.94 2.06-2.06.94z\"/><path d=\"M17.41 7.96l-1.37-1.37c-.4-.4-.92-.59-1.43-.59-.52 0-1.04.2-1.43.59L10.3 9.45l-7.72 7.72c-.78.78-.78 2.05 0 2.83L4 21.41c.39.39.9.59 1.41.59.51 0 1.02-.2 1.41-.59l7.78-7.78 2.81-2.81c.8-.78.8-2.07 0-2.86zM5.41 20L4 18.59l7.72-7.72 1.47 1.35L5.41 20z\"/>\n",
              "  </svg>\n",
              "      </button>\n",
              "      \n",
              "  <style>\n",
              "    .colab-df-container {\n",
              "      display:flex;\n",
              "      flex-wrap:wrap;\n",
              "      gap: 12px;\n",
              "    }\n",
              "\n",
              "    .colab-df-convert {\n",
              "      background-color: #E8F0FE;\n",
              "      border: none;\n",
              "      border-radius: 50%;\n",
              "      cursor: pointer;\n",
              "      display: none;\n",
              "      fill: #1967D2;\n",
              "      height: 32px;\n",
              "      padding: 0 0 0 0;\n",
              "      width: 32px;\n",
              "    }\n",
              "\n",
              "    .colab-df-convert:hover {\n",
              "      background-color: #E2EBFA;\n",
              "      box-shadow: 0px 1px 2px rgba(60, 64, 67, 0.3), 0px 1px 3px 1px rgba(60, 64, 67, 0.15);\n",
              "      fill: #174EA6;\n",
              "    }\n",
              "\n",
              "    [theme=dark] .colab-df-convert {\n",
              "      background-color: #3B4455;\n",
              "      fill: #D2E3FC;\n",
              "    }\n",
              "\n",
              "    [theme=dark] .colab-df-convert:hover {\n",
              "      background-color: #434B5C;\n",
              "      box-shadow: 0px 1px 3px 1px rgba(0, 0, 0, 0.15);\n",
              "      filter: drop-shadow(0px 1px 2px rgba(0, 0, 0, 0.3));\n",
              "      fill: #FFFFFF;\n",
              "    }\n",
              "  </style>\n",
              "\n",
              "      <script>\n",
              "        const buttonEl =\n",
              "          document.querySelector('#df-bd3ec719-b74b-4c8c-b970-a858ce4b4b80 button.colab-df-convert');\n",
              "        buttonEl.style.display =\n",
              "          google.colab.kernel.accessAllowed ? 'block' : 'none';\n",
              "\n",
              "        async function convertToInteractive(key) {\n",
              "          const element = document.querySelector('#df-bd3ec719-b74b-4c8c-b970-a858ce4b4b80');\n",
              "          const dataTable =\n",
              "            await google.colab.kernel.invokeFunction('convertToInteractive',\n",
              "                                                     [key], {});\n",
              "          if (!dataTable) return;\n",
              "\n",
              "          const docLinkHtml = 'Like what you see? Visit the ' +\n",
              "            '<a target=\"_blank\" href=https://colab.research.google.com/notebooks/data_table.ipynb>data table notebook</a>'\n",
              "            + ' to learn more about interactive tables.';\n",
              "          element.innerHTML = '';\n",
              "          dataTable['output_type'] = 'display_data';\n",
              "          await google.colab.output.renderOutput(dataTable, element);\n",
              "          const docLink = document.createElement('div');\n",
              "          docLink.innerHTML = docLinkHtml;\n",
              "          element.appendChild(docLink);\n",
              "        }\n",
              "      </script>\n",
              "    </div>\n",
              "  </div>\n",
              "  "
            ]
          },
          "metadata": {},
          "execution_count": 1
        }
      ]
    },
    {
      "cell_type": "markdown",
      "source": [
        "For the PC lab, we will aggregate the individual 5-minute observations to hour-level observations. The following code processes the data:\n",
        "\n",
        "Think for yourself what the advantages and disadvantages are of working at this reduced temporal resolution."
      ],
      "metadata": {
        "id": "kux7BEuBemUS"
      }
    },
    {
      "cell_type": "code",
      "source": [
        "data_raw[\"Date_hour\"] = data_raw[\"Ordening\"].str.split(':', expand = True)[0]\n",
        "data_grouped = data_raw.groupby(\"Date_hour\").sum()\n",
        "data = pd.concat([data_grouped.index.to_series().str.split('T', expand = True), data_grouped[\"Totaal\"]], axis = 1).reset_index(drop = True)\n",
        "data.columns = ['Date', 'Hour', 'n']\n",
        "data = pd.concat([data, pd.DataFrame([[\"2022-03-27\", \"02\", 0.0]], columns = data.columns)], axis = 0).sort_values([\"Date\", \"Hour\"]) # ignore this line, this is because there is no observation for this date/hour\n",
        "data[\"n_norm\"] = data[\"n\"] / data[\"n\"].max() # we min-max normalize here for learning stability\n",
        "data"
      ],
      "metadata": {
        "id": "qRZFEx2Od2vd",
        "outputId": "ea50f6d0-399c-4d18-84ac-12732258d936",
        "colab": {
          "base_uri": "https://localhost:8080/",
          "height": 424
        }
      },
      "execution_count": 2,
      "outputs": [
        {
          "output_type": "execute_result",
          "data": {
            "text/plain": [
              "            Date Hour      n    n_norm\n",
              "0     2022-01-01   00   30.0  0.018484\n",
              "1     2022-01-01   01  110.0  0.067776\n",
              "2     2022-01-01   02  117.0  0.072089\n",
              "3     2022-01-01   03  148.0  0.091189\n",
              "4     2022-01-01   04  150.0  0.092421\n",
              "...          ...  ...    ...       ...\n",
              "5082  2022-07-31   19  217.0  0.133703\n",
              "5083  2022-07-31   20  151.0  0.093038\n",
              "5084  2022-07-31   21  156.0  0.096118\n",
              "5085  2022-07-31   22  116.0  0.071473\n",
              "5086  2022-07-31   23   59.0  0.036352\n",
              "\n",
              "[5088 rows x 4 columns]"
            ],
            "text/html": [
              "\n",
              "  <div id=\"df-22f1963e-218e-420c-8611-aa3a56dbd41b\">\n",
              "    <div class=\"colab-df-container\">\n",
              "      <div>\n",
              "<style scoped>\n",
              "    .dataframe tbody tr th:only-of-type {\n",
              "        vertical-align: middle;\n",
              "    }\n",
              "\n",
              "    .dataframe tbody tr th {\n",
              "        vertical-align: top;\n",
              "    }\n",
              "\n",
              "    .dataframe thead th {\n",
              "        text-align: right;\n",
              "    }\n",
              "</style>\n",
              "<table border=\"1\" class=\"dataframe\">\n",
              "  <thead>\n",
              "    <tr style=\"text-align: right;\">\n",
              "      <th></th>\n",
              "      <th>Date</th>\n",
              "      <th>Hour</th>\n",
              "      <th>n</th>\n",
              "      <th>n_norm</th>\n",
              "    </tr>\n",
              "  </thead>\n",
              "  <tbody>\n",
              "    <tr>\n",
              "      <th>0</th>\n",
              "      <td>2022-01-01</td>\n",
              "      <td>00</td>\n",
              "      <td>30.0</td>\n",
              "      <td>0.018484</td>\n",
              "    </tr>\n",
              "    <tr>\n",
              "      <th>1</th>\n",
              "      <td>2022-01-01</td>\n",
              "      <td>01</td>\n",
              "      <td>110.0</td>\n",
              "      <td>0.067776</td>\n",
              "    </tr>\n",
              "    <tr>\n",
              "      <th>2</th>\n",
              "      <td>2022-01-01</td>\n",
              "      <td>02</td>\n",
              "      <td>117.0</td>\n",
              "      <td>0.072089</td>\n",
              "    </tr>\n",
              "    <tr>\n",
              "      <th>3</th>\n",
              "      <td>2022-01-01</td>\n",
              "      <td>03</td>\n",
              "      <td>148.0</td>\n",
              "      <td>0.091189</td>\n",
              "    </tr>\n",
              "    <tr>\n",
              "      <th>4</th>\n",
              "      <td>2022-01-01</td>\n",
              "      <td>04</td>\n",
              "      <td>150.0</td>\n",
              "      <td>0.092421</td>\n",
              "    </tr>\n",
              "    <tr>\n",
              "      <th>...</th>\n",
              "      <td>...</td>\n",
              "      <td>...</td>\n",
              "      <td>...</td>\n",
              "      <td>...</td>\n",
              "    </tr>\n",
              "    <tr>\n",
              "      <th>5082</th>\n",
              "      <td>2022-07-31</td>\n",
              "      <td>19</td>\n",
              "      <td>217.0</td>\n",
              "      <td>0.133703</td>\n",
              "    </tr>\n",
              "    <tr>\n",
              "      <th>5083</th>\n",
              "      <td>2022-07-31</td>\n",
              "      <td>20</td>\n",
              "      <td>151.0</td>\n",
              "      <td>0.093038</td>\n",
              "    </tr>\n",
              "    <tr>\n",
              "      <th>5084</th>\n",
              "      <td>2022-07-31</td>\n",
              "      <td>21</td>\n",
              "      <td>156.0</td>\n",
              "      <td>0.096118</td>\n",
              "    </tr>\n",
              "    <tr>\n",
              "      <th>5085</th>\n",
              "      <td>2022-07-31</td>\n",
              "      <td>22</td>\n",
              "      <td>116.0</td>\n",
              "      <td>0.071473</td>\n",
              "    </tr>\n",
              "    <tr>\n",
              "      <th>5086</th>\n",
              "      <td>2022-07-31</td>\n",
              "      <td>23</td>\n",
              "      <td>59.0</td>\n",
              "      <td>0.036352</td>\n",
              "    </tr>\n",
              "  </tbody>\n",
              "</table>\n",
              "<p>5088 rows × 4 columns</p>\n",
              "</div>\n",
              "      <button class=\"colab-df-convert\" onclick=\"convertToInteractive('df-22f1963e-218e-420c-8611-aa3a56dbd41b')\"\n",
              "              title=\"Convert this dataframe to an interactive table.\"\n",
              "              style=\"display:none;\">\n",
              "        \n",
              "  <svg xmlns=\"http://www.w3.org/2000/svg\" height=\"24px\"viewBox=\"0 0 24 24\"\n",
              "       width=\"24px\">\n",
              "    <path d=\"M0 0h24v24H0V0z\" fill=\"none\"/>\n",
              "    <path d=\"M18.56 5.44l.94 2.06.94-2.06 2.06-.94-2.06-.94-.94-2.06-.94 2.06-2.06.94zm-11 1L8.5 8.5l.94-2.06 2.06-.94-2.06-.94L8.5 2.5l-.94 2.06-2.06.94zm10 10l.94 2.06.94-2.06 2.06-.94-2.06-.94-.94-2.06-.94 2.06-2.06.94z\"/><path d=\"M17.41 7.96l-1.37-1.37c-.4-.4-.92-.59-1.43-.59-.52 0-1.04.2-1.43.59L10.3 9.45l-7.72 7.72c-.78.78-.78 2.05 0 2.83L4 21.41c.39.39.9.59 1.41.59.51 0 1.02-.2 1.41-.59l7.78-7.78 2.81-2.81c.8-.78.8-2.07 0-2.86zM5.41 20L4 18.59l7.72-7.72 1.47 1.35L5.41 20z\"/>\n",
              "  </svg>\n",
              "      </button>\n",
              "      \n",
              "  <style>\n",
              "    .colab-df-container {\n",
              "      display:flex;\n",
              "      flex-wrap:wrap;\n",
              "      gap: 12px;\n",
              "    }\n",
              "\n",
              "    .colab-df-convert {\n",
              "      background-color: #E8F0FE;\n",
              "      border: none;\n",
              "      border-radius: 50%;\n",
              "      cursor: pointer;\n",
              "      display: none;\n",
              "      fill: #1967D2;\n",
              "      height: 32px;\n",
              "      padding: 0 0 0 0;\n",
              "      width: 32px;\n",
              "    }\n",
              "\n",
              "    .colab-df-convert:hover {\n",
              "      background-color: #E2EBFA;\n",
              "      box-shadow: 0px 1px 2px rgba(60, 64, 67, 0.3), 0px 1px 3px 1px rgba(60, 64, 67, 0.15);\n",
              "      fill: #174EA6;\n",
              "    }\n",
              "\n",
              "    [theme=dark] .colab-df-convert {\n",
              "      background-color: #3B4455;\n",
              "      fill: #D2E3FC;\n",
              "    }\n",
              "\n",
              "    [theme=dark] .colab-df-convert:hover {\n",
              "      background-color: #434B5C;\n",
              "      box-shadow: 0px 1px 3px 1px rgba(0, 0, 0, 0.15);\n",
              "      filter: drop-shadow(0px 1px 2px rgba(0, 0, 0, 0.3));\n",
              "      fill: #FFFFFF;\n",
              "    }\n",
              "  </style>\n",
              "\n",
              "      <script>\n",
              "        const buttonEl =\n",
              "          document.querySelector('#df-22f1963e-218e-420c-8611-aa3a56dbd41b button.colab-df-convert');\n",
              "        buttonEl.style.display =\n",
              "          google.colab.kernel.accessAllowed ? 'block' : 'none';\n",
              "\n",
              "        async function convertToInteractive(key) {\n",
              "          const element = document.querySelector('#df-22f1963e-218e-420c-8611-aa3a56dbd41b');\n",
              "          const dataTable =\n",
              "            await google.colab.kernel.invokeFunction('convertToInteractive',\n",
              "                                                     [key], {});\n",
              "          if (!dataTable) return;\n",
              "\n",
              "          const docLinkHtml = 'Like what you see? Visit the ' +\n",
              "            '<a target=\"_blank\" href=https://colab.research.google.com/notebooks/data_table.ipynb>data table notebook</a>'\n",
              "            + ' to learn more about interactive tables.';\n",
              "          element.innerHTML = '';\n",
              "          dataTable['output_type'] = 'display_data';\n",
              "          await google.colab.output.renderOutput(dataTable, element);\n",
              "          const docLink = document.createElement('div');\n",
              "          docLink.innerHTML = docLinkHtml;\n",
              "          element.appendChild(docLink);\n",
              "        }\n",
              "      </script>\n",
              "    </div>\n",
              "  </div>\n",
              "  "
            ]
          },
          "metadata": {},
          "execution_count": 2
        }
      ]
    },
    {
      "cell_type": "markdown",
      "source": [
        "Architecturally, autoregressive modeling of a timeseries looks like this:\n",
        "\n",
        "<img src=\"https://raw.githubusercontent.com/gdewael/teaching/main/predmod/RNNs/AR.png\" width = 500>\n",
        "\n",
        "For every point in the timeseries, the *input token* consists of the value at that timepoint and, optionally, extra covariates pertaining to that timepoint. Conceptually, this is similar to the channels in a CNN, as there we also had input tokens (e.g. pixels) with multiple values (e.g. the 3 RGB values) per token. In our case, extra covariates could be for example the hour at which that timepoint was taken. This input sequence will go into the RNN, which will keep a hidden layer which acts as a memory bank. The memory bank of every input will consist of a combination of the information at that time point and the information coming in from the memory cell at the previous time point. The specific way this information is brought together depends on the specific construction of the RNN. We refer you to the theory lectures for details. The most popular constructions are the LSTM and the GRU memory cells. For every timestep, the model outputs a vector which (for this purpose) needs to be linearly recombined to one number as our goal is to predict the value of the next timestep (i.e. a regression task).\n",
        "\n",
        "Code-wise, it is important to know that for a given sequence, we have an input $x$ consisting of the timepoints in that sequence, and an output $y$, consisting of the same points, but **shifted one time-step to the left**. **Because of the directionality of the RNN, for every time-step, it will predict the next point given only the preceding ones.**\n",
        "\n",
        "In this PC-lab, we will use the hour of the timepoint as covariate.\n",
        "\n",
        "For training, we can't put all days in to our model as one sample. Just like the reason for doing batches in other networks is that: it is more computationally efficient, and it allows us to have training steps on different parts of data with some stochasticity to it, allowing us to jump out of local minima.\n",
        "\n",
        "**For RNN, another reason is that our \"actual\" neural network depth is essentially decided by our input length**, so if we send in a sample containing a thousand input tokens, we also backpropagate through a thousand layers, and our computers will surely crash. In addition, it is not reasonable to assume the number of cyclists hundreds of days past still influences the number of cyclists now. So, the problem of batching our sequence becomes one of weighing two factors: how long of a sequence can our model handle, and how much context (in number of preceding tokens) do our models need for prediction?\n",
        "\n",
        "Here we will take a batch size of 48 as a default, meaning that our samples will always coincide with two consecutive days."
      ],
      "metadata": {
        "id": "45I4eXgtdUrm"
      }
    },
    {
      "cell_type": "code",
      "source": [
        "def generate_batches(sequence, seqlen = 48):\n",
        "    batches = []\n",
        "    for i in np.arange(0, len(sequence) - seqlen, seqlen):\n",
        "        batches.append(sequence[i:i+seqlen])\n",
        "    return torch.stack(batches)\n",
        "\n",
        "batches = generate_batches(torch.tensor(data[[\"Hour\", \"n_norm\"]].values.astype(np.float32)))"
      ],
      "metadata": {
        "id": "H_xO94-nfEUJ"
      },
      "execution_count": 3,
      "outputs": []
    },
    {
      "cell_type": "markdown",
      "source": [
        "Let's see how a sample looks like:"
      ],
      "metadata": {
        "id": "8DeB-YAajJye"
      }
    },
    {
      "cell_type": "code",
      "source": [
        "batches.shape"
      ],
      "metadata": {
        "id": "oV9G5RHzmiW1",
        "outputId": "1a4a7d8c-8b36-49c6-9faa-70c818c34cd7",
        "colab": {
          "base_uri": "https://localhost:8080/"
        }
      },
      "execution_count": 4,
      "outputs": [
        {
          "output_type": "execute_result",
          "data": {
            "text/plain": [
              "torch.Size([105, 48, 2])"
            ]
          },
          "metadata": {},
          "execution_count": 4
        }
      ]
    },
    {
      "cell_type": "code",
      "source": [
        "batches[0]"
      ],
      "metadata": {
        "id": "kqNij14zjIlf",
        "outputId": "59f468af-6f53-4021-9652-61acecb08faf",
        "colab": {
          "base_uri": "https://localhost:8080/"
        }
      },
      "execution_count": 5,
      "outputs": [
        {
          "output_type": "execute_result",
          "data": {
            "text/plain": [
              "tensor([[0.0000e+00, 1.8484e-02],\n",
              "        [1.0000e+00, 6.7776e-02],\n",
              "        [2.0000e+00, 7.2089e-02],\n",
              "        [3.0000e+00, 9.1189e-02],\n",
              "        [4.0000e+00, 9.2421e-02],\n",
              "        [5.0000e+00, 6.3463e-02],\n",
              "        [6.0000e+00, 4.3130e-02],\n",
              "        [7.0000e+00, 4.8059e-02],\n",
              "        [8.0000e+00, 2.3413e-02],\n",
              "        [9.0000e+00, 2.3413e-02],\n",
              "        [1.0000e+01, 3.2039e-02],\n",
              "        [1.1000e+01, 6.3463e-02],\n",
              "        [1.2000e+01, 7.5786e-02],\n",
              "        [1.3000e+01, 8.1947e-02],\n",
              "        [1.4000e+01, 1.0351e-01],\n",
              "        [1.5000e+01, 1.2138e-01],\n",
              "        [1.6000e+01, 1.2877e-01],\n",
              "        [1.7000e+01, 8.7492e-02],\n",
              "        [1.8000e+01, 6.5311e-02],\n",
              "        [1.9000e+01, 5.4837e-02],\n",
              "        [2.0000e+01, 4.1282e-02],\n",
              "        [2.1000e+01, 4.8675e-02],\n",
              "        [2.2000e+01, 4.3130e-02],\n",
              "        [2.3000e+01, 2.4646e-02],\n",
              "        [0.0000e+00, 1.3555e-02],\n",
              "        [1.0000e+00, 5.5453e-03],\n",
              "        [2.0000e+00, 2.4646e-03],\n",
              "        [3.0000e+00, 2.4646e-03],\n",
              "        [4.0000e+00, 1.8484e-03],\n",
              "        [5.0000e+00, 6.1614e-03],\n",
              "        [6.0000e+00, 1.3555e-02],\n",
              "        [7.0000e+00, 8.0099e-03],\n",
              "        [8.0000e+00, 1.9100e-02],\n",
              "        [9.0000e+00, 4.9291e-02],\n",
              "        [1.0000e+01, 6.9008e-02],\n",
              "        [1.1000e+01, 8.7492e-02],\n",
              "        [1.2000e+01, 1.0166e-01],\n",
              "        [1.3000e+01, 1.0474e-01],\n",
              "        [1.4000e+01, 9.3038e-02],\n",
              "        [1.5000e+01, 9.8583e-02],\n",
              "        [1.6000e+01, 1.0290e-01],\n",
              "        [1.7000e+01, 9.4270e-02],\n",
              "        [1.8000e+01, 9.4270e-02],\n",
              "        [1.9000e+01, 6.1614e-02],\n",
              "        [2.0000e+01, 6.5927e-02],\n",
              "        [2.1000e+01, 4.4978e-02],\n",
              "        [2.2000e+01, 3.9433e-02],\n",
              "        [2.3000e+01, 2.8343e-02]])"
            ]
          },
          "metadata": {},
          "execution_count": 5
        }
      ]
    },
    {
      "cell_type": "markdown",
      "source": [
        "We could give our input to the model like this, as the hour is a numerical value which can be interpreted using linear layers. It would make more sense to treat the hour variable as categorical and encode it using dummy variables (one-hot encoding)."
      ],
      "metadata": {
        "id": "Fogv0s--jiXD"
      }
    },
    {
      "cell_type": "code",
      "source": [
        "one_hot_hour = torch.nn.functional.one_hot(batches[:, :, 0].long())\n",
        "\n",
        "one_hot_hour.shape"
      ],
      "metadata": {
        "id": "1XAhDa7pmdNd",
        "outputId": "a33c8854-007a-4495-9282-357a3d1cff13",
        "colab": {
          "base_uri": "https://localhost:8080/"
        }
      },
      "execution_count": 6,
      "outputs": [
        {
          "output_type": "execute_result",
          "data": {
            "text/plain": [
              "torch.Size([105, 48, 24])"
            ]
          },
          "metadata": {},
          "execution_count": 6
        }
      ]
    },
    {
      "cell_type": "code",
      "source": [
        "batches = torch.cat([batches[:, :, [1]], one_hot_hour], axis = 2)"
      ],
      "metadata": {
        "id": "1RTNwK3Amv21"
      },
      "execution_count": 7,
      "outputs": []
    },
    {
      "cell_type": "code",
      "source": [
        "batches.shape"
      ],
      "metadata": {
        "id": "5h43ZQWKm3G4",
        "outputId": "f54b3a8e-11bd-4e31-b647-113b4e3859b3",
        "colab": {
          "base_uri": "https://localhost:8080/"
        }
      },
      "execution_count": 8,
      "outputs": [
        {
          "output_type": "execute_result",
          "data": {
            "text/plain": [
              "torch.Size([105, 48, 25])"
            ]
          },
          "metadata": {},
          "execution_count": 8
        }
      ]
    },
    {
      "cell_type": "code",
      "source": [
        "batches[0]"
      ],
      "metadata": {
        "id": "Aw3OsNCom4Ic",
        "outputId": "ec10e238-0ed2-42c4-c40d-38347e69baa4",
        "colab": {
          "base_uri": "https://localhost:8080/"
        }
      },
      "execution_count": 9,
      "outputs": [
        {
          "output_type": "execute_result",
          "data": {
            "text/plain": [
              "tensor([[0.0185, 1.0000, 0.0000,  ..., 0.0000, 0.0000, 0.0000],\n",
              "        [0.0678, 0.0000, 1.0000,  ..., 0.0000, 0.0000, 0.0000],\n",
              "        [0.0721, 0.0000, 0.0000,  ..., 0.0000, 0.0000, 0.0000],\n",
              "        ...,\n",
              "        [0.0450, 0.0000, 0.0000,  ..., 1.0000, 0.0000, 0.0000],\n",
              "        [0.0394, 0.0000, 0.0000,  ..., 0.0000, 1.0000, 0.0000],\n",
              "        [0.0283, 0.0000, 0.0000,  ..., 0.0000, 0.0000, 1.0000]])"
            ]
          },
          "metadata": {},
          "execution_count": 9
        }
      ]
    },
    {
      "cell_type": "markdown",
      "source": [
        "### RNNs in PyTorch\n",
        "\n",
        "In this PC-lab we will use the GRU, but note that other RNN-types work similarly in PyTorch.\n",
        "\n",
        "[Documentation for the GRU](https://pytorch.org/docs/stable/generated/torch.nn.GRU.html)\n",
        "\n",
        "Extra note: The weird shape expectations (such as not expecting batches to come first by default) are a consequence of optimizations that PyTorch has implemented so the RNNs run efficiently on data with variable input sequence lengths (such as sentences). For this PC lab, we have batched our sequences so that they have constant sequence length, so we can add the argument `batch_first = True`.\n",
        "\n",
        "Let's create a GRU and some toy data to see how it all works:"
      ],
      "metadata": {
        "id": "autQkT0vn_L5"
      }
    },
    {
      "cell_type": "code",
      "source": [
        "gru = nn.GRU(input_size = 64, hidden_size = 512, batch_first = True)"
      ],
      "metadata": {
        "id": "m_Z39C9soQXX"
      },
      "execution_count": 10,
      "outputs": []
    },
    {
      "cell_type": "code",
      "source": [
        "x = torch.randn(2, 50, 64)\n",
        "output, h_n = gru(x)\n",
        "output.shape, h_n.shape"
      ],
      "metadata": {
        "id": "6XU72dghoRnu",
        "outputId": "c2b28691-f1b0-4c77-dc81-7eec10b9f971",
        "colab": {
          "base_uri": "https://localhost:8080/"
        }
      },
      "execution_count": 11,
      "outputs": [
        {
          "output_type": "execute_result",
          "data": {
            "text/plain": [
              "(torch.Size([2, 50, 512]), torch.Size([1, 2, 512]))"
            ]
          },
          "metadata": {},
          "execution_count": 11
        }
      ]
    },
    {
      "cell_type": "markdown",
      "source": [
        "Explanation of the outputs: `h_n` is the hidden representation of the last hidden memory cell. It can be seen as a summarized representation of the content of the whole input (if one wants a single output for a whole sequence as in e.g. sentence classification). `output` will return the output representation of the RNN for every input token. (Look back at the picture in the introduction of this part of the PC lab (Section 2.1) for more intuition as to when to use what outputs of the RNN)"
      ],
      "metadata": {
        "id": "y7h1DZBHoX9o"
      }
    },
    {
      "cell_type": "markdown",
      "source": [
        "For autoregressive modeling of time series, we should have an output for every input, mainly: the prediction of the next timepoint. For our purpose, we are interested to predict a single output per timepoint, whereas we can see that this is not the case for our GRU model as it is now. We can remedy this with a simple linear layer \n",
        "\n",
        "<div class=\"alert alert-success\">\n",
        "\n",
        "<b>EXERCISE:</b> \n",
        "<p> Implement an autoregressive GRU for cycler forecasting by completing the code below. The model should contain a recurrent layer, and a layer that takes the outputs of the GRU at each timestep and manipulates their dimensions so that the output dimensionality of each token is equal to one. Keep in mind how many input variables we have in our dataset. (Look at the $batches$ variable).\n",
        "</p>\n",
        "\n",
        "</div>\n",
        "\n",
        "Test your model with some toy data down below.\n",
        "\n"
      ],
      "metadata": {
        "id": "1jPd_xQpolKr"
      }
    },
    {
      "cell_type": "code",
      "source": [
        "class CyclerForecaster(nn.Module):\n",
        "    def __init__(self, input_dim = 25, hidden_dim = 64):\n",
        "        super().__init__()\n",
        "        self.gru = nn.GRU(input_size = input_dim, hidden_size = hidden_dim, batch_first = True)\n",
        "        self.output_head = nn.Linear(hidden_dim, 1)\n",
        "\n",
        "    def forward(self, x):\n",
        "        output, _ = self.gru(x)\n",
        "        return self.output_head(output)"
      ],
      "metadata": {
        "id": "13mJg1lqomei"
      },
      "execution_count": 12,
      "outputs": []
    },
    {
      "cell_type": "code",
      "source": [
        "model = CyclerForecaster()\n",
        "\n",
        "x = torch.randn(2, 48, 25)\n",
        "\n",
        "y = model(x)\n",
        "\n",
        "y.shape"
      ],
      "metadata": {
        "id": "PPgN3P4NpvJL",
        "outputId": "6e8bb24f-27e2-4de1-8cb9-7f9d83acddf4",
        "colab": {
          "base_uri": "https://localhost:8080/"
        }
      },
      "execution_count": 13,
      "outputs": [
        {
          "output_type": "execute_result",
          "data": {
            "text/plain": [
              "torch.Size([2, 48, 1])"
            ]
          },
          "metadata": {},
          "execution_count": 13
        }
      ]
    },
    {
      "cell_type": "markdown",
      "source": [
        "To create an input and an output, we have to do the above-mentioned shifting. In practice, this means that we take all but the last timepoints to create X, and all but the first timepoints to create Y, hence creating shifted X,y pairs.\n",
        "\n",
        "Additionally, for y, we only want to keep the first variable, meaning the number of cyclists itself."
      ],
      "metadata": {
        "id": "QwqJ1fTpnCWa"
      }
    },
    {
      "cell_type": "code",
      "source": [
        "X = batches[:, :-1]\n",
        "\n",
        "y = batches[:, 1:]\n",
        "y = y[:, :, [0]]\n",
        "\n",
        "print(X.shape, y.shape)"
      ],
      "metadata": {
        "id": "XMw9_32bf9hj",
        "outputId": "233baa11-ee36-4aeb-d7e7-186700beccd8",
        "colab": {
          "base_uri": "https://localhost:8080/"
        }
      },
      "execution_count": 14,
      "outputs": [
        {
          "output_type": "stream",
          "name": "stdout",
          "text": [
            "torch.Size([105, 47, 25]) torch.Size([105, 47, 1])\n"
          ]
        }
      ]
    },
    {
      "cell_type": "markdown",
      "source": [
        "Data splitting:"
      ],
      "metadata": {
        "id": "Shw0wQUNrLiz"
      }
    },
    {
      "cell_type": "code",
      "source": [
        "X_train = X[:int(batches.shape[0] * 0.80)]\n",
        "X_test = X[int(batches.shape[0] * 0.80):]\n",
        "\n",
        "y_train = y[:int(batches.shape[0] * 0.80)]\n",
        "y_test = y[int(batches.shape[0] * 0.80):]\n",
        "\n",
        "train_dataset = torch.utils.data.TensorDataset(X_train, y_train)\n",
        "train_dataloader = torch.utils.data.DataLoader(train_dataset, batch_size = 8, shuffle = True)\n",
        "\n",
        "test_dataset = torch.utils.data.TensorDataset(X_test, y_test)\n",
        "test_dataloader = torch.utils.data.DataLoader(test_dataset, batch_size = 8, shuffle = True)"
      ],
      "metadata": {
        "id": "yvr5sBhDhR5G"
      },
      "execution_count": 15,
      "outputs": []
    },
    {
      "cell_type": "markdown",
      "source": [
        "Note that we are just taking the first 80% of the data as training and the last 20% as validation set. Normally, we shuffle our data so that we are not biased. In this case, however, we can make a case for doing it our way: because the samples are ordered by day and month, the last samples will be from the summer months, where we may expect different patterns (June: exams, July: vacations)."
      ],
      "metadata": {
        "id": "tM5AD2u7rNA2"
      }
    },
    {
      "cell_type": "markdown",
      "source": [
        "<div class=\"alert alert-success\">\n",
        "\n",
        "<b>EXERCISE:</b> \n",
        "<p> Implement the training loop for the Cycler Forecaster using the same principles from last PC labs. Keep in mind that unlike previous PC labs, we are now training a regression task. You will also need to up the number of epochs as our dataset is quite small and each epoch only constitutes a small number of training steps.\n",
        "</p>\n",
        "\n",
        "</div>\n"
      ],
      "metadata": {
        "id": "DmpFl85TvvF0"
      }
    },
    {
      "cell_type": "code",
      "source": [
        "N_EPOCHS = 250\n",
        "\n",
        "model = CyclerForecaster()\n",
        "\n",
        "loss_function = nn.MSELoss()\n",
        "\n",
        "optimizer = torch.optim.Adam(model.parameters(), lr=0.0005) # SGD = stochastic gradient descent\n",
        "\n",
        "for i in range(1, N_EPOCHS + 1):\n",
        "    all_losses = []\n",
        "    model.train()\n",
        "    for batch in train_dataloader:\n",
        "        optimizer.zero_grad()\n",
        "        X_batch, y_batch = batch\n",
        "\n",
        "        y_hat_batch = model(X_batch)\n",
        "\n",
        "        loss = loss_function(y_hat_batch, y_batch) # Compute loss\n",
        "\n",
        "        loss.backward()   # Calculate gradients\n",
        "        optimizer.step()   # Update weights using defined optimizer\n",
        "\n",
        "        all_losses.append(loss.item())\n",
        "    train_loss = np.mean(all_losses)\n",
        "    \n",
        "    predictions = []\n",
        "    true_labels = []\n",
        "    losses = []\n",
        "\n",
        "    with torch.no_grad():\n",
        "        model.eval()\n",
        "        for batch in test_dataloader:\n",
        "            X_batch, y_batch = batch\n",
        "\n",
        "            y_hat_batch = model(X_batch)\n",
        "\n",
        "            loss = loss_function(y_hat_batch, y_batch)\n",
        "\n",
        "            losses.append(loss.item())\n",
        "            predictions.append(y_hat_batch)\n",
        "            true_labels.append(y_batch)\n",
        "\n",
        "    predictions = torch.cat(predictions)\n",
        "    true_labels = torch.cat(true_labels)\n",
        "\n",
        "    print(i, '\\t', train_loss, np.mean(losses))"
      ],
      "metadata": {
        "id": "RclHsVTChfYQ",
        "outputId": "e91d4933-9189-4764-b7f2-837413a5aeaa",
        "colab": {
          "base_uri": "https://localhost:8080/"
        }
      },
      "execution_count": 16,
      "outputs": [
        {
          "output_type": "stream",
          "name": "stdout",
          "text": [
            "1 \t 0.07990613173354756 0.03548333172996839\n",
            "2 \t 0.03620390915735201 0.01397782051935792\n",
            "3 \t 0.023840261877260426 0.014538462894658247\n",
            "4 \t 0.020364973101426254 0.009954212388644615\n",
            "5 \t 0.01778936961835081 0.009113934511939684\n",
            "6 \t 0.016016812148419293 0.007934603529671827\n",
            "7 \t 0.015079026279801672 0.008091913536190987\n",
            "8 \t 0.01391583223911849 0.007116456671307485\n",
            "9 \t 0.01333810846236619 0.00690631444255511\n",
            "10 \t 0.012533353726294908 0.006659166266520818\n",
            "11 \t 0.012438172135840763 0.006769891828298569\n",
            "12 \t 0.011429627595300024 0.006498307300110658\n",
            "13 \t 0.010900430000302467 0.006786893277118604\n",
            "14 \t 0.010552088772370056 0.006151698374499877\n",
            "15 \t 0.00986564244058999 0.006064617540687323\n",
            "16 \t 0.009538114875216375 0.005940134326616923\n",
            "17 \t 0.009240836624733427 0.0058334812832375365\n",
            "18 \t 0.00901061702858318 0.005758993017176787\n",
            "19 \t 0.008751683953133497 0.005902566170940797\n",
            "20 \t 0.008443512784486467 0.005719190929085016\n",
            "21 \t 0.008022053929215128 0.005572314995030562\n",
            "22 \t 0.00785370949994434 0.005643799590567748\n",
            "23 \t 0.0077043242159892215 0.005537680971125762\n",
            "24 \t 0.007411731195382096 0.0054118566525479155\n",
            "25 \t 0.00738589165054939 0.0054388393958409624\n",
            "26 \t 0.007411271312528036 0.005568194513519605\n",
            "27 \t 0.007308876480568539 0.005878107777486245\n",
            "28 \t 0.007205943365327336 0.005465862962106864\n",
            "29 \t 0.007144864394583486 0.005772144844134648\n",
            "30 \t 0.007043604231016202 0.005671483774979909\n",
            "31 \t 0.006943243301727555 0.005763161151359479\n",
            "32 \t 0.006773198912428184 0.005880615829179685\n",
            "33 \t 0.006909464612941851 0.005717030105491479\n",
            "34 \t 0.006709676913239739 0.005654745424787204\n",
            "35 \t 0.006747965446927331 0.005519575905054808\n",
            "36 \t 0.006682347421619025 0.0057222590160866576\n",
            "37 \t 0.006770969156853177 0.005556238815188408\n",
            "38 \t 0.006676934066821228 0.0051987584835539264\n",
            "39 \t 0.006498200903561982 0.005448089757313331\n",
            "40 \t 0.006545896684242921 0.005447765967498223\n",
            "41 \t 0.006557547317987139 0.0056595210917294025\n",
            "42 \t 0.006359521849927577 0.005563439646114905\n",
            "43 \t 0.006385165055028417 0.0053859179218610125\n",
            "44 \t 0.006377108479765328 0.005487443413585424\n",
            "45 \t 0.00613561334003779 0.005493484903126955\n",
            "46 \t 0.0062818548388101835 0.005203096351275842\n",
            "47 \t 0.006198845846070485 0.005383913405239582\n",
            "48 \t 0.006252313921736045 0.005048237896213929\n",
            "49 \t 0.006198765794661912 0.005130330566316843\n",
            "50 \t 0.0060881763188676405 0.005098455585539341\n",
            "51 \t 0.006099686280570247 0.005235608822355668\n",
            "52 \t 0.00600729827684435 0.005170106111715238\n",
            "53 \t 0.005829734177413312 0.004955279097581903\n",
            "54 \t 0.005979578137736429 0.005165722065915664\n",
            "55 \t 0.0057767622850157995 0.0050776125863194466\n",
            "56 \t 0.005713590378449721 0.004811267834156752\n",
            "57 \t 0.005792111370035193 0.0051880500589807825\n",
            "58 \t 0.005722905636172403 0.005123123060911894\n",
            "59 \t 0.005597757217897611 0.004939401056617498\n",
            "60 \t 0.005596112629229372 0.004947509461392959\n",
            "61 \t 0.005414107835597612 0.004859437622750799\n",
            "62 \t 0.0055686657486314125 0.004768108017742634\n",
            "63 \t 0.005379865369336171 0.00494802207686007\n",
            "64 \t 0.005293712062253194 0.0047876300135006504\n",
            "65 \t 0.005280735140497034 0.00491933027903239\n",
            "66 \t 0.005327585407278754 0.004640046274289489\n",
            "67 \t 0.005296895915473049 0.004570839072888096\n",
            "68 \t 0.005207351027903232 0.004647520215560992\n",
            "69 \t 0.005033944585275921 0.00446289995064338\n",
            "70 \t 0.005093910858373751 0.004569446978469689\n",
            "71 \t 0.005033725216476755 0.004446382246290644\n",
            "72 \t 0.005075850883837451 0.0045636870587865514\n",
            "73 \t 0.004917784276503054 0.004683124910419186\n",
            "74 \t 0.004965973594649272 0.004327344708144665\n",
            "75 \t 0.004803343464366414 0.004294448997825384\n",
            "76 \t 0.004729944069615819 0.004529603291302919\n",
            "77 \t 0.004742478909478946 0.004527948951969544\n",
            "78 \t 0.004900419364937327 0.0043967302578190965\n",
            "79 \t 0.004717458674514835 0.004137990064918995\n",
            "80 \t 0.004575756907632405 0.004215606876338522\n",
            "81 \t 0.0046190804886547 0.004183736862614751\n",
            "82 \t 0.004715431481599808 0.0045021957873056335\n",
            "83 \t 0.004615474936806343 0.003861511048550407\n",
            "84 \t 0.004521415441889654 0.003998911551510294\n",
            "85 \t 0.004445747324180874 0.004019386212651928\n",
            "86 \t 0.004459348634224047 0.004061354634662469\n",
            "87 \t 0.004358052297241308 0.00411182246170938\n",
            "88 \t 0.004351940619843927 0.004014480781431\n",
            "89 \t 0.004302595234052701 0.003734255131954948\n",
            "90 \t 0.004304584983566945 0.0038860271063943705\n",
            "91 \t 0.0041760120498524475 0.003751044316838185\n",
            "92 \t 0.004213668871670961 0.003764499444514513\n",
            "93 \t 0.00415784402073107 0.0036160338980456195\n",
            "94 \t 0.004043896111067046 0.003671318059787154\n",
            "95 \t 0.004049391718581319 0.0038266010427226624\n",
            "96 \t 0.004094389881092039 0.003716778941452503\n",
            "97 \t 0.0039440774231810465 0.0035166547168046236\n",
            "98 \t 0.0038969824196432123 0.003485071395213405\n",
            "99 \t 0.00400293214161965 0.0037028636628141007\n",
            "100 \t 0.003979883495379578 0.003577940398827195\n",
            "101 \t 0.0038349016738886185 0.003434906325613459\n",
            "102 \t 0.003857012711126696 0.003491533842558662\n",
            "103 \t 0.003844079476865855 0.0034153794404119253\n",
            "104 \t 0.00374415678776462 0.003293230819205443\n",
            "105 \t 0.003765455214306712 0.0034981025382876396\n",
            "106 \t 0.0037279655860567636 0.0033499284957846007\n",
            "107 \t 0.0036883049602196975 0.0031895070181538663\n",
            "108 \t 0.0038184742866591973 0.0031799208372831345\n",
            "109 \t 0.003624157937751575 0.0031421993238230548\n",
            "110 \t 0.0035081083928658204 0.003322620022421082\n",
            "111 \t 0.0034969786012714558 0.003349768463522196\n",
            "112 \t 0.003442642448300665 0.0030346723118176064\n",
            "113 \t 0.0034854717933657494 0.0032334590796381235\n",
            "114 \t 0.003457813354378397 0.0029360847547650337\n",
            "115 \t 0.003354773581535979 0.0031516974171002707\n",
            "116 \t 0.003351027505810965 0.0029939465845624604\n",
            "117 \t 0.003283536230975931 0.002978371921926737\n",
            "118 \t 0.003246066097000783 0.0027894271382441125\n",
            "119 \t 0.003228247779506174 0.002867915745203694\n",
            "120 \t 0.003189202800223773 0.003013072768226266\n",
            "121 \t 0.003268415658650073 0.003012928646057844\n",
            "122 \t 0.0031290902036496186 0.003067671631773313\n",
            "123 \t 0.003101771760901267 0.003064543784906467\n",
            "124 \t 0.0031149357091635466 0.002806844733034571\n",
            "125 \t 0.0030204901387068358 0.0028435774923612676\n",
            "126 \t 0.0030017767567187548 0.002759341849014163\n",
            "127 \t 0.0029534566300836477 0.0029162008625765643\n",
            "128 \t 0.002978283848444169 0.00274028528171281\n",
            "129 \t 0.002868790772150863 0.00258260367748638\n",
            "130 \t 0.002864001869139346 0.002650768185655276\n",
            "131 \t 0.0027803851884197106 0.0026956788108994565\n",
            "132 \t 0.002794213275509802 0.0025882539339363575\n",
            "133 \t 0.002733911895616488 0.002679636391500632\n",
            "134 \t 0.0027094515231014652 0.0025060245922456184\n",
            "135 \t 0.0026880372103980994 0.0024722243348757424\n",
            "136 \t 0.002742599695920944 0.0025432995365311704\n",
            "137 \t 0.002676635451445525 0.002507933027421435\n",
            "138 \t 0.002717897147786888 0.0024910965779175362\n",
            "139 \t 0.0026045309337364 0.00235504067192475\n",
            "140 \t 0.0025505793640728702 0.002253629888097445\n",
            "141 \t 0.002498875075781887 0.0024846522913624844\n",
            "142 \t 0.002683344953270121 0.002343836318080624\n",
            "143 \t 0.0024594303368675437 0.0025247279554605484\n",
            "144 \t 0.0024943290362981234 0.0024012584860126176\n",
            "145 \t 0.0024913037195801735 0.0022460330898563066\n",
            "146 \t 0.0024069345619698816 0.0021365596912801266\n",
            "147 \t 0.0023941789245740933 0.0023809524718672037\n",
            "148 \t 0.0023524242305112157 0.002097153182451924\n",
            "149 \t 0.002350223345936022 0.002372429162884752\n",
            "150 \t 0.002338036460886625 0.0023205477433900037\n",
            "151 \t 0.0022872448158027096 0.0021658032201230526\n",
            "152 \t 0.002311545085500587 0.0021150432682285705\n",
            "153 \t 0.002299015992321074 0.0021462555353840194\n",
            "154 \t 0.0022155259291387415 0.0020433332150181136\n",
            "155 \t 0.0022105048939755016 0.00231540280704697\n",
            "156 \t 0.002200961493971673 0.0021704292545715966\n",
            "157 \t 0.002137403469532728 0.0022045903218289218\n",
            "158 \t 0.002154565998353064 0.0020969921024516225\n",
            "159 \t 0.002134401615793732 0.0022487088572233915\n",
            "160 \t 0.0021420968273146586 0.001958655115837852\n",
            "161 \t 0.002099621374244717 0.0021902304142713547\n",
            "162 \t 0.0020686498398638582 0.0019332969871660073\n",
            "163 \t 0.0020673969781703568 0.002022838258805374\n",
            "164 \t 0.002040937119586901 0.0020019401951382556\n",
            "165 \t 0.0020278406922112813 0.00204457090391467\n",
            "166 \t 0.0020179149842905727 0.0022806971489141383\n",
            "167 \t 0.0020121731266210027 0.002198149527733525\n",
            "168 \t 0.002008140436373651 0.0020647443210085234\n",
            "169 \t 0.0019765246066857467 0.0022570203679303327\n",
            "170 \t 0.0019036216809498992 0.0020064632020269832\n",
            "171 \t 0.0018851822982965546 0.0019620872335508466\n",
            "172 \t 0.0019385151416909966 0.0020912198427443704\n",
            "173 \t 0.0018816597399894488 0.0018839421682059765\n",
            "174 \t 0.0018777516458860853 0.0020180036469052234\n",
            "175 \t 0.0018426571888002482 0.0018995438391963642\n",
            "176 \t 0.0018329735612496734 0.002097280191568037\n",
            "177 \t 0.001848419673148204 0.0019473076875632007\n",
            "178 \t 0.001810130536217581 0.001970504915031294\n",
            "179 \t 0.0017891527809710665 0.00196029773602883\n",
            "180 \t 0.0018232822079550135 0.0018913782356927793\n",
            "181 \t 0.0018328280420973897 0.001844357776766022\n",
            "182 \t 0.0017781458181244407 0.001997617461408178\n",
            "183 \t 0.0017880045449022543 0.0018391622385631006\n",
            "184 \t 0.001745399066501043 0.001955587222861747\n",
            "185 \t 0.0017205329442566092 0.0018598870374262333\n",
            "186 \t 0.0017159684899855745 0.0018403814950337012\n",
            "187 \t 0.0016967569033361294 0.0019850177535166344\n",
            "188 \t 0.0017217526910826564 0.0017384209980567296\n",
            "189 \t 0.0017043118873103099 0.0018900507129728794\n",
            "190 \t 0.0017360143829137087 0.0018676349427551031\n",
            "191 \t 0.0017236786767501724 0.0018731680077811081\n",
            "192 \t 0.0017109523865986955 0.0021234698748836913\n",
            "193 \t 0.0016645942391319709 0.0017941213833789031\n",
            "194 \t 0.0016493501501496542 0.002121630784434577\n",
            "195 \t 0.0016200338299809532 0.001880604502124091\n",
            "196 \t 0.0016203357901593502 0.0017421088414266706\n",
            "197 \t 0.0016225217524069276 0.0019085815486808617\n",
            "198 \t 0.0016337807438420978 0.0018854258814826608\n",
            "199 \t 0.0016115749551152642 0.0017869173316285014\n",
            "200 \t 0.0015683573967015202 0.0017556451105823119\n",
            "201 \t 0.0016131519170647318 0.001833709344888727\n",
            "202 \t 0.001562115080146627 0.001928306727980574\n",
            "203 \t 0.0015995427331125195 0.0018254941096529365\n",
            "204 \t 0.001580273796042258 0.0016942534130066633\n",
            "205 \t 0.0015557262919504535 0.001904011199561258\n",
            "206 \t 0.001538111203858121 0.001658297221486767\n",
            "207 \t 0.0015494191108948805 0.0018994184986998637\n",
            "208 \t 0.001522297357124361 0.0017722519890715678\n",
            "209 \t 0.0015139670682732355 0.0018834681250154972\n",
            "210 \t 0.001525427701629021 0.0017185763378317158\n",
            "211 \t 0.0015181072098626332 0.0018373643591379125\n",
            "212 \t 0.001512627752328461 0.0017465925387417276\n",
            "213 \t 0.0015042705080387268 0.0018080609928195674\n",
            "214 \t 0.0014886112926019864 0.0018530530699839194\n",
            "215 \t 0.0014944659143855627 0.0017556617967784405\n",
            "216 \t 0.001503341958265413 0.0019073328391338389\n",
            "217 \t 0.001478031235323711 0.0016188366571441293\n",
            "218 \t 0.0014628531908701089 0.001877716548430423\n",
            "219 \t 0.0014963302422653544 0.0017067284400885303\n",
            "220 \t 0.0014454296324402094 0.0020078389594952264\n",
            "221 \t 0.001494703189977868 0.001658268195266525\n",
            "222 \t 0.0014720406510274518 0.0018649528889606397\n",
            "223 \t 0.0014588132564147766 0.0018483786067614953\n",
            "224 \t 0.0014504790253175254 0.0016442382087310155\n",
            "225 \t 0.0014393480431119149 0.0017669095347325008\n",
            "226 \t 0.001434359413740987 0.0016861598705872893\n",
            "227 \t 0.0014180732065473092 0.0018096256923551361\n",
            "228 \t 0.001436339723030952 0.0016539714221532147\n",
            "229 \t 0.001449257103641602 0.001909891647907595\n",
            "230 \t 0.001422552016182718 0.0016421468850846093\n",
            "231 \t 0.0014141823472031815 0.0017926715857659776\n",
            "232 \t 0.0014349147042428906 0.0015955676790326834\n",
            "233 \t 0.001429399877617305 0.0017269947954143088\n",
            "234 \t 0.0013980066869407892 0.0016804380187143881\n",
            "235 \t 0.0014117142630063674 0.0017061140776301424\n",
            "236 \t 0.001421263695440509 0.0016855912981554866\n",
            "237 \t 0.0014208949022841725 0.0017625023610889912\n",
            "238 \t 0.0014046708079562945 0.0017717520628745358\n",
            "239 \t 0.001391951460391283 0.0015895401205246646\n",
            "240 \t 0.0013899065405977044 0.0017310423621286948\n",
            "241 \t 0.0013869181169535625 0.0016227417315045993\n",
            "242 \t 0.001378613735803149 0.0017106917609150212\n",
            "243 \t 0.001375168583101847 0.001587794511578977\n",
            "244 \t 0.0013950168557295744 0.0016737144518022735\n",
            "245 \t 0.001361411922103302 0.0016419632205118735\n",
            "246 \t 0.0014368609885092485 0.001785118520880739\n",
            "247 \t 0.0013837388356808913 0.0017182058654725552\n",
            "248 \t 0.0013740499165247786 0.0016406601838146646\n",
            "249 \t 0.00137059918647124 0.0016870293378209074\n",
            "250 \t 0.001378174236213619 0.0016162187093868852\n"
          ]
        }
      ]
    },
    {
      "cell_type": "markdown",
      "source": [
        "To evaluate our model beyond looking at a loss function going down: we can look at the autoregressive results for a random test sample:"
      ],
      "metadata": {
        "id": "XntUGcU0wR8m"
      }
    },
    {
      "cell_type": "code",
      "source": [
        "import matplotlib.pyplot as plt\n",
        "\n",
        "plt.plot(np.arange(len(y_test[0])), y_test[0])\n",
        "plt.plot(np.arange(len(y_test[0])), model(X_test[[0]]).detach().squeeze(0).numpy())\n",
        "plt.legend([\"True\", \"Predicted\"])\n",
        "plt.show()"
      ],
      "metadata": {
        "id": "CYeAfeVhhnCA",
        "outputId": "cd9fb187-710b-4a99-d418-f9df1929be44",
        "colab": {
          "base_uri": "https://localhost:8080/",
          "height": 265
        }
      },
      "execution_count": 17,
      "outputs": [
        {
          "output_type": "display_data",
          "data": {
            "text/plain": [
              "<Figure size 432x288 with 1 Axes>"
            ],
            "image/png": "[encoded data removed]"
          },
          "metadata": {
            "needs_background": "light"
          }
        }
      ]
    },
    {
      "cell_type": "markdown",
      "source": [
        "You should see that at the beginning of the second day, the model overshoots its prediction by a wide margin. This is because most probably the next day is a weekend day. After that, for the prediction of the next step, we give it the true input of that (previously-wrongly predicted) timestep, and because it recognizes that by this low value it should be a weekend day, the subsequent predictions are also low.\n",
        "\n",
        "This is not really forecasting though: at every timestep, we are predicting only one timestep (hour) in advance. To really do forecasting for a longer time limit, we should feed the predictions of the model back into the model, like this:\n",
        "\n",
        "<img src=\"https://raw.githubusercontent.com/gdewael/teaching/main/predmod/RNNs/generation.png\" width = 500>\n",
        "\n",
        "To perform this, we will create a helper function that extracts the next step:"
      ],
      "metadata": {
        "id": "ZXMxdryOwuY5"
      }
    },
    {
      "cell_type": "code",
      "source": [
        "def generate_next_timestep(previous, model):\n",
        "    with torch.no_grad():\n",
        "        output = model(previous.unsqueeze(0))[0, -1]\n",
        "    \n",
        "    return output\n",
        "\n",
        "def generate_n_timesteps(previous, model, n = 5):\n",
        "    for _ in range(n):\n",
        "        prediction = generate_next_timestep(previous, model)\n",
        "        # to make a next prediction, we not only need to add the prediction but also the covariates (hour) to our next input:\n",
        "        next_timestep_hour = nn.functional.one_hot((previous[-1, 1:].argmax() + 1) % 24, num_classes = 24) \n",
        "        new_input = torch.cat([prediction, next_timestep_hour])\n",
        "        previous = torch.cat([previous, new_input.unsqueeze(0)])\n",
        "\n",
        "    return previous[:, 0]"
      ],
      "metadata": {
        "id": "SiyoKVzAx_sc"
      },
      "execution_count": 18,
      "outputs": []
    },
    {
      "cell_type": "code",
      "source": [
        "sample_index = 1\n",
        "priming_points = 20\n",
        "generate_steps = 100\n",
        "\n",
        "\n",
        "plt.plot(np.arange(len(X_test[sample_index])), X_test[sample_index, :, 0])\n",
        "predictions = generate_n_timesteps(X_test[sample_index, :priming_points], model, n = generate_steps).numpy()\n",
        "plt.plot(np.arange(len(predictions)), predictions)\n",
        "plt.axvline(x = priming_points-1, color = \"green\", linestyle = \":\")\n",
        "plt.legend([\"True\", \"Predicted\"])\n",
        "plt.show()"
      ],
      "metadata": {
        "id": "ROyU81wA8Ixe",
        "outputId": "52059455-dc53-4868-8629-7a47d06d855b",
        "colab": {
          "base_uri": "https://localhost:8080/",
          "height": 265
        }
      },
      "execution_count": 19,
      "outputs": [
        {
          "output_type": "display_data",
          "data": {
            "text/plain": [
              "<Figure size 432x288 with 1 Axes>"
            ],
            "image/png": "[encoded data removed]"
          },
          "metadata": {
            "needs_background": "light"
          }
        }
      ]
    },
    {
      "cell_type": "markdown",
      "source": [
        "<div class=\"alert alert-success\">\n",
        "\n",
        "<b>THOUGHT EXERCISE:</b> \n",
        "<p> Play around with the code for forecasting bicyclists by changing up which sample you forecast (\"sample_index\"), how much initial input points you give the model (\"priming points\") and how far in time it should generate after that (\"generate steps\"). Can you find obvious failure states? Can you think of ways how to remedy these failure modes?\n",
        "</p>\n",
        "\n",
        "</div>"
      ],
      "metadata": {
        "id": "LZytOD_XA0tx"
      }
    },
    {
      "cell_type": "markdown",
      "source": [
        "Written answer:\n",
        "If the priming point is a friday and the next day a weekend day, it will still predict high numbers for the weekend. Additionally, when generating a lot of days, after a while the same pattern is predicted for every day.\n",
        "\n",
        "**Solution**: The model doesn't know what day of the week it is, resulting in a behavior in which the best the model can do is predict \"the average day\". One could encode more features for every timepoint in addition to just which hour it was, such as which day of the week it is. In addition, one could add weather and temperature variables to the model, so that the model can account for seasonal and weather impacts on the prediction. One could even go as far as adding an indicator variable that indicates whether a day is a Belgian holiday ..."
      ],
      "metadata": {
        "id": "RLOnrUwuPoOA"
      }
    },
    {
      "cell_type": "markdown",
      "source": [
        "## Partim 2: time series classification\n",
        "\n",
        "In the next part, we will explore a many-to-one scenario. To keep things simple, we will work on the same dataset and try to predict from the series of a single day whether that day was a weekend or a weekday.\n",
        "\n",
        "To do this, we first need to know which days were weekdays:"
      ],
      "metadata": {
        "id": "T2N3F1zyBpQg"
      }
    },
    {
      "cell_type": "code",
      "source": [
        "data"
      ],
      "metadata": {
        "id": "itJrohODCD5a",
        "outputId": "65af60c8-9ebf-4b7c-80de-f224a1a5dc67",
        "colab": {
          "base_uri": "https://localhost:8080/",
          "height": 424
        }
      },
      "execution_count": 20,
      "outputs": [
        {
          "output_type": "execute_result",
          "data": {
            "text/plain": [
              "            Date Hour      n    n_norm\n",
              "0     2022-01-01   00   30.0  0.018484\n",
              "1     2022-01-01   01  110.0  0.067776\n",
              "2     2022-01-01   02  117.0  0.072089\n",
              "3     2022-01-01   03  148.0  0.091189\n",
              "4     2022-01-01   04  150.0  0.092421\n",
              "...          ...  ...    ...       ...\n",
              "5082  2022-07-31   19  217.0  0.133703\n",
              "5083  2022-07-31   20  151.0  0.093038\n",
              "5084  2022-07-31   21  156.0  0.096118\n",
              "5085  2022-07-31   22  116.0  0.071473\n",
              "5086  2022-07-31   23   59.0  0.036352\n",
              "\n",
              "[5088 rows x 4 columns]"
            ],
            "text/html": [
              "\n",
              "  <div id=\"df-211260a2-1f7c-448a-b571-9325e5d3a4bc\">\n",
              "    <div class=\"colab-df-container\">\n",
              "      <div>\n",
              "<style scoped>\n",
              "    .dataframe tbody tr th:only-of-type {\n",
              "        vertical-align: middle;\n",
              "    }\n",
              "\n",
              "    .dataframe tbody tr th {\n",
              "        vertical-align: top;\n",
              "    }\n",
              "\n",
              "    .dataframe thead th {\n",
              "        text-align: right;\n",
              "    }\n",
              "</style>\n",
              "<table border=\"1\" class=\"dataframe\">\n",
              "  <thead>\n",
              "    <tr style=\"text-align: right;\">\n",
              "      <th></th>\n",
              "      <th>Date</th>\n",
              "      <th>Hour</th>\n",
              "      <th>n</th>\n",
              "      <th>n_norm</th>\n",
              "    </tr>\n",
              "  </thead>\n",
              "  <tbody>\n",
              "    <tr>\n",
              "      <th>0</th>\n",
              "      <td>2022-01-01</td>\n",
              "      <td>00</td>\n",
              "      <td>30.0</td>\n",
              "      <td>0.018484</td>\n",
              "    </tr>\n",
              "    <tr>\n",
              "      <th>1</th>\n",
              "      <td>2022-01-01</td>\n",
              "      <td>01</td>\n",
              "      <td>110.0</td>\n",
              "      <td>0.067776</td>\n",
              "    </tr>\n",
              "    <tr>\n",
              "      <th>2</th>\n",
              "      <td>2022-01-01</td>\n",
              "      <td>02</td>\n",
              "      <td>117.0</td>\n",
              "      <td>0.072089</td>\n",
              "    </tr>\n",
              "    <tr>\n",
              "      <th>3</th>\n",
              "      <td>2022-01-01</td>\n",
              "      <td>03</td>\n",
              "      <td>148.0</td>\n",
              "      <td>0.091189</td>\n",
              "    </tr>\n",
              "    <tr>\n",
              "      <th>4</th>\n",
              "      <td>2022-01-01</td>\n",
              "      <td>04</td>\n",
              "      <td>150.0</td>\n",
              "      <td>0.092421</td>\n",
              "    </tr>\n",
              "    <tr>\n",
              "      <th>...</th>\n",
              "      <td>...</td>\n",
              "      <td>...</td>\n",
              "      <td>...</td>\n",
              "      <td>...</td>\n",
              "    </tr>\n",
              "    <tr>\n",
              "      <th>5082</th>\n",
              "      <td>2022-07-31</td>\n",
              "      <td>19</td>\n",
              "      <td>217.0</td>\n",
              "      <td>0.133703</td>\n",
              "    </tr>\n",
              "    <tr>\n",
              "      <th>5083</th>\n",
              "      <td>2022-07-31</td>\n",
              "      <td>20</td>\n",
              "      <td>151.0</td>\n",
              "      <td>0.093038</td>\n",
              "    </tr>\n",
              "    <tr>\n",
              "      <th>5084</th>\n",
              "      <td>2022-07-31</td>\n",
              "      <td>21</td>\n",
              "      <td>156.0</td>\n",
              "      <td>0.096118</td>\n",
              "    </tr>\n",
              "    <tr>\n",
              "      <th>5085</th>\n",
              "      <td>2022-07-31</td>\n",
              "      <td>22</td>\n",
              "      <td>116.0</td>\n",
              "      <td>0.071473</td>\n",
              "    </tr>\n",
              "    <tr>\n",
              "      <th>5086</th>\n",
              "      <td>2022-07-31</td>\n",
              "      <td>23</td>\n",
              "      <td>59.0</td>\n",
              "      <td>0.036352</td>\n",
              "    </tr>\n",
              "  </tbody>\n",
              "</table>\n",
              "<p>5088 rows × 4 columns</p>\n",
              "</div>\n",
              "      <button class=\"colab-df-convert\" onclick=\"convertToInteractive('df-211260a2-1f7c-448a-b571-9325e5d3a4bc')\"\n",
              "              title=\"Convert this dataframe to an interactive table.\"\n",
              "              style=\"display:none;\">\n",
              "        \n",
              "  <svg xmlns=\"http://www.w3.org/2000/svg\" height=\"24px\"viewBox=\"0 0 24 24\"\n",
              "       width=\"24px\">\n",
              "    <path d=\"M0 0h24v24H0V0z\" fill=\"none\"/>\n",
              "    <path d=\"M18.56 5.44l.94 2.06.94-2.06 2.06-.94-2.06-.94-.94-2.06-.94 2.06-2.06.94zm-11 1L8.5 8.5l.94-2.06 2.06-.94-2.06-.94L8.5 2.5l-.94 2.06-2.06.94zm10 10l.94 2.06.94-2.06 2.06-.94-2.06-.94-.94-2.06-.94 2.06-2.06.94z\"/><path d=\"M17.41 7.96l-1.37-1.37c-.4-.4-.92-.59-1.43-.59-.52 0-1.04.2-1.43.59L10.3 9.45l-7.72 7.72c-.78.78-.78 2.05 0 2.83L4 21.41c.39.39.9.59 1.41.59.51 0 1.02-.2 1.41-.59l7.78-7.78 2.81-2.81c.8-.78.8-2.07 0-2.86zM5.41 20L4 18.59l7.72-7.72 1.47 1.35L5.41 20z\"/>\n",
              "  </svg>\n",
              "      </button>\n",
              "      \n",
              "  <style>\n",
              "    .colab-df-container {\n",
              "      display:flex;\n",
              "      flex-wrap:wrap;\n",
              "      gap: 12px;\n",
              "    }\n",
              "\n",
              "    .colab-df-convert {\n",
              "      background-color: #E8F0FE;\n",
              "      border: none;\n",
              "      border-radius: 50%;\n",
              "      cursor: pointer;\n",
              "      display: none;\n",
              "      fill: #1967D2;\n",
              "      height: 32px;\n",
              "      padding: 0 0 0 0;\n",
              "      width: 32px;\n",
              "    }\n",
              "\n",
              "    .colab-df-convert:hover {\n",
              "      background-color: #E2EBFA;\n",
              "      box-shadow: 0px 1px 2px rgba(60, 64, 67, 0.3), 0px 1px 3px 1px rgba(60, 64, 67, 0.15);\n",
              "      fill: #174EA6;\n",
              "    }\n",
              "\n",
              "    [theme=dark] .colab-df-convert {\n",
              "      background-color: #3B4455;\n",
              "      fill: #D2E3FC;\n",
              "    }\n",
              "\n",
              "    [theme=dark] .colab-df-convert:hover {\n",
              "      background-color: #434B5C;\n",
              "      box-shadow: 0px 1px 3px 1px rgba(0, 0, 0, 0.15);\n",
              "      filter: drop-shadow(0px 1px 2px rgba(0, 0, 0, 0.3));\n",
              "      fill: #FFFFFF;\n",
              "    }\n",
              "  </style>\n",
              "\n",
              "      <script>\n",
              "        const buttonEl =\n",
              "          document.querySelector('#df-211260a2-1f7c-448a-b571-9325e5d3a4bc button.colab-df-convert');\n",
              "        buttonEl.style.display =\n",
              "          google.colab.kernel.accessAllowed ? 'block' : 'none';\n",
              "\n",
              "        async function convertToInteractive(key) {\n",
              "          const element = document.querySelector('#df-211260a2-1f7c-448a-b571-9325e5d3a4bc');\n",
              "          const dataTable =\n",
              "            await google.colab.kernel.invokeFunction('convertToInteractive',\n",
              "                                                     [key], {});\n",
              "          if (!dataTable) return;\n",
              "\n",
              "          const docLinkHtml = 'Like what you see? Visit the ' +\n",
              "            '<a target=\"_blank\" href=https://colab.research.google.com/notebooks/data_table.ipynb>data table notebook</a>'\n",
              "            + ' to learn more about interactive tables.';\n",
              "          element.innerHTML = '';\n",
              "          dataTable['output_type'] = 'display_data';\n",
              "          await google.colab.output.renderOutput(dataTable, element);\n",
              "          const docLink = document.createElement('div');\n",
              "          docLink.innerHTML = docLinkHtml;\n",
              "          element.appendChild(docLink);\n",
              "        }\n",
              "      </script>\n",
              "    </div>\n",
              "  </div>\n",
              "  "
            ]
          },
          "metadata": {},
          "execution_count": 20
        }
      ]
    },
    {
      "cell_type": "markdown",
      "source": [
        "Following code adds an indicator variable to the data that signifies if the date is a weekday or not. We'll use this as \"y\" values to predict"
      ],
      "metadata": {
        "id": "w7msK_1LRVLM"
      }
    },
    {
      "cell_type": "code",
      "source": [
        "from datetime import datetime\n",
        "def isweekday(date):\n",
        "    return datetime.fromisoformat(date).weekday() < 5\n",
        "\n",
        "data[\"isweekday\"] = [int(isweekday(i)) for i in data[\"Date\"]]\n",
        "data \n",
        "\n"
      ],
      "metadata": {
        "id": "K3ZcSVjICFRo",
        "outputId": "358a1a2a-72ff-4081-9eb9-39524f28a330",
        "colab": {
          "base_uri": "https://localhost:8080/",
          "height": 424
        }
      },
      "execution_count": 21,
      "outputs": [
        {
          "output_type": "execute_result",
          "data": {
            "text/plain": [
              "            Date Hour      n    n_norm  isweekday\n",
              "0     2022-01-01   00   30.0  0.018484          0\n",
              "1     2022-01-01   01  110.0  0.067776          0\n",
              "2     2022-01-01   02  117.0  0.072089          0\n",
              "3     2022-01-01   03  148.0  0.091189          0\n",
              "4     2022-01-01   04  150.0  0.092421          0\n",
              "...          ...  ...    ...       ...        ...\n",
              "5082  2022-07-31   19  217.0  0.133703          0\n",
              "5083  2022-07-31   20  151.0  0.093038          0\n",
              "5084  2022-07-31   21  156.0  0.096118          0\n",
              "5085  2022-07-31   22  116.0  0.071473          0\n",
              "5086  2022-07-31   23   59.0  0.036352          0\n",
              "\n",
              "[5088 rows x 5 columns]"
            ],
            "text/html": [
              "\n",
              "  <div id=\"df-85d96654-2034-46fb-b8e7-221bff9b3f57\">\n",
              "    <div class=\"colab-df-container\">\n",
              "      <div>\n",
              "<style scoped>\n",
              "    .dataframe tbody tr th:only-of-type {\n",
              "        vertical-align: middle;\n",
              "    }\n",
              "\n",
              "    .dataframe tbody tr th {\n",
              "        vertical-align: top;\n",
              "    }\n",
              "\n",
              "    .dataframe thead th {\n",
              "        text-align: right;\n",
              "    }\n",
              "</style>\n",
              "<table border=\"1\" class=\"dataframe\">\n",
              "  <thead>\n",
              "    <tr style=\"text-align: right;\">\n",
              "      <th></th>\n",
              "      <th>Date</th>\n",
              "      <th>Hour</th>\n",
              "      <th>n</th>\n",
              "      <th>n_norm</th>\n",
              "      <th>isweekday</th>\n",
              "    </tr>\n",
              "  </thead>\n",
              "  <tbody>\n",
              "    <tr>\n",
              "      <th>0</th>\n",
              "      <td>2022-01-01</td>\n",
              "      <td>00</td>\n",
              "      <td>30.0</td>\n",
              "      <td>0.018484</td>\n",
              "      <td>0</td>\n",
              "    </tr>\n",
              "    <tr>\n",
              "      <th>1</th>\n",
              "      <td>2022-01-01</td>\n",
              "      <td>01</td>\n",
              "      <td>110.0</td>\n",
              "      <td>0.067776</td>\n",
              "      <td>0</td>\n",
              "    </tr>\n",
              "    <tr>\n",
              "      <th>2</th>\n",
              "      <td>2022-01-01</td>\n",
              "      <td>02</td>\n",
              "      <td>117.0</td>\n",
              "      <td>0.072089</td>\n",
              "      <td>0</td>\n",
              "    </tr>\n",
              "    <tr>\n",
              "      <th>3</th>\n",
              "      <td>2022-01-01</td>\n",
              "      <td>03</td>\n",
              "      <td>148.0</td>\n",
              "      <td>0.091189</td>\n",
              "      <td>0</td>\n",
              "    </tr>\n",
              "    <tr>\n",
              "      <th>4</th>\n",
              "      <td>2022-01-01</td>\n",
              "      <td>04</td>\n",
              "      <td>150.0</td>\n",
              "      <td>0.092421</td>\n",
              "      <td>0</td>\n",
              "    </tr>\n",
              "    <tr>\n",
              "      <th>...</th>\n",
              "      <td>...</td>\n",
              "      <td>...</td>\n",
              "      <td>...</td>\n",
              "      <td>...</td>\n",
              "      <td>...</td>\n",
              "    </tr>\n",
              "    <tr>\n",
              "      <th>5082</th>\n",
              "      <td>2022-07-31</td>\n",
              "      <td>19</td>\n",
              "      <td>217.0</td>\n",
              "      <td>0.133703</td>\n",
              "      <td>0</td>\n",
              "    </tr>\n",
              "    <tr>\n",
              "      <th>5083</th>\n",
              "      <td>2022-07-31</td>\n",
              "      <td>20</td>\n",
              "      <td>151.0</td>\n",
              "      <td>0.093038</td>\n",
              "      <td>0</td>\n",
              "    </tr>\n",
              "    <tr>\n",
              "      <th>5084</th>\n",
              "      <td>2022-07-31</td>\n",
              "      <td>21</td>\n",
              "      <td>156.0</td>\n",
              "      <td>0.096118</td>\n",
              "      <td>0</td>\n",
              "    </tr>\n",
              "    <tr>\n",
              "      <th>5085</th>\n",
              "      <td>2022-07-31</td>\n",
              "      <td>22</td>\n",
              "      <td>116.0</td>\n",
              "      <td>0.071473</td>\n",
              "      <td>0</td>\n",
              "    </tr>\n",
              "    <tr>\n",
              "      <th>5086</th>\n",
              "      <td>2022-07-31</td>\n",
              "      <td>23</td>\n",
              "      <td>59.0</td>\n",
              "      <td>0.036352</td>\n",
              "      <td>0</td>\n",
              "    </tr>\n",
              "  </tbody>\n",
              "</table>\n",
              "<p>5088 rows × 5 columns</p>\n",
              "</div>\n",
              "      <button class=\"colab-df-convert\" onclick=\"convertToInteractive('df-85d96654-2034-46fb-b8e7-221bff9b3f57')\"\n",
              "              title=\"Convert this dataframe to an interactive table.\"\n",
              "              style=\"display:none;\">\n",
              "        \n",
              "  <svg xmlns=\"http://www.w3.org/2000/svg\" height=\"24px\"viewBox=\"0 0 24 24\"\n",
              "       width=\"24px\">\n",
              "    <path d=\"M0 0h24v24H0V0z\" fill=\"none\"/>\n",
              "    <path d=\"M18.56 5.44l.94 2.06.94-2.06 2.06-.94-2.06-.94-.94-2.06-.94 2.06-2.06.94zm-11 1L8.5 8.5l.94-2.06 2.06-.94-2.06-.94L8.5 2.5l-.94 2.06-2.06.94zm10 10l.94 2.06.94-2.06 2.06-.94-2.06-.94-.94-2.06-.94 2.06-2.06.94z\"/><path d=\"M17.41 7.96l-1.37-1.37c-.4-.4-.92-.59-1.43-.59-.52 0-1.04.2-1.43.59L10.3 9.45l-7.72 7.72c-.78.78-.78 2.05 0 2.83L4 21.41c.39.39.9.59 1.41.59.51 0 1.02-.2 1.41-.59l7.78-7.78 2.81-2.81c.8-.78.8-2.07 0-2.86zM5.41 20L4 18.59l7.72-7.72 1.47 1.35L5.41 20z\"/>\n",
              "  </svg>\n",
              "      </button>\n",
              "      \n",
              "  <style>\n",
              "    .colab-df-container {\n",
              "      display:flex;\n",
              "      flex-wrap:wrap;\n",
              "      gap: 12px;\n",
              "    }\n",
              "\n",
              "    .colab-df-convert {\n",
              "      background-color: #E8F0FE;\n",
              "      border: none;\n",
              "      border-radius: 50%;\n",
              "      cursor: pointer;\n",
              "      display: none;\n",
              "      fill: #1967D2;\n",
              "      height: 32px;\n",
              "      padding: 0 0 0 0;\n",
              "      width: 32px;\n",
              "    }\n",
              "\n",
              "    .colab-df-convert:hover {\n",
              "      background-color: #E2EBFA;\n",
              "      box-shadow: 0px 1px 2px rgba(60, 64, 67, 0.3), 0px 1px 3px 1px rgba(60, 64, 67, 0.15);\n",
              "      fill: #174EA6;\n",
              "    }\n",
              "\n",
              "    [theme=dark] .colab-df-convert {\n",
              "      background-color: #3B4455;\n",
              "      fill: #D2E3FC;\n",
              "    }\n",
              "\n",
              "    [theme=dark] .colab-df-convert:hover {\n",
              "      background-color: #434B5C;\n",
              "      box-shadow: 0px 1px 3px 1px rgba(0, 0, 0, 0.15);\n",
              "      filter: drop-shadow(0px 1px 2px rgba(0, 0, 0, 0.3));\n",
              "      fill: #FFFFFF;\n",
              "    }\n",
              "  </style>\n",
              "\n",
              "      <script>\n",
              "        const buttonEl =\n",
              "          document.querySelector('#df-85d96654-2034-46fb-b8e7-221bff9b3f57 button.colab-df-convert');\n",
              "        buttonEl.style.display =\n",
              "          google.colab.kernel.accessAllowed ? 'block' : 'none';\n",
              "\n",
              "        async function convertToInteractive(key) {\n",
              "          const element = document.querySelector('#df-85d96654-2034-46fb-b8e7-221bff9b3f57');\n",
              "          const dataTable =\n",
              "            await google.colab.kernel.invokeFunction('convertToInteractive',\n",
              "                                                     [key], {});\n",
              "          if (!dataTable) return;\n",
              "\n",
              "          const docLinkHtml = 'Like what you see? Visit the ' +\n",
              "            '<a target=\"_blank\" href=https://colab.research.google.com/notebooks/data_table.ipynb>data table notebook</a>'\n",
              "            + ' to learn more about interactive tables.';\n",
              "          element.innerHTML = '';\n",
              "          dataTable['output_type'] = 'display_data';\n",
              "          await google.colab.output.renderOutput(dataTable, element);\n",
              "          const docLink = document.createElement('div');\n",
              "          docLink.innerHTML = docLinkHtml;\n",
              "          element.appendChild(docLink);\n",
              "        }\n",
              "      </script>\n",
              "    </div>\n",
              "  </div>\n",
              "  "
            ]
          },
          "metadata": {},
          "execution_count": 21
        }
      ]
    },
    {
      "cell_type": "markdown",
      "source": [
        "With this data added, we can process our data into X and y:"
      ],
      "metadata": {
        "id": "SQKStrAtHLVs"
      }
    },
    {
      "cell_type": "code",
      "source": [
        "batches = generate_batches(torch.tensor(data[[\"isweekday\", \"Hour\", \"n_norm\"]].values.astype(np.float32)), seqlen = 24)\n",
        "y = batches[:, 0, 0]\n",
        "X = batches[:, :, 1:]\n",
        "\n",
        "one_hot_hour = torch.nn.functional.one_hot(X[:, :, 0].long())\n",
        "X = torch.cat([X[:, :, [1]], one_hot_hour], axis = 2)"
      ],
      "metadata": {
        "id": "LAhtjoCMDdlM"
      },
      "execution_count": 22,
      "outputs": []
    },
    {
      "cell_type": "code",
      "source": [
        "X.shape, y.shape"
      ],
      "metadata": {
        "id": "BvtDFbMhDh4U",
        "outputId": "6c787896-e464-43c1-9874-2199c75edef6",
        "colab": {
          "base_uri": "https://localhost:8080/"
        }
      },
      "execution_count": 23,
      "outputs": [
        {
          "output_type": "execute_result",
          "data": {
            "text/plain": [
              "(torch.Size([211, 24, 25]), torch.Size([211]))"
            ]
          },
          "metadata": {},
          "execution_count": 23
        }
      ]
    },
    {
      "cell_type": "markdown",
      "source": [
        "Examine if the shapes are conforming to your expectations as to what we expect it to be for timeseries classification. What does every dimension in X and y signify?"
      ],
      "metadata": {
        "id": "0DBAGqj4ReEj"
      }
    },
    {
      "cell_type": "code",
      "source": [
        "X_train = X[:int(batches.shape[0] * 0.80)]\n",
        "X_test = X[int(batches.shape[0] * 0.80):]\n",
        "\n",
        "y_train = y[:int(batches.shape[0] * 0.80)]\n",
        "y_test = y[int(batches.shape[0] * 0.80):]\n",
        "\n",
        "train_dataset = torch.utils.data.TensorDataset(X_train, y_train)\n",
        "train_dataloader = torch.utils.data.DataLoader(train_dataset, batch_size = 8, shuffle = True)\n",
        "\n",
        "test_dataset = torch.utils.data.TensorDataset(X_test, y_test)\n",
        "test_dataloader = torch.utils.data.DataLoader(test_dataset, batch_size = 8, shuffle = True)"
      ],
      "metadata": {
        "id": "2DMgGIEGGc29"
      },
      "execution_count": 24,
      "outputs": []
    },
    {
      "cell_type": "markdown",
      "source": [
        "<div class=\"alert alert-success\">\n",
        "\n",
        "<b>EXERCISE:</b> \n",
        "<p> Implement a time series classification model by copying the code above and adapting it.\n",
        "\n",
        "Steps you need to take:\n",
        "- Change the RNN model so that it is adapted for many to one tasks\n",
        "- Change the loss function for binary classification\n",
        "- Implement a way to keep track of accuracies instead of only losses\n",
        "</p>\n",
        "\n",
        "</div>\n",
        "\n",
        "You should be able to obtain an accuracy of at least 90%."
      ],
      "metadata": {
        "id": "L15DJ0eeHHpL"
      }
    },
    {
      "cell_type": "code",
      "source": [
        "class TimeseriesClassifier(nn.Module):\n",
        "    def __init__(self, input_dim = 25, hidden_dim = 64):\n",
        "        super().__init__()\n",
        "        self.gru = nn.GRU(input_size = input_dim, hidden_size = hidden_dim, batch_first = True)\n",
        "        self.output_head = nn.Linear(hidden_dim, 1)\n",
        "\n",
        "    def forward(self, x):\n",
        "        _, output = self.gru(x)\n",
        "        return self.output_head(output[0])[:, 0]"
      ],
      "metadata": {
        "id": "KBQaLX3xHvQ6"
      },
      "execution_count": 25,
      "outputs": []
    },
    {
      "cell_type": "code",
      "source": [
        "N_EPOCHS = 250\n",
        "\n",
        "model = TimeseriesClassifier()\n",
        "\n",
        "loss_function = nn.BCEWithLogitsLoss()\n",
        "\n",
        "optimizer = torch.optim.Adam(model.parameters(), lr=0.0001) # SGD = stochastic gradient descent\n",
        "\n",
        "for i in range(1, N_EPOCHS + 1):\n",
        "    all_losses = []\n",
        "    model.train()\n",
        "    for batch in train_dataloader:\n",
        "        optimizer.zero_grad()\n",
        "        X_batch, y_batch = batch\n",
        "\n",
        "        y_hat_batch = model(X_batch)\n",
        "\n",
        "        loss = loss_function(y_hat_batch, y_batch) # Compute loss\n",
        "\n",
        "        loss.backward()   # Calculate gradients\n",
        "        optimizer.step()   # Update weights using defined optimizer\n",
        "\n",
        "        all_losses.append(loss.item())\n",
        "    train_loss = np.mean(all_losses)\n",
        "    \n",
        "    predictions = []\n",
        "    true_labels = []\n",
        "    losses = []\n",
        "\n",
        "    with torch.no_grad():\n",
        "        model.eval()\n",
        "        for batch in test_dataloader:\n",
        "            X_batch, y_batch = batch\n",
        "\n",
        "            y_hat_batch = model(X_batch)\n",
        "\n",
        "            loss = loss_function(y_hat_batch, y_batch)\n",
        "\n",
        "            losses.append(loss.item())\n",
        "            predictions.append(y_hat_batch)\n",
        "            true_labels.append(y_batch)\n",
        "\n",
        "    predictions = torch.cat(predictions)\n",
        "    true_labels = torch.cat(true_labels)\n",
        "    accuracy = ((predictions > 0) == true_labels).sum() / len(true_labels)\n",
        "\n",
        "    print(i, '\\t', train_loss, np.mean(losses), accuracy.item())"
      ],
      "metadata": {
        "id": "bOhRw5MBIscM",
        "outputId": "1954ecae-7bc0-4ed2-8a23-fd1b504e4c9a",
        "colab": {
          "base_uri": "https://localhost:8080/"
        }
      },
      "execution_count": 26,
      "outputs": [
        {
          "output_type": "stream",
          "name": "stdout",
          "text": [
            "1 \t 0.7070396429016477 0.6998802125453949 0.302325576543808\n",
            "2 \t 0.6950598756472269 0.6905413568019867 0.6976743936538696\n",
            "3 \t 0.6848838102249872 0.6812636256217957 0.6976743936538696\n",
            "4 \t 0.6744844118754069 0.6715247929096222 0.6976743936538696\n",
            "5 \t 0.663744276478177 0.6553774078687032 0.6976743936538696\n",
            "6 \t 0.6521510822432381 0.6427312990029653 0.6976743936538696\n",
            "7 \t 0.6403984484218416 0.6416286031405131 0.6976743936538696\n",
            "8 \t 0.6281639678137643 0.6331237355868021 0.6976743936538696\n",
            "9 \t 0.6187897948991685 0.6040387153625488 0.6976743936538696\n",
            "10 \t 0.6061773654960451 0.6169545749823252 0.6976743936538696\n",
            "11 \t 0.5979693602947962 0.6386270026365916 0.6976743936538696\n",
            "12 \t 0.5927645876294091 0.582097738981247 0.6976743936538696\n",
            "13 \t 0.5913568607398442 0.6118104656537374 0.6976743936538696\n",
            "14 \t 0.588970612911951 0.5788830071687698 0.6976743936538696\n",
            "15 \t 0.5876744219235012 0.5779206057389578 0.6976743936538696\n",
            "16 \t 0.5869252710115342 0.6118867049614588 0.6976743936538696\n",
            "17 \t 0.5856635939507258 0.6762201984723409 0.6976743936538696\n",
            "18 \t 0.5856037054743085 0.6094854672749838 0.6976743936538696\n",
            "19 \t 0.5846973387967973 0.6770074466864268 0.6976743936538696\n",
            "20 \t 0.584427957023893 0.5762647042671839 0.6976743936538696\n",
            "21 \t 0.581289895943233 0.5753431220849355 0.6976743936538696\n",
            "22 \t 0.5806913574536642 0.5736280381679535 0.6976743936538696\n",
            "23 \t 0.5794449760800316 0.5747312754392624 0.6976743936538696\n",
            "24 \t 0.5775195232459477 0.6073327312866846 0.6976743936538696\n",
            "25 \t 0.5777422345819927 0.5718108912309011 0.6976743936538696\n",
            "26 \t 0.5751467304570335 0.5711298882961273 0.6976743936538696\n",
            "27 \t 0.5728996821812221 0.6060003638267517 0.6976743936538696\n",
            "28 \t 0.570751082329523 0.636350229382515 0.6976743936538696\n",
            "29 \t 0.5706562045074645 0.5647084613641103 0.6976743936538696\n",
            "30 \t 0.5652722645373571 0.6332560727993647 0.6976743936538696\n",
            "31 \t 0.5621521103949774 0.5658220003048579 0.6976743936538696\n",
            "32 \t 0.5575863520304362 0.596262663602829 0.6976743936538696\n",
            "33 \t 0.5516647086257026 0.5956826557715734 0.6976743936538696\n",
            "34 \t 0.5448875441437676 0.555865744749705 0.6976743936538696\n",
            "35 \t 0.534878439846493 0.6164552023013433 0.6976743936538696\n",
            "36 \t 0.5225275868461245 0.5726865033308665 0.6976743936538696\n",
            "37 \t 0.505714407988957 0.5554129381974539 0.6976743936538696\n",
            "38 \t 0.47594005579040166 0.5413911392291387 0.6976743936538696\n",
            "39 \t 0.44355898598829907 0.4762746865550677 0.6976743936538696\n",
            "40 \t 0.40824402159168605 0.4413592467705409 0.6744186282157898\n",
            "41 \t 0.371452234685421 0.41200751811265945 0.6744186282157898\n",
            "42 \t 0.34080501468408675 0.45694758494695026 0.6744186282157898\n",
            "43 \t 0.31395797041200457 0.4164643834034602 0.6976743936538696\n",
            "44 \t 0.2996240793949082 0.38533751169840497 0.7674418687820435\n",
            "45 \t 0.27924672248108046 0.46727919081846875 0.6976743936538696\n",
            "46 \t 0.2926530107146218 0.42982638627290726 0.7906976938247681\n",
            "47 \t 0.26847494677418754 0.4018307775259018 0.7674418687820435\n",
            "48 \t 0.2913091154325576 0.4194977730512619 0.8139534592628479\n",
            "49 \t 0.2670245149305889 0.35316567371288937 0.8604651093482971\n",
            "50 \t 0.252077882577266 0.39032331109046936 0.8604651093482971\n",
            "51 \t 0.25039667245887576 0.37857918192942935 0.7674418687820435\n",
            "52 \t 0.25143777543590184 0.42870238423347473 0.7209302186965942\n",
            "53 \t 0.2616211093873495 0.36609839648008347 0.7674418687820435\n",
            "54 \t 0.2491148625101362 0.3871494134267171 0.7674418687820435\n",
            "55 \t 0.25371365679339286 0.412109596033891 0.8372092843055725\n",
            "56 \t 0.2457371171386469 0.37274324893951416 0.7674418687820435\n",
            "57 \t 0.23729935962529408 0.3659176727135976 0.7674418687820435\n",
            "58 \t 0.2341104977808538 0.38109999398390454 0.7674418687820435\n",
            "59 \t 0.2312379248795055 0.3687077189485232 0.7674418687820435\n",
            "60 \t 0.23412081208967028 0.3963397145271301 0.7209302186965942\n",
            "61 \t 0.24040953850462324 0.332152408392479 0.7674418687820435\n",
            "62 \t 0.22928332240276394 0.4221566716829936 0.7674418687820435\n",
            "63 \t 0.2271269770960013 0.3489040931065877 0.8372092843055725\n",
            "64 \t 0.22739763433734575 0.35697515805562335 0.7441860437393188\n",
            "65 \t 0.22451107062044598 0.4356311534841855 0.7674418687820435\n",
            "66 \t 0.226076689327047 0.3929177497824033 0.7674418687820435\n",
            "67 \t 0.22446718031451815 0.38805050154527027 0.7674418687820435\n",
            "68 \t 0.2216876358503387 0.3652343725164731 0.7674418687820435\n",
            "69 \t 0.22862240603371037 0.4202779233455658 0.7441860437393188\n",
            "70 \t 0.22237540923413776 0.3258710807034125 0.7674418687820435\n",
            "71 \t 0.22113574566763072 0.33987512687842053 0.7674418687820435\n",
            "72 \t 0.22029300481967984 0.3983284682035446 0.7209302186965942\n",
            "73 \t 0.22245689694370543 0.3067673373346527 0.8837209343910217\n",
            "74 \t 0.22399100820933068 0.4292919933795929 0.7441860437393188\n",
            "75 \t 0.22363511490679922 0.3607209672530492 0.7906976938247681\n",
            "76 \t 0.22190341690466517 0.374077411989371 0.7674418687820435\n",
            "77 \t 0.22586126310662144 0.3992267611126105 0.7209302186965942\n",
            "78 \t 0.23086155951023102 0.3023764693643898 0.8372092843055725\n",
            "79 \t 0.2235411118183817 0.3877592980861664 0.7674418687820435\n",
            "80 \t 0.2162319861707233 0.32973965257406235 0.8139534592628479\n",
            "81 \t 0.21960772252419875 0.39372718955079716 0.7906976938247681\n",
            "82 \t 0.21699316327327065 0.40093106279770535 0.7906976938247681\n",
            "83 \t 0.21436406884874618 0.3252372369170189 0.8139534592628479\n",
            "84 \t 0.21314118461062512 0.37363586326440174 0.7906976938247681\n",
            "85 \t 0.212565913485984 0.3674407824873924 0.8139534592628479\n",
            "86 \t 0.2121766796779065 0.336311233540376 0.8139534592628479\n",
            "87 \t 0.21575932293420746 0.3966778914133708 0.7209302186965942\n",
            "88 \t 0.21653325057455472 0.3513313407699267 0.7906976938247681\n",
            "89 \t 0.21227111787136113 0.332656167447567 0.7906976938247681\n",
            "90 \t 0.21519064300117038 0.3005262764248376 0.8139534592628479\n",
            "91 \t 0.21029584409136856 0.35979409515857697 0.8139534592628479\n",
            "92 \t 0.2116998155556974 0.3173307453592618 0.8139534592628479\n",
            "93 \t 0.2158857754631234 0.4033485874533653 0.7209302186965942\n",
            "94 \t 0.21659492931905247 0.3493492404619853 0.8139534592628479\n",
            "95 \t 0.21023851256108 0.3528572581708431 0.7674418687820435\n",
            "96 \t 0.21746604579190412 0.3326946794986725 0.8139534592628479\n",
            "97 \t 0.21096410495894297 0.34382910778125125 0.7906976938247681\n",
            "98 \t 0.2099781423097565 0.3074984985093276 0.8139534592628479\n",
            "99 \t 0.2149632821480433 0.36938081805904704 0.7441860437393188\n",
            "100 \t 0.20766480986605443 0.3037249917785327 0.8139534592628479\n",
            "101 \t 0.227977086213373 0.5133963748812675 0.7209302186965942\n",
            "102 \t 0.41987808155161993 0.4562496331830819 0.7209302186965942\n",
            "103 \t 0.23652129460658347 0.308987428744634 0.8837209343910217\n",
            "104 \t 0.20994666595721528 0.39579227566719055 0.7906976938247681\n",
            "105 \t 0.20995376330046428 0.3544494112332662 0.8372092843055725\n",
            "106 \t 0.21052447529066176 0.3542198066910108 0.8372092843055725\n",
            "107 \t 0.20967984625271388 0.31300191457072896 0.8372092843055725\n",
            "108 \t 0.2074978935221831 0.3233172222971916 0.8372092843055725\n",
            "109 \t 0.2101611385033244 0.3421105568607648 0.8139534592628479\n",
            "110 \t 0.21382540535359157 0.39407938718795776 0.8139534592628479\n",
            "111 \t 0.20654283925181344 0.3105497161547343 0.8372092843055725\n",
            "112 \t 0.20914206520787307 0.3251839727163315 0.8372092843055725\n",
            "113 \t 0.20547243447176047 0.32331526776154834 0.8372092843055725\n",
            "114 \t 0.2081693258092162 0.2767632342875004 0.9069767594337463\n",
            "115 \t 0.2037439223911081 0.3138457384193316 0.8139534592628479\n",
            "116 \t 0.20450804684133755 0.32357190797726315 0.8139534592628479\n",
            "117 \t 0.20746492133254096 0.32844478089828044 0.7906976938247681\n",
            "118 \t 0.20549422404950574 0.36084266752004623 0.8372092843055725\n",
            "119 \t 0.20322846311942808 0.37407271812359494 0.8139534592628479\n",
            "120 \t 0.20150032462108702 0.30017143736282986 0.8139534592628479\n",
            "121 \t 0.20447989707324832 0.307198499639829 0.8139534592628479\n",
            "122 \t 0.20275823479252203 0.30345674852530163 0.8837209343910217\n",
            "123 \t 0.21911636810927165 0.42765772342681885 0.7209302186965942\n",
            "124 \t 0.20962068154698327 0.363703024884065 0.8139534592628479\n",
            "125 \t 0.20387023758320583 0.2953026629984379 0.8139534592628479\n",
            "126 \t 0.20269757739844776 0.34165748457113904 0.8372092843055725\n",
            "127 \t 0.1993955723231747 0.270551444341739 0.8837209343910217\n",
            "128 \t 0.20022012156412183 0.2782232811053594 0.8837209343910217\n",
            "129 \t 0.20047809174727826 0.2697698134579696 0.8139534592628479\n",
            "130 \t 0.200706585532143 0.3304035464922587 0.8372092843055725\n",
            "131 \t 0.20125191667605014 0.2901243443290393 0.8372092843055725\n",
            "132 \t 0.19927712317023957 0.2889520252744357 0.8837209343910217\n",
            "133 \t 0.20105105212756566 0.2838475617269675 0.8604651093482971\n",
            "134 \t 0.20021771089661689 0.3206316828727722 0.8372092843055725\n",
            "135 \t 0.21068995472575938 0.4182481567064921 0.7209302186965942\n",
            "136 \t 0.20649180596783048 0.30913612494866055 0.8372092843055725\n",
            "137 \t 0.19909905855144774 0.33355195820331573 0.8604651093482971\n",
            "138 \t 0.20252342426794626 0.3157320072253545 0.8372092843055725\n",
            "139 \t 0.23691563733986445 0.42667712022860843 0.7209302186965942\n",
            "140 \t 0.22505242721221985 0.390502892434597 0.7209302186965942\n",
            "141 \t 0.20409075046579042 0.2939914787809054 0.8604651093482971\n",
            "142 \t 0.19880115876107343 0.2666689877708753 0.9069767594337463\n",
            "143 \t 0.20303203155552701 0.336000170558691 0.7906976938247681\n",
            "144 \t 0.202241184051326 0.3256174127260844 0.8837209343910217\n",
            "145 \t 0.19992238522640296 0.2970702722668648 0.8837209343910217\n",
            "146 \t 0.1971191627283891 0.24608158071835837 0.9069767594337463\n",
            "147 \t 0.19581975406479268 0.2897346541285515 0.8837209343910217\n",
            "148 \t 0.1933566514968074 0.24934333314498267 0.8837209343910217\n",
            "149 \t 0.19262861393924272 0.25743285318215686 0.9069767594337463\n",
            "150 \t 0.19400477601725252 0.2619065046310425 0.8837209343910217\n",
            "151 \t 0.19458643736739067 0.24148780604203543 0.8837209343910217\n",
            "152 \t 0.20238010849182805 0.41452982773383457 0.7906976938247681\n",
            "153 \t 0.19728744358179115 0.30137909452120465 0.9069767594337463\n",
            "154 \t 0.18687614825155055 0.2764359327654044 0.930232584476471\n",
            "155 \t 0.21385687122321023 0.3294069642821948 0.7906976938247681\n",
            "156 \t 0.19265254817548252 0.233204564700524 0.9069767594337463\n",
            "157 \t 0.18786530657893136 0.3007534456749757 0.8372092843055725\n",
            "158 \t 0.19057468688558965 0.2224306476612886 0.8837209343910217\n",
            "159 \t 0.19815410691357793 0.40680940945943195 0.7906976938247681\n",
            "160 \t 0.19678973885519163 0.2675047144293785 0.9069767594337463\n",
            "161 \t 0.19531963348189102 0.34070367241899174 0.8372092843055725\n",
            "162 \t 0.19175132612387338 0.2602390944957733 0.8837209343910217\n",
            "163 \t 0.1958118545867148 0.3728633299469948 0.7441860437393188\n",
            "164 \t 0.2185534378070207 0.4644736796617508 0.7209302186965942\n",
            "165 \t 0.19593148243923983 0.22367607429623604 0.9069767594337463\n",
            "166 \t 0.18888490578891443 0.2643340180317561 0.9069767594337463\n",
            "167 \t 0.18925975546950385 0.302796454479297 0.8837209343910217\n",
            "168 \t 0.18561592479679911 0.22969877735401192 0.8837209343910217\n",
            "169 \t 0.1859429394382806 0.26365237558881444 0.9069767594337463\n",
            "170 \t 0.18283447115460322 0.22349021211266518 0.8837209343910217\n",
            "171 \t 0.1886463437750492 0.28115944905827445 0.9069767594337463\n",
            "172 \t 0.18265626667111756 0.2193391074736913 0.8837209343910217\n",
            "173 \t 0.1872777504225572 0.2146087052921454 0.8837209343910217\n",
            "174 \t 0.18406961414231254 0.2885882755120595 0.8372092843055725\n",
            "175 \t 0.19136773848107883 0.2105578469733397 0.8837209343910217\n",
            "176 \t 0.22454776845517613 0.498984361688296 0.7209302186965942\n",
            "177 \t 0.23042906637281357 0.47559723630547523 0.7209302186965942\n",
            "178 \t 0.21083843049460224 0.27487526337305707 0.8837209343910217\n",
            "179 \t 0.18052751018798777 0.2154676951467991 0.8837209343910217\n",
            "180 \t 0.18192142638422193 0.31684570759534836 0.8372092843055725\n",
            "181 \t 0.18697653072220938 0.2250379684070746 0.8837209343910217\n",
            "182 \t 0.17990946281878722 0.22152000044782957 0.8837209343910217\n",
            "183 \t 0.1796111095519293 0.2676587589085102 0.8837209343910217\n",
            "184 \t 0.180825162839721 0.20526196289574727 0.9069767594337463\n",
            "185 \t 0.17946650886109897 0.198989788943436 0.8837209343910217\n",
            "186 \t 0.17997433475795246 0.21823337922493616 0.9069767594337463\n",
            "187 \t 0.1798391451316309 0.20563102761904398 0.8837209343910217\n",
            "188 \t 0.18129486537405423 0.35301389793554944 0.8372092843055725\n",
            "189 \t 0.1869257850838559 0.2073936586578687 0.8837209343910217\n",
            "190 \t 0.17823393086326264 0.26191023364663124 0.9069767594337463\n",
            "191 \t 0.17846866067321526 0.21538690850138664 0.9069767594337463\n",
            "192 \t 0.17812429563630194 0.20843293455739817 0.8837209343910217\n",
            "193 \t 0.18083758004719303 0.2299070124475596 0.8837209343910217\n",
            "194 \t 0.1843110494748024 0.19518486594703668 0.8837209343910217\n",
            "195 \t 0.1802837284547942 0.19767063970599943 0.8837209343910217\n",
            "196 \t 0.17980209108264672 0.2482592115799586 0.9069767594337463\n",
            "197 \t 0.17701043843269526 0.22830048048247895 0.8837209343910217\n",
            "198 \t 0.17853056058465017 0.20173683514197668 0.9069767594337463\n",
            "199 \t 0.17698107306135907 0.22261780748764673 0.9069767594337463\n",
            "200 \t 0.17625597731343337 0.21472100789348283 0.8837209343910217\n",
            "201 \t 0.19318004999132382 0.49289407829443616 0.7209302186965942\n",
            "202 \t 0.22516538646249545 0.5071328058838844 0.7209302186965942\n",
            "203 \t 0.2146193284896158 0.2501981494327386 0.8837209343910217\n",
            "204 \t 0.1760638630450038 0.2151815394560496 0.8837209343910217\n",
            "205 \t 0.17578399961902982 0.1935820935953719 0.9069767594337463\n",
            "206 \t 0.175981168856933 0.1934921139230331 0.8837209343910217\n",
            "207 \t 0.1769834886349383 0.21107987314462662 0.9069767594337463\n",
            "208 \t 0.1760169823787042 0.2182833586509029 0.9069767594337463\n",
            "209 \t 0.1765185215765433 0.20026667540272078 0.9069767594337463\n",
            "210 \t 0.17640145034307525 0.2215780404706796 0.9069767594337463\n",
            "211 \t 0.1750533575458186 0.20013198939462504 0.9069767594337463\n",
            "212 \t 0.17571107422312102 0.20941191104551157 0.9069767594337463\n",
            "213 \t 0.17600366101777626 0.23742111896475157 0.9069767594337463\n",
            "214 \t 0.17646832817367145 0.20207197467486063 0.9069767594337463\n",
            "215 \t 0.17669503071478435 0.2401359143356482 0.9069767594337463\n",
            "216 \t 0.17984397390059062 0.258082989603281 0.8604651093482971\n",
            "217 \t 0.17733134628949865 0.20402897174547738 0.8837209343910217\n",
            "218 \t 0.17283851919429644 0.1991943729420503 0.9069767594337463\n",
            "219 \t 0.1761527559221057 0.19911068677902222 0.9069767594337463\n",
            "220 \t 0.17279855419127715 0.20243419396380583 0.8837209343910217\n",
            "221 \t 0.1717450868704223 0.21712759882211685 0.9069767594337463\n",
            "222 \t 0.17621908540881814 0.19994443530837694 0.9069767594337463\n",
            "223 \t 0.1743925196074304 0.269201805931516 0.8837209343910217\n",
            "224 \t 0.18613725740994727 0.3923733706275622 0.7674418687820435\n",
            "225 \t 0.18699422319020545 0.2137553602224216 0.8837209343910217\n",
            "226 \t 0.20832235907160102 0.41687291488051414 0.8139534592628479\n",
            "227 \t 0.19749777089981807 0.35240266968806583 0.8139534592628479\n",
            "228 \t 0.17864489826994637 0.21064011504252753 0.8837209343910217\n",
            "229 \t 0.1727056707299891 0.19331739110445292 0.8837209343910217\n",
            "230 \t 0.1716654427222065 0.19887420007338127 0.8837209343910217\n",
            "231 \t 0.17580414252976576 0.22863525400559107 0.8837209343910217\n",
            "232 \t 0.17189579661048593 0.22019610623829067 0.9069767594337463\n",
            "233 \t 0.17158020882024652 0.357568917175134 0.8139534592628479\n",
            "234 \t 0.19398074801124277 0.25611136977871257 0.8604651093482971\n",
            "235 \t 0.17962388995857465 0.2547285836189985 0.9069767594337463\n",
            "236 \t 0.1858533796455179 0.35689597576856613 0.7906976938247681\n",
            "237 \t 0.20321015339522136 0.5251742824912071 0.7209302186965942\n",
            "238 \t 0.2514036177169709 0.5588647673527399 0.6976743936538696\n",
            "239 \t 0.24521334212095963 0.5153226008017858 0.7209302186965942\n",
            "240 \t 0.21812601130278336 0.41113994518915814 0.7674418687820435\n",
            "241 \t 0.18805171744454474 0.19914557660619417 0.9069767594337463\n",
            "242 \t 0.1694848865625404 0.22832727804780006 0.930232584476471\n",
            "243 \t 0.17975903000859988 0.34692491839329404 0.8372092843055725\n",
            "244 \t 0.19325387504483973 0.2600422551234563 0.8837209343910217\n",
            "245 \t 0.17070723440320718 0.19154841967004663 0.8837209343910217\n",
            "246 \t 0.16939341693207444 0.19839757339408 0.9069767594337463\n",
            "247 \t 0.17565617400188266 0.22585518596072993 0.9069767594337463\n",
            "248 \t 0.1760213120031126 0.2080615535378456 0.9069767594337463\n",
            "249 \t 0.17426319269552118 0.2340843467779147 0.9069767594337463\n",
            "250 \t 0.16842179546975308 0.19733345011870065 0.8837209343910217\n"
          ]
        }
      ]
    },
    {
      "cell_type": "markdown",
      "source": [
        "Let's plot all the test data and see what the model still got wrong. In the following code. Green timeseries are weekdays and blue timeseries are weekends. The transparent ones are correctly predicted, whereas the dotted ones are predicted wrongly. (So a blue dotted line means a weekend predicted as being a weekday and vice-versa)."
      ],
      "metadata": {
        "id": "j_OAU_xKaRYy"
      }
    },
    {
      "cell_type": "code",
      "source": [
        "preds = (model(X_test) > 0).detach().int().numpy()\n",
        "trues = y_test.numpy()\n",
        "\n",
        "for i in range(len(X_test)):\n",
        "    plt.plot(np.arange(24), X_test[i, :, 0].numpy(),\n",
        "             color = [\"blue\", \"green\"][int(trues[i])],\n",
        "             ls = [\":\", \"-\"][int(trues[i] == preds[i])],\n",
        "             alpha = [1, 0.1][int(trues[i] == preds[i])])\n"
      ],
      "metadata": {
        "colab": {
          "base_uri": "https://localhost:8080/",
          "height": 265
        },
        "id": "-OwVAqSuajPf",
        "outputId": "7a0a40f2-5afb-4747-90b5-fe698ffd7571"
      },
      "execution_count": 27,
      "outputs": [
        {
          "output_type": "display_data",
          "data": {
            "text/plain": [
              "<Figure size 432x288 with 1 Axes>"
            ],
            "image/png": "[encoded data removed]"
          },
          "metadata": {
            "needs_background": "light"
          }
        }
      ]
    }
  ],
  "metadata": {
    "kernelspec": {
      "display_name": "Python 3.9.13 ('gaetan_predmod')",
      "language": "python",
      "name": "python3"
    },
    "language_info": {
      "name": "python",
      "version": "3.9.13"
    },
    "orig_nbformat": 4,
    "vscode": {
      "interpreter": {
        "hash": "ef9dbff06f2d3990401ab7bd73f166712843564b695d78ee6ca1b88459deb91e"
      }
    },
    "colab": {
      "provenance": [],
      "collapsed_sections": [],
      "include_colab_link": true
    }
  },
  "nbformat": 4,
  "nbformat_minor": 0
}