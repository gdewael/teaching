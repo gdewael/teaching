{
 "cells": [
  {
   "cell_type": "code",
   "execution_count": 1,
   "metadata": {},
   "outputs": [],
   "source": [
    "import pandas as pd\n",
    "import numpy as np\n",
    "from sklearn.metrics import mean_squared_error"
   ]
  },
  {
   "cell_type": "code",
   "execution_count": 2,
   "metadata": {},
   "outputs": [],
   "source": [
    "# Read file, encode dummies\n",
    "trainData = pd.read_csv('abaloneTrain700.csv')\n",
    "trainData = pd.concat((trainData, pd.get_dummies(trainData['sex'])), axis=1)\n",
    "y_train = trainData['age']\n",
    "trainData = trainData.drop(['sex', 'age'], axis=1)\n",
    "\n",
    "testData = pd.read_csv('abaloneTest700.csv')\n",
    "testData = pd.concat((testData, pd.get_dummies(testData['sex'])), axis=1)\n",
    "y_test = testData['age']\n",
    "testData = testData.drop(['sex', 'age'], axis=1)"
   ]
  },
  {
   "cell_type": "code",
   "execution_count": 3,
   "metadata": {},
   "outputs": [],
   "source": [
    "# Scale data\n",
    "from sklearn.preprocessing import StandardScaler\n",
    "Scaler = StandardScaler()\n",
    "Scaler.fit(trainData)\n",
    "trainData_scaled = Scaler.transform(trainData)\n",
    "testData_scaled = Scaler.transform(testData)"
   ]
  },
  {
   "cell_type": "code",
   "execution_count": 4,
   "metadata": {},
   "outputs": [
    {
     "name": "stdout",
     "output_type": "stream",
     "text": [
      "[12.333333333333334, 13.333333333333334, 13.333333333333334, 7.0, 9.0, 10.333333333333334, 11.0, 6.666666666666667, 13.666666666666666, 7.666666666666667]\n"
     ]
    }
   ],
   "source": [
    "# My own knn regression\n",
    "def knnPredict(featuresNewInstance, trainDataset, y_train, k=1):\n",
    "    # Euclidean distance\n",
    "    \n",
    "    #dist = np.array([np.sqrt(sum((featuresNewInstance-trainDataset[i,:])**2)) \n",
    "    #        for i in range(trainDataset.shape[0])])\n",
    "    \n",
    "    dist = np.sqrt(((featuresNewInstance-trainDataset)**2).sum(axis=1)) # OPTIMIZED BUT SAME RESULT\n",
    "\n",
    "    nn = dist.argsort()[:k] # You only need to this to get the indices of the k nearest neighbors,\n",
    "    # since argsort already returns indices (look up the difference between .sort() and .argsort() if necessary)\n",
    "    \n",
    "    prediction = np.mean(y_train.iloc[nn])     # average of the nearest neighbors\n",
    "    return prediction\n",
    "\n",
    "# This is very slow if we do it on the whole dataset, so just do it on 10 data points\n",
    "my_predictions = [knnPredict(testData_scaled[i,:], trainData_scaled, y_train, k=3)\n",
    "          for i in range(10)]\n",
    "print(my_predictions)"
   ]
  },
  {
   "cell_type": "code",
   "execution_count": 5,
   "metadata": {},
   "outputs": [],
   "source": [
    "# Using the one implemented by sklearn\n",
    "from sklearn import neighbors\n",
    "\n",
    "knn = neighbors.KNeighborsRegressor(n_neighbors=3, metric = 'euclidean')\n",
    "knn.fit(trainData_scaled, y_train)\n",
    "y_pred = knn.predict(testData_scaled)\n",
    "y_pred_train = knn.predict(trainData_scaled)"
   ]
  },
  {
   "cell_type": "code",
   "execution_count": 6,
   "metadata": {},
   "outputs": [
    {
     "name": "stdout",
     "output_type": "stream",
     "text": [
      "MSE for test data: 6.7280952380952375\n",
      "MSE for training data: 3.5119047619047614\n"
     ]
    }
   ],
   "source": [
    "print(\"MSE for test data:\", mean_squared_error(y_pred, y_test))\n",
    "print(\"MSE for training data:\", mean_squared_error(y_pred_train, y_train))"
   ]
  },
  {
   "cell_type": "code",
   "execution_count": 7,
   "metadata": {},
   "outputs": [
    {
     "name": "stdout",
     "output_type": "stream",
     "text": [
      "Sklearn\t\tMy implementation\n",
      "12.33\t\t12.33\n",
      "13.33\t\t13.33\n",
      "13.33\t\t13.33\n",
      "7.00\t\t7.00\n",
      "9.00\t\t9.00\n",
      "10.33\t\t10.33\n",
      "11.00\t\t11.00\n",
      "6.67\t\t6.67\n",
      "13.67\t\t13.67\n",
      "7.67\t\t7.67\n",
      "MSE for sklearn: 8.01\n",
      "MSE for my implementation: 8.01\n"
     ]
    }
   ],
   "source": [
    "print(\"Sklearn\\t\\tMy implementation\")\n",
    "for i in range(10):\n",
    "    print(\"{:.2f}\\t\\t{:.2f}\".format(y_pred[i], my_predictions[i]))\n",
    "print(\"MSE for sklearn: {:.2f}\".format(mean_squared_error(y_pred[:10], y_test[:10])))\n",
    "print(\"MSE for my implementation: {:.2f}\".format(mean_squared_error(my_predictions, y_test[:10])))"
   ]
  },
  {
   "cell_type": "code",
   "execution_count": null,
   "metadata": {},
   "outputs": [],
   "source": []
  },
  {
   "cell_type": "code",
   "execution_count": null,
   "metadata": {},
   "outputs": [],
   "source": []
  }
 ],
 "metadata": {
  "kernelspec": {
   "display_name": "Python 3",
   "language": "python",
   "name": "python3"
  },
  "language_info": {
   "codemirror_mode": {
    "name": "ipython",
    "version": 3
   },
   "file_extension": ".py",
   "mimetype": "text/x-python",
   "name": "python",
   "nbconvert_exporter": "python",
   "pygments_lexer": "ipython3",
   "version": "3.7.9"
  }
 },
 "nbformat": 4,
 "nbformat_minor": 4
}
