{
 "cells": [
  {
   "cell_type": "markdown",
   "metadata": {},
   "source": [
    "# PC lab 6: Linear model selection - Regularization"
   ]
  },
  {
   "cell_type": "markdown",
   "metadata": {},
   "source": [
    "We have already seen linear regression to tackle regression problems. With linear regression, we model a continous outcome as a linear function of the features:\n",
    "\n",
    "\\begin{equation}\n",
    "\\hat{y} = w_{0}x_{0} + w_{1}x_{1} + ... + w_{p}x_{p} = \\sum\\limits_{i=0}^{p}w_{i}x_{i}\n",
    "\\end{equation}"
   ]
  },
  {
   "cell_type": "markdown",
   "metadata": {},
   "source": [
    "This works well when there are a lot of training observations and when the number of features (the dimensionality of the problem) is not too large. However, there are a couple of situations where ordinary linear regression might give problems:\n",
    "\n",
    "* When the number of features $p$ becomes large with respect to the number of observations $n$, the variance of the model weights estimated by linear regression increases, which might result in poor predictive performance. Futhermore, there is no longer an analytical solution provided by least squares when $p > n$. \n",
    "* It is possible that there are a lot of uninteresting or redundant features. If we want a sparse and interpretable model, we might want to do feature selection to reduce $p$. "
   ]
  },
  {
   "cell_type": "markdown",
   "metadata": {},
   "source": [
    "In this lab, we will cover two solutions to the problems above: subset selection and regularization methods."
   ]
  },
  {
   "cell_type": "markdown",
   "metadata": {},
   "source": [
    "## Subset selection methods"
   ]
  },
  {
   "cell_type": "markdown",
   "metadata": {},
   "source": [
    "In subset selection, we only use a subset of the features that are available. The goal is to come up with a model that is sparse and that generalizes better to unseen data. There are two main strategies for subset selection: in *best subset selection*, we fit all the $p \\choose k$ models for each $k = 1, 2.. p$ and retain the best model for each $k$. Finally, we select the model that performs best on some measure that controls for overfitting: "
   ]
  },
  {
   "cell_type": "markdown",
   "metadata": {},
   "source": [
    "![bestsubset](img/best_subset.png)"
   ]
  },
  {
   "cell_type": "markdown",
   "metadata": {},
   "source": [
    "This becomes quickly unfeasible for large values of $p$. Therefore, an alternative approach is to perform *stepwise selection*, which explores a much smaller set of feature combinations. Stepwise selection can be performed either backward or forward. For large $p$ they are the only computationally feasible subset selection methods. "
   ]
  },
  {
   "cell_type": "markdown",
   "metadata": {},
   "source": [
    "![forward](img/forward.png)"
   ]
  },
  {
   "cell_type": "markdown",
   "metadata": {},
   "source": [
    "Finally, it is important to account for the fact that the MSE (or, equivalently, the RSS) will always go down on the training data as we add more and more features. To select the best model out of several candidates, it is important to have an estimate of the test error of each model. This can be done indirectly by using a metric that penalizes for model complexity such as the AIC or the adjusted $R^2$. Another option is to use cross-validation to get an estimate of the test error."
   ]
  },
  {
   "cell_type": "markdown",
   "metadata": {},
   "source": [
    "**Let's apply subset selection on two datasets.** The first dataset contains features of mixtures used to produce concrete. The goal is to predict the compressive strength of the concrete."
   ]
  },
  {
   "cell_type": "code",
   "execution_count": 2,
   "metadata": {},
   "outputs": [
    {
     "data": {
      "text/html": [
       "<div>\n",
       "<style scoped>\n",
       "    .dataframe tbody tr th:only-of-type {\n",
       "        vertical-align: middle;\n",
       "    }\n",
       "\n",
       "    .dataframe tbody tr th {\n",
       "        vertical-align: top;\n",
       "    }\n",
       "\n",
       "    .dataframe thead th {\n",
       "        text-align: right;\n",
       "    }\n",
       "</style>\n",
       "<table border=\"1\" class=\"dataframe\">\n",
       "  <thead>\n",
       "    <tr style=\"text-align: right;\">\n",
       "      <th></th>\n",
       "      <th>cement</th>\n",
       "      <th>blastFurnaceSlag</th>\n",
       "      <th>flyAsh</th>\n",
       "      <th>water</th>\n",
       "      <th>superelastizer</th>\n",
       "      <th>coarseAggregate</th>\n",
       "      <th>fineAggregate</th>\n",
       "      <th>age</th>\n",
       "      <th>compressiveStrength</th>\n",
       "    </tr>\n",
       "  </thead>\n",
       "  <tbody>\n",
       "    <tr>\n",
       "      <th>0</th>\n",
       "      <td>540.0</td>\n",
       "      <td>0.0</td>\n",
       "      <td>0.0</td>\n",
       "      <td>162.0</td>\n",
       "      <td>2.5</td>\n",
       "      <td>1040.0</td>\n",
       "      <td>676.0</td>\n",
       "      <td>28</td>\n",
       "      <td>79.99</td>\n",
       "    </tr>\n",
       "    <tr>\n",
       "      <th>1</th>\n",
       "      <td>540.0</td>\n",
       "      <td>0.0</td>\n",
       "      <td>0.0</td>\n",
       "      <td>162.0</td>\n",
       "      <td>2.5</td>\n",
       "      <td>1055.0</td>\n",
       "      <td>676.0</td>\n",
       "      <td>28</td>\n",
       "      <td>61.89</td>\n",
       "    </tr>\n",
       "    <tr>\n",
       "      <th>2</th>\n",
       "      <td>332.5</td>\n",
       "      <td>142.5</td>\n",
       "      <td>0.0</td>\n",
       "      <td>228.0</td>\n",
       "      <td>0.0</td>\n",
       "      <td>932.0</td>\n",
       "      <td>594.0</td>\n",
       "      <td>270</td>\n",
       "      <td>40.27</td>\n",
       "    </tr>\n",
       "    <tr>\n",
       "      <th>3</th>\n",
       "      <td>332.5</td>\n",
       "      <td>142.5</td>\n",
       "      <td>0.0</td>\n",
       "      <td>228.0</td>\n",
       "      <td>0.0</td>\n",
       "      <td>932.0</td>\n",
       "      <td>594.0</td>\n",
       "      <td>365</td>\n",
       "      <td>41.05</td>\n",
       "    </tr>\n",
       "    <tr>\n",
       "      <th>4</th>\n",
       "      <td>198.6</td>\n",
       "      <td>132.4</td>\n",
       "      <td>0.0</td>\n",
       "      <td>192.0</td>\n",
       "      <td>0.0</td>\n",
       "      <td>978.4</td>\n",
       "      <td>825.5</td>\n",
       "      <td>360</td>\n",
       "      <td>44.30</td>\n",
       "    </tr>\n",
       "  </tbody>\n",
       "</table>\n",
       "</div>"
      ],
      "text/plain": [
       "   cement  blastFurnaceSlag  flyAsh  water  superelastizer  coarseAggregate  \\\n",
       "0   540.0               0.0     0.0  162.0             2.5           1040.0   \n",
       "1   540.0               0.0     0.0  162.0             2.5           1055.0   \n",
       "2   332.5             142.5     0.0  228.0             0.0            932.0   \n",
       "3   332.5             142.5     0.0  228.0             0.0            932.0   \n",
       "4   198.6             132.4     0.0  192.0             0.0            978.4   \n",
       "\n",
       "   fineAggregate  age  compressiveStrength  \n",
       "0          676.0   28                79.99  \n",
       "1          676.0   28                61.89  \n",
       "2          594.0  270                40.27  \n",
       "3          594.0  365                41.05  \n",
       "4          825.5  360                44.30  "
      ]
     },
     "execution_count": 2,
     "metadata": {},
     "output_type": "execute_result"
    }
   ],
   "source": [
    "# Read in the data\n",
    "import pandas as pd \n",
    "\n",
    "concretedata = pd.read_table('concreteComprStrength.txt', delim_whitespace=True, header=0, index_col=None)\n",
    "concretedata.head()"
   ]
  },
  {
   "cell_type": "markdown",
   "metadata": {},
   "source": [
    "Run the code below to perform best subset selection with linear regression. The code implements algorithm 6.1 from the book as shown above. For each number of features $k$, the code will print the number of feature combinations that is explored. We fit a model for each combination, so there is quite some computation involved."
   ]
  },
  {
   "cell_type": "code",
   "execution_count": null,
   "metadata": {},
   "outputs": [],
   "source": [
    "for i in range(10):\n",
    "    if i == 5:\n",
    "        break\n",
    "    print(i)"
   ]
  },
  {
   "cell_type": "code",
   "execution_count": 3,
   "metadata": {},
   "outputs": [
    {
     "name": "stdout",
     "output_type": "stream",
     "text": [
      "Number of combinations  with 1 features: 8.0\n",
      "Number of combinations  with 2 features: 28.0\n",
      "Number of combinations  with 3 features: 56.0\n",
      "Number of combinations  with 4 features: 70.0\n",
      "Number of combinations  with 5 features: 56.0\n",
      "Number of combinations  with 6 features: 28.0\n",
      "Number of combinations  with 7 features: 8.0\n",
      "Number of combinations  with 8 features: 1.0\n",
      "Best CV score using 1 features: 0.243730682879381\n",
      "Best CV score using 2 features: 0.3397874857551484\n",
      "Best CV score using 3 features: 0.4714272242491287\n",
      "Best CV score using 4 features: 0.5451881435953686\n",
      "Best CV score using 5 features: 0.6081456334245801\n",
      "Best CV score using 6 features: 0.6054089767480288\n",
      "Best CV score using 7 features: 0.6043137137427337\n",
      "Best CV score using 8 features: 0.6025601286431239\n",
      "Best feature combination: ('cement', 'blastFurnaceSlag', 'flyAsh', 'water', 'age')\n"
     ]
    },
    {
     "data": {
      "image/png": "[encoded data removed]",
      "text/plain": [
       "<Figure size 720x576 with 1 Axes>"
      ]
     },
     "metadata": {
      "needs_background": "light"
     },
     "output_type": "display_data"
    }
   ],
   "source": [
    "import scipy as scipy\n",
    "import numpy as np\n",
    "from sklearn.linear_model import LinearRegression\n",
    "from sklearn.model_selection import KFold, cross_validate\n",
    "from itertools import combinations \n",
    "from matplotlib import pyplot as plt\n",
    "%matplotlib inline\n",
    "\n",
    "# Specify features and labels\n",
    "X = concretedata.drop(['compressiveStrength'], axis=1)\n",
    "y = concretedata['compressiveStrength']\n",
    "\n",
    "# Dicts to store the feature combinations and their scores\n",
    "scores_perNfeat = {'mean':[], 'max':[], 'var':[]}\n",
    "best_feature_perNfeat = []\n",
    "# Define splitter object outside loop to ensure same splits over loop\n",
    "splitter = KFold(n_splits=5, shuffle=True, random_state=None)\n",
    "\n",
    "# For k in 1,...,p\n",
    "for k in np.arange(1,X.shape[1]+1):\n",
    "    print('Number of combinations  with {} features: {}'.format(k, scipy.special.comb(X.shape[1],k)))\n",
    "    best_score_k = 0\n",
    "    scores_k_comb = []\n",
    "    # Create and loop over all the possible feature combinations given k\n",
    "    for c in combinations(X.columns, k):\n",
    "        # Select features from data\n",
    "        X_c = X[list(c)]\n",
    "        # Define model\n",
    "        model = LinearRegression()\n",
    "        # Fit model and compute score on training data\n",
    "        scores = cross_validate(model, X_c.values, y.values, cv=splitter)\n",
    "        mean_cv_score = np.mean(scores['test_score'])\n",
    "        # Save scores\n",
    "        scores_k_comb.append(mean_cv_score)\n",
    "        if mean_cv_score > best_score_k:\n",
    "            best_features = c\n",
    "            best_score_k = mean_cv_score\n",
    "    # Save scores based on # features\n",
    "\n",
    "    scores_perNfeat['max'].append(np.max(scores_k_comb))\n",
    "    scores_perNfeat['var'].append(np.var(scores_k_comb))\n",
    "    scores_perNfeat['mean'].append(np.mean(scores_k_comb))\n",
    "    # Save best feature combination\n",
    "    best_feature_perNfeat.append(best_features)\n",
    "\n",
    "#Get variance of scores within grouped scores \n",
    "for i, score in enumerate(scores_perNfeat['max']):\n",
    "    print(\"Best CV score using {} features: {}\".format(i+1, score))\n",
    "\n",
    "fig, ax = plt.subplots(1,1,figsize=(10,8), sharey=True)\n",
    "\n",
    "ax.errorbar(np.arange(len(scores_perNfeat['mean']))+1, scores_perNfeat['mean'], scores_perNfeat['var'], label='mean score')\n",
    "ax.scatter(np.arange(len(scores_perNfeat['max']))+1, scores_perNfeat['max'], alpha=0.5, label='max score')\n",
    "ax.set_xlabel('#features')\n",
    "ax.set_ylabel('accuracy')\n",
    "fig.legend()\n",
    "print('Best feature combination: {}'.format(best_feature_perNfeat[np.argmax(scores_perNfeat['max'])]))"
   ]
  },
  {
   "cell_type": "code",
   "execution_count": 4,
   "metadata": {},
   "outputs": [
    {
     "data": {
      "text/plain": [
       "dict"
      ]
     },
     "execution_count": 4,
     "metadata": {},
     "output_type": "execute_result"
    }
   ],
   "source": [
    "type(scores)"
   ]
  },
  {
   "cell_type": "markdown",
   "metadata": {},
   "source": [
    "We will do the same thing for a second dataset. This time, the features are measurements from a flow cytometry experiment. The 'SC' features measure scatter, and say something about the morphologhy of the cells (FSC: forwad scatter, SSC: sideway scatter). The 'FL' features are fluorescence features from different parts of the spectrum. There are two possible bacterial species present in the dataset. The goal is to classify the correct species based on the measurements from the flow cytometer. Species number one corresponds to *Pseudomonas putida*, while species number 6 is *Brachybacterium faecium*. We will use logistic regression to do the classification."
   ]
  },
  {
   "cell_type": "code",
   "execution_count": null,
   "metadata": {},
   "outputs": [],
   "source": [
    "# Read in the data\n",
    "bacterialdata = pd.read_csv('fc_data_new.csv', index_col=0)\n",
    "bacterialdata = bacterialdata.drop(['Width', 'Time'], axis=1).reset_index(drop=True)"
   ]
  },
  {
   "cell_type": "code",
   "execution_count": null,
   "metadata": {},
   "outputs": [],
   "source": [
    "bacterialdata.head()"
   ]
  },
  {
   "cell_type": "code",
   "execution_count": null,
   "metadata": {},
   "outputs": [],
   "source": [
    "from sklearn.linear_model import LogisticRegression\n",
    "from sklearn.discriminant_analysis import LinearDiscriminantAnalysis as LDA\n",
    "\n",
    "# Specify features and labels\n",
    "X = bacterialdata.drop(['species'], axis=1)\n",
    "y = bacterialdata['species']\n",
    "\n",
    "# Dicts to store the feature combinations and their scores\n",
    "scores_perNfeat = {'mean':[], 'max':[], 'var':[]}\n",
    "best_feature_perNfeat = []\n",
    "# Define splitter object outside loop to ensure same splits over loop\n",
    "splitter = KFold(n_splits=5, shuffle=True, random_state=None)\n",
    "\n",
    "# For k in 1,...,p\n",
    "for k in np.arange(1,X.shape[1]+1):\n",
    "    print('Number of combinations  with {} features: {}'.format(k, scipy.special.comb(X.shape[1],k)))\n",
    "    best_score_k = 0\n",
    "    scores_k_comb = []\n",
    "    # Create and loop over all the possible feature combinations given k\n",
    "    for c in combinations(X.columns, k):\n",
    "        # Select features from data\n",
    "        X_c = X[list(c)]\n",
    "        # Define model\n",
    "        model = LogisticRegression() # or model = LDA()\n",
    "        # Fit model and compute score on training data\n",
    "        scores = cross_validate(model, X_c.values, y.values, cv=splitter, n_jobs=4)\n",
    "        mean_cv_score = np.mean(scores['test_score'])\n",
    "        # Save scores\n",
    "        scores_k_comb.append(mean_cv_score)\n",
    "        if mean_cv_score > best_score_k:\n",
    "            best_features = c\n",
    "            best_score_k = mean_cv_score\n",
    "    # Save scores based on # features\n",
    "\n",
    "    scores_perNfeat['max'].append(np.max(scores_k_comb))\n",
    "    scores_perNfeat['var'].append(np.var(scores_k_comb))\n",
    "    scores_perNfeat['mean'].append(np.mean(scores_k_comb))\n",
    "    # Save best feature combination\n",
    "    best_feature_perNfeat.append(best_features)\n",
    "\n",
    "#Get variance of scores within grouped scores \n",
    "for i, score in enumerate(scores_perNfeat['max']):\n",
    "    print(\"Best CV score using {} features: {}\".format(i+1, score))\n",
    "\n",
    "fig, ax = plt.subplots(1,1,figsize=(10,8), sharey=True)\n",
    "\n",
    "ax.errorbar(np.arange(len(scores_perNfeat['mean']))+1, scores_perNfeat['mean'], scores_perNfeat['var'], label='mean score')\n",
    "ax.scatter(np.arange(len(scores_perNfeat['max']))+1, scores_perNfeat['max'], alpha=0.5, label='max score')\n",
    "ax.set_xlabel('#features')\n",
    "ax.set_ylabel('accuracy')\n",
    "fig.legend()\n",
    "print('Best feature combination: {}'.format(best_feature_perNfeat[np.argmax(scores_perNfeat['max'])]))"
   ]
  },
  {
   "cell_type": "markdown",
   "metadata": {},
   "source": [
    "<div class=\"alert alert-success\">\n",
    "    <h2>Exercise</h2>\n",
    "    <p>Implement stepwise selection for features as explained at the start of the notebook</p>\n",
    "</div>"
   ]
  },
  {
   "cell_type": "code",
   "execution_count": null,
   "metadata": {},
   "outputs": [],
   "source": [
    "from sklearn.linear_model import LogisticRegression\n",
    "\n",
    "# Specify features and labels\n",
    "X = bacterialdata.drop(['species'], axis=1)\n",
    "y = bacterialdata['species']\n",
    "\n",
    "# Lists to store the feature combinations and their scores\n",
    "scores_perNfeat = {'mean':[], 'max':[], 'var':[]}\n",
    "best_feature_perNfeat = []\n",
    "\n",
    "features = [] # start with empty set of features\n",
    "\n",
    "# Define splitter object outside loop to ensure same splits over loop\n",
    "splitter = KFold(n_splits=3, shuffle=True, random_state=None)\n",
    "\n",
    "# For k in 1,...,p\n",
    "for k in np.arange(1,X.shape[1]+1):\n",
    "    best_score_k = 0\n",
    "    scores_k_comb = []\n",
    "    # Create and loop over all the possible features to add\n",
    "    for feature_idx in np.arange(0,X.shape[1]):\n",
    "        if feature_idx in features:\n",
    "            continue\n",
    "        temp_features = features + [feature_idx]\n",
    "        # Select features from data\n",
    "        X_c = X.iloc[:, temp_features]\n",
    "        # Define model\n",
    "        model = LogisticRegression()\n",
    "        # Fit model and compute score on training data\n",
    "        scores = cross_validate(model, X_c.values, y.values, cv=splitter, n_jobs=4)\n",
    "        mean_cv_score = np.mean(scores['test_score'])\n",
    "        # Save scores\n",
    "        scores_k_comb.append(mean_cv_score)\n",
    "        if mean_cv_score > best_score_k:\n",
    "            best_feature = feature_idx\n",
    "            best_score_k = mean_cv_score\n",
    "    features.append(best_feature)\n",
    "    # Save scores based on # features\n",
    "    scores_perNfeat['max'].append(np.max(scores_k_comb))\n",
    "    scores_perNfeat['var'].append(np.var(scores_k_comb))\n",
    "    scores_perNfeat['mean'].append(np.mean(scores_k_comb))\n",
    "    # Save best feature combination\n",
    "    best_feature_perNfeat.append(features[:])\n",
    "\n",
    "#Get variance of scores within grouped scores \n",
    "for i, score in enumerate(scores_perNfeat['max']):\n",
    "    print(\"Best training score using {} features: {}\".format(i+1, score))\n",
    "\n",
    "fig, ax = plt.subplots(1,1,figsize=(10,8), sharey=True)\n",
    "ax.errorbar(np.arange(len(scores_perNfeat['mean']))+1, scores_perNfeat['mean'], scores_perNfeat['var'], label='tune_data')\n",
    "ax.scatter(np.arange(len(scores_perNfeat['max']))+1, scores_perNfeat['max'], alpha=0.5)\n",
    "ax.set_xlabel('#features')\n",
    "ax.set_ylabel('accuracy')\n",
    "fig.legend()\n",
    "print('final set of features: {}'.format(set(best_feature_perNfeat[np.argmax(scores_perNfeat['max'])])))\n",
    "best_feature_perNfeat"
   ]
  },
  {
   "cell_type": "markdown",
   "metadata": {},
   "source": [
    "## Regularization methods: ridge regression and the lasso\n"
   ]
  },
  {
   "cell_type": "markdown",
   "metadata": {},
   "source": [
    "Regularization is one of the most important concepts in machine learning to avoid overfitting. It comes in many forms. In linear regression, regularization techniques typically constrain the coefficient estimates. In return for a little extra bias, this reduces the variance of the coefficient esimates. The two main shrinkage techniques are **ridge regression** and the **lasso**.\n",
    "\n",
    "**Ridge regression penalizes the sum of the squares of the model weights by adding a term to the MSE loss function**:\n",
    "![ridge](img/ridge.gif)"
   ]
  },
  {
   "cell_type": "markdown",
   "metadata": {},
   "source": [
    "The lasso does a similar thing, but penalizes the absolute value of the model coefficients. The effect of both approaches is that the model coefficients are shrunk towards zero, resulting in less overfitting and less variance in the predictions (at the cost of a little more bias). We will apply both models on two datasets."
   ]
  },
  {
   "cell_type": "markdown",
   "metadata": {},
   "source": [
    "### Linear models for high dimensional data"
   ]
  },
  {
   "cell_type": "markdown",
   "metadata": {},
   "source": [
    "We will apply ridge regression on the Communities and Crime Data Set. The dataset contains 123 population statistics on 1994 communities. We would like to predict the number of violent crimes per 100000 inhabitants. This is the final column of the dataframe. Of the 123 features, a lot contain missing values, so we will drop these columns and use only 99 features."
   ]
  },
  {
   "cell_type": "code",
   "execution_count": null,
   "metadata": {},
   "outputs": [],
   "source": [
    "import pandas as pd\n",
    "import numpy as np\n",
    "\n",
    "data = pd.read_csv('./communities.csv')\n",
    "\n",
    "# Drop columns with missing values\n",
    "data = data.dropna(axis=1)\n",
    "data.head()"
   ]
  },
  {
   "cell_type": "markdown",
   "metadata": {},
   "source": [
    "<div class=\"alert alert-success\">\n",
    "    <h2>Exercise</h2>\n",
    "    <p>Use linear regression and ridge regression to predict the number of violent crimes per 100,000 inhabitants. Use 5-fold cross-validation to evaluate both models. The scikit-learn implementation of RidgeCV automatically performs cross-validation to tune the hyperparameter that determines the amount of regularization, so you don't need to implement a second cross-validation loop. Which model performs best?</p>\n",
    "</div>"
   ]
  },
  {
   "cell_type": "markdown",
   "metadata": {},
   "source": [
    "**Before we apply ridge regression, it's important to make sure that all the features are on the same scale. If one of the features is on a completely different scale (let's say, income can be measured in dollars or in thousands of dollars), this might lead the ridge regression coefficient to change substantially because of the penalty term in the optimization problem. We can make sure that all the features are on the same scale by use of the standard scaling: (see book p. 232)**\n",
    "\n",
    "\\begin{equation}\n",
    "\\tilde{x}_{ij} = \\frac{x_{ij}-\\bar{x}_{j}}{\\sqrt{\\frac{1}{n}\\sum_{i=1}^{n}(x_{ij} - \\bar{x}_{j})^2}}\n",
    "\\end{equation}"
   ]
  },
  {
   "cell_type": "markdown",
   "metadata": {},
   "source": [
    "We can do this with the ```StandardScaler``` from scikit-learn. We will do the scaling each time in the cross-validation loop using only training data statistics. "
   ]
  },
  {
   "cell_type": "code",
   "execution_count": null,
   "metadata": {},
   "outputs": [],
   "source": [
    "from sklearn.linear_model import LinearRegression, RidgeCV\n",
    "from sklearn.model_selection import KFold\n",
    "from sklearn.preprocessing import StandardScaler"
   ]
  },
  {
   "cell_type": "code",
   "execution_count": null,
   "metadata": {},
   "outputs": [],
   "source": [
    "# ** solution \n",
    "\n",
    "# Select X and y\n",
    "y = data['ViolentCrimesPerPop'].values\n",
    "X = data.drop(['ViolentCrimesPerPop'], axis=1).values\n",
    "\n",
    "kf = KFold(n_splits=5)\n",
    "\n",
    "linreg_scores = []\n",
    "ridge_scores = []\n",
    "\n",
    "for train_index, test_index in kf.split(X):\n",
    "    X_train, X_test = X[train_index], X[test_index]\n",
    "    y_train, y_test = y[train_index], y[test_index]\n",
    "    \n",
    "    # Scale X\n",
    "    scaler = StandardScaler()\n",
    "    scaler.fit(X_train)\n",
    "    \n",
    "    X_train = scaler.transform(X_train)\n",
    "    X_test = scaler.transform(X_test)\n",
    "    \n",
    "    linregmodel = LinearRegression()\n",
    "    ridgemodel = RidgeCV(alphas=np.logspace(-3,3,100))\n",
    "    \n",
    "    linregmodel.fit(X_train, y_train)\n",
    "    linreg_scores.append(linregmodel.score(X_test,y_test))\n",
    "    \n",
    "    ridgemodel.fit(X_train, y_train)\n",
    "    print('Regularization parameter: {}'.format(ridgemodel.alpha_))\n",
    "    ridge_scores.append(ridgemodel.score(X_test,y_test))\n",
    "    \n",
    "\n",
    "print('Average validation fold R² of linear regression: {}'.format(np.mean(linreg_scores)))\n",
    "print('Average validation fold R² of ridge regression: {}'.format(np.mean(ridge_scores)))\n",
    "\n",
    "# ** solution"
   ]
  },
  {
   "cell_type": "markdown",
   "metadata": {},
   "source": [
    "Now suppose that we don't have 99 features, but four times as many features. And suppose that a lot of features are correlated. This situation is very common in lots of datasets. We will mimic this situation by adding correlated features to our original feature matrix:"
   ]
  },
  {
   "cell_type": "code",
   "execution_count": null,
   "metadata": {},
   "outputs": [],
   "source": [
    "X_1 = X + np.random.normal(loc=0, scale=0.05, size=(X.shape))\n",
    "X_2 = X + np.random.normal(loc=0, scale=0.1, size=(X.shape))\n",
    "X_3 = X + np.random.normal(loc=0, scale=0.01, size=(X.shape))\n",
    "X_expanded = np.concatenate((X, X_1, X_2, X_3), axis=1)\n",
    "\n",
    "X_expanded.shape"
   ]
  },
  {
   "cell_type": "markdown",
   "metadata": {},
   "source": [
    "<div class=\"alert alert-success\">\n",
    "    <h2>Exercise</h2>\n",
    "    <p>Repeat the comparison between ridge regression and linear regression from above, but with the new feature matrix that contains correlated features. What happens with the performance of linear regression? What happens with the regularization parameter? Now, add even more correlated features and repeat the analysis.</p>\n",
    "</div>"
   ]
  },
  {
   "cell_type": "code",
   "execution_count": null,
   "metadata": {},
   "outputs": [],
   "source": [
    "# ** solution\n",
    "\n",
    "kf = KFold(n_splits=5)\n",
    "\n",
    "linreg_scores = []\n",
    "ridge_scores = []\n",
    "\n",
    "for train_index, test_index in kf.split(X_expanded):\n",
    "    X_train, X_test = X_expanded[train_index], X_expanded[test_index]\n",
    "    y_train, y_test = y[train_index], y[test_index]\n",
    "    \n",
    "    # Scale X\n",
    "    scaler = StandardScaler()\n",
    "    scaler.fit(X_train)\n",
    "    \n",
    "    X_train = scaler.transform(X_train)\n",
    "    X_test = scaler.transform(X_test)\n",
    "    \n",
    "    linregmodel = LinearRegression()\n",
    "    ridgemodel = RidgeCV(alphas=np.logspace(-4,4,100))\n",
    "    \n",
    "    linregmodel.fit(X_train, y_train)\n",
    "    linreg_scores.append(linregmodel.score(X_test,y_test))\n",
    "    \n",
    "    ridgemodel.fit(X_train, y_train)\n",
    "    print('Regularization parameter: {}'.format(ridgemodel.alpha_))\n",
    "    ridge_scores.append(ridgemodel.score(X_test,y_test))\n",
    "    \n",
    "\n",
    "print('Average validation fold R² of linear regression: {}'.format(np.mean(linreg_scores)))\n",
    "print('Average validation fold R² of ridge regression: {}'.format(np.mean(ridge_scores)))\n",
    "# ** solution"
   ]
  },
  {
   "cell_type": "markdown",
   "metadata": {},
   "source": [
    "\n",
    "Finally, it's interesting to look at how the amount of regularization in ridge regression and lasso regression affects the magnitudes of the fitted weights."
   ]
  },
  {
   "cell_type": "code",
   "execution_count": null,
   "metadata": {},
   "outputs": [],
   "source": [
    "from sklearn.linear_model import Ridge, Lasso\n",
    "from matplotlib import pyplot as plt\n",
    "%matplotlib inline\n",
    "\n",
    "y = data['ViolentCrimesPerPop'].values\n",
    "X = data.drop(['ViolentCrimesPerPop'], axis=1).values\n",
    " \n",
    "# Scale X\n",
    "#scaler = StandardScaler()\n",
    "#x = scaler.fit_transform(X)\n",
    "x = X\n",
    "alphas = np.logspace(-5,2,100)\n",
    "\n",
    "ridge_coefficients = np.ndarray(shape=(50, len(alphas)))\n",
    "lasso_coefficients = np.ndarray(shape=(50, len(alphas)))\n",
    "\n",
    "for i,a in enumerate(alphas):\n",
    "    ridgemodel = Ridge(alpha=a)\n",
    "    lassomodel = Lasso(alpha=a, max_iter=10000)\n",
    "    \n",
    "    ridgemodel.fit(X,y)\n",
    "    lassomodel.fit(X,y)\n",
    "    \n",
    "    ridge_coefficients[:, i] = ridgemodel.coef_[:50]\n",
    "    lasso_coefficients[:, i] = lassomodel.coef_[:50]"
   ]
  },
  {
   "cell_type": "code",
   "execution_count": null,
   "metadata": {},
   "outputs": [],
   "source": [
    "fig, ((ax1, ax2)) = plt.subplots(figsize=(15,10), nrows=2, sharex=True)\n",
    "\n",
    "for c in range(ridge_coefficients.shape[0]):\n",
    "    pd.Series(ridge_coefficients[c,:]).plot(ax=ax1)\n",
    "    pd.Series(lasso_coefficients[c,:]).plot(ax=ax2)\n",
    "\n",
    "ax2.set_xlabel('Regularization parameter').set_fontsize(20)\n",
    "ax1.set_ylabel('Model weights')\n",
    "ax2.set_ylabel('Model weights')\n",
    "ax1.set_title('Model weights for increasing regularization - Ridge regression').set_fontsize(20)\n",
    "ax2.set_title('Model weights for increasing regularization - Lasso').set_fontsize(20)\n",
    "ax2.get_xaxis().set_ticks(alphas);"
   ]
  },
  {
   "cell_type": "markdown",
   "metadata": {},
   "source": [
    "<div class=\"alert alert-success\">\n",
    "    <h2>Exercise</h2>\n",
    "    <p>Make sure you understand the plots above. What is the main difference between ridge regression and the lasso?\n",
    "    </p>\n",
    "</div>"
   ]
  },
  {
   "cell_type": "markdown",
   "metadata": {},
   "source": [
    "### Feature selection with the lasso"
   ]
  },
  {
   "cell_type": "markdown",
   "metadata": {},
   "source": [
    "Suppose that we are interested in selecting only a couple of features out of a high dimensional dataset. Let's fit ridge regression and lasso regression on the data and look at the model coefficients for both models:"
   ]
  },
  {
   "cell_type": "code",
   "execution_count": null,
   "metadata": {},
   "outputs": [],
   "source": [
    "import matplotlib.pyplot as plt\n",
    "%matplotlib inline\n",
    "from sklearn.linear_model import LassoCV\n",
    "from sklearn.model_selection import train_test_split\n",
    "\n",
    "ridgemodel = RidgeCV(cv=5)\n",
    "lassomodel = LassoCV(cv=5, max_iter=10000)\n",
    "\n",
    "X_train, X_test, y_train, y_test = train_test_split(X, y, test_size=0.2)\n",
    "\n",
    "# Scale X\n",
    "scaler = StandardScaler()\n",
    "scaler.fit(X_train)\n",
    "X_train = scaler.transform(X_train)\n",
    "X_test = scaler.transform(X_test)\n",
    "\n",
    "ridgemodel.fit(X_train, y_train)\n",
    "ridgescore = np.round(ridgemodel.score(X_test, y_test),2)\n",
    "lassomodel.fit(X_train, y_train)\n",
    "lassoscore = np.round(lassomodel.score(X_test, y_test),2)\n",
    "\n",
    "# Plot of the coefficients for ridge regression\n",
    "fig, ((ax1, ax2)) = plt.subplots(figsize=(40,30), nrows=2)\n",
    "pd.Series(ridgemodel.coef_).plot(kind='bar', ax=ax1)\n",
    "ax1.set_title('Ridge regression coefficients. Test set R²: {}'.format(ridgescore)).set_fontsize(40)\n",
    "ax1.get_xaxis().set_ticks([])\n",
    "ax1.set_xlabel('Features')\n",
    "\n",
    "# Plot of the coefficients for the lasso\n",
    "pd.Series(lassomodel.coef_).plot(kind='bar', ax=ax2)\n",
    "ax2.set_title('Lasso regression coefficients. Test set R²: {}'.format(lassoscore)).set_fontsize(40)\n",
    "ax2.get_xaxis().set_ticks([])\n",
    "ax2.set_xlabel('Features');"
   ]
  },
  {
   "cell_type": "markdown",
   "metadata": {},
   "source": [
    "The lasso applies regularization by constraining the sum of the absolute values of the model coefficients (the L1-norm). A result of this is that a lot of model coefficients are set to zero: the lasso performs **feature selection**. This is not the case for ridge regression: the model weights are rarely set to zero. Feature selection is a nice property if we want an interpretable model. Let's list the features with non-zero coefficients in the lasso: "
   ]
  },
  {
   "cell_type": "code",
   "execution_count": null,
   "metadata": {},
   "outputs": [],
   "source": [
    "import seaborn as sns\n",
    "sns.set_style('whitegrid')\n",
    "\n",
    "fig, ax = plt.subplots(figsize=(12,15))\n",
    "sns.barplot(x= pd.Series(lassomodel.coef_[lassomodel.coef_ != 0]),\n",
    "            y=data.drop(['ViolentCrimesPerPop'], axis=1).columns[lassomodel.coef_ != 0],\n",
    "            palette=['steelblue' if n > 0 else 'coral' for n in lassomodel.coef_[lassomodel.coef_ != 0]],\n",
    "            ax=ax);\n",
    "ax.set_title('Lasso model coefficients for the Community Crime dataset').set_fontsize(20);"
   ]
  },
  {
   "cell_type": "markdown",
   "metadata": {},
   "source": [
    "### Regularization methods for $n < p$ data"
   ]
  },
  {
   "cell_type": "markdown",
   "metadata": {},
   "source": [
    "In high dimensional data, we often have more features than observations. This is often called the $n < p$ scenario. In this situation, linear regression breaks down: the variance on the weight estimates blows up and the model will fail on unseen data. Both ridge regression and the lasso are valuable solutions here.\n",
    "\n",
    "We will work with a dataset that contains spectral measurements on food samples. The target variables are the water, fat and protein content of the samples."
   ]
  },
  {
   "cell_type": "code",
   "execution_count": null,
   "metadata": {},
   "outputs": [],
   "source": [
    "data.head()"
   ]
  },
  {
   "cell_type": "code",
   "execution_count": null,
   "metadata": {
    "scrolled": true
   },
   "outputs": [],
   "source": [
    "data = pd.read_csv('./meatNIR1000.csv',header=None)\n",
    "colnames = pd.read_csv('./meatNIR1000.colnames', header=None)\n",
    "data.columns = colnames.values[0]\n",
    "\n",
    "data.head()"
   ]
  },
  {
   "cell_type": "code",
   "execution_count": null,
   "metadata": {},
   "outputs": [],
   "source": [
    "# Read in the data\n",
    "data = pd.read_csv('./meatNIR1000.csv',header=None)\n",
    "colnames = pd.read_csv('./meatNIR1000.colnames', header=None)\n",
    "data.columns = colnames.values[0]\n",
    "W = data['water']\n",
    "F = data['fat']\n",
    "P = data['protein']\n",
    "\n",
    "data = data.drop(['water', 'fat', 'protein'], axis=1)\n",
    "data.head()"
   ]
  },
  {
   "cell_type": "markdown",
   "metadata": {},
   "source": [
    "We have 240 observations, but 500 features, so we are in a $n < p$ setting:"
   ]
  },
  {
   "cell_type": "code",
   "execution_count": null,
   "metadata": {},
   "outputs": [],
   "source": [
    "data.shape"
   ]
  },
  {
   "cell_type": "code",
   "execution_count": null,
   "metadata": {},
   "outputs": [],
   "source": [
    "# let's plot some random data points\n",
    "\n",
    "fig, ax = plt.subplots(figsize=(20,10))\n",
    "for i in range(20):\n",
    "    ax.plot(data.iloc[np.random.choice(range(len(data)))])\n",
    "ax.set_xlabel('Wavelength').set_fontsize(20)\n",
    "ax.set_ylabel('Absorbance').set_fontsize(20)"
   ]
  },
  {
   "cell_type": "markdown",
   "metadata": {},
   "source": [
    "<div class=\"alert alert-success\">\n",
    "    <h2>Exercise</h2>\n",
    "    <p>Try to fit a linear regression model to predict the fat content of a sample on the entire dataset. Look at the model coefficients. What happens?\n",
    "    </p>\n",
    "</div>"
   ]
  },
  {
   "cell_type": "code",
   "execution_count": null,
   "metadata": {},
   "outputs": [],
   "source": [
    "# ** solution\n",
    "from sklearn.linear_model import LinearRegression\n",
    "X = data.values\n",
    "model = LinearRegression()\n",
    "\n",
    "model.fit(X, F)\n",
    "model.coef_[:20]\n",
    "# ** solution"
   ]
  },
  {
   "cell_type": "markdown",
   "metadata": {},
   "source": [
    "<div class=\"alert alert-success\">\n",
    "    <h2>Exercise</h2>\n",
    "    <p>Compare the performance of linear regression with ridge regression and with the lasso. Use 5-fold cross-validation to evaluate both models.</p>\n",
    "</div>"
   ]
  },
  {
   "cell_type": "code",
   "execution_count": null,
   "metadata": {
    "scrolled": true
   },
   "outputs": [],
   "source": [
    "import warnings\n",
    "warnings.filterwarnings('ignore')\n",
    "#** solution\n",
    "from sklearn.linear_model import LassoCV, RidgeCV\n",
    "# Select X and y\n",
    "y = F\n",
    "X = data.values\n",
    "\n",
    "kf = KFold(n_splits=5)\n",
    "\n",
    "linreg_scores = []\n",
    "ridge_scores = []\n",
    "lasso_scores = []\n",
    "\n",
    "for train_index, test_index in kf.split(X):\n",
    "    \n",
    "    X_train, X_test = X[train_index], X[test_index]\n",
    "    y_train, y_test = y[train_index], y[test_index]\n",
    "        \n",
    "    scaler = StandardScaler()\n",
    "    # note that standardscaling probably only has a small or no effect here:\n",
    "    # the data already is on the same scale (see the plot with the wavelengths above)\n",
    "    scaler.fit(X_train)\n",
    "    X_train = scaler.transform(X_train)\n",
    "    X_test = scaler.transform(X_test)\n",
    "    \n",
    "    linregmodel = LinearRegression()\n",
    "    ridgemodel = RidgeCV(alphas=np.logspace(-2,4,10))\n",
    "    lassomodel = LassoCV(alphas=np.logspace(-2,4,10))\n",
    "    \n",
    "    linregmodel.fit(X_train, y_train)\n",
    "    linreg_scores.append(linregmodel.score(X_test,y_test))\n",
    "    \n",
    "    ridgemodel.fit(X_train, y_train)\n",
    "    ridge_scores.append(ridgemodel.score(X_test,y_test))\n",
    "    \n",
    "    lassomodel.fit(X_train, y_train)\n",
    "    lasso_scores.append(lassomodel.score(X_test,y_test))\n",
    "\n",
    "print('Average validation fold R² of linear regression: {}'.format(np.mean(linreg_scores)))\n",
    "print('Average validation fold R² of ridge regression: {}'.format(np.mean(ridge_scores)))\n",
    "print('Average validation fold R² of lasso regression: {}'.format(np.mean(lasso_scores)))\n",
    "#**solution"
   ]
  },
  {
   "cell_type": "code",
   "execution_count": null,
   "metadata": {},
   "outputs": [],
   "source": []
  }
 ],
 "metadata": {
  "kernelspec": {
   "display_name": "Python 3",
   "language": "python",
   "name": "python3"
  },
  "language_info": {
   "codemirror_mode": {
    "name": "ipython",
    "version": 3
   },
   "file_extension": ".py",
   "mimetype": "text/x-python",
   "name": "python",
   "nbconvert_exporter": "python",
   "pygments_lexer": "ipython3",
   "version": "3.7.9"
  },
  "varInspector": {
   "cols": {
    "lenName": 16,
    "lenType": 16,
    "lenVar": 40
   },
   "kernels_config": {
    "python": {
     "delete_cmd_postfix": "",
     "delete_cmd_prefix": "del ",
     "library": "var_list.py",
     "varRefreshCmd": "print(var_dic_list())"
    },
    "r": {
     "delete_cmd_postfix": ") ",
     "delete_cmd_prefix": "rm(",
     "library": "var_list.r",
     "varRefreshCmd": "cat(var_dic_list()) "
    }
   },
   "types_to_exclude": [
    "module",
    "function",
    "builtin_function_or_method",
    "instance",
    "_Feature"
   ],
   "window_display": true
  }
 },
 "nbformat": 4,
 "nbformat_minor": 4
}
