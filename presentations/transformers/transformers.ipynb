{
 "cells": [
  {
   "cell_type": "markdown",
   "metadata": {
    "slideshow": {
     "slide_type": "slide"
    }
   },
   "source": [
    "# Transformers\n",
    "\n",
    "![width:1100px center](./img/soup.png)\n",
    "\n",
    "*Images created by DALL-E 2 when prompted with \"a bowl of soup that is a portal to another dimension as digital art\"*"
   ]
  },
  {
   "cell_type": "markdown",
   "metadata": {
    "slideshow": {
     "slide_type": "slide"
    }
   },
   "source": [
    "## Transformers in the news\n",
    "\n",
    "![width:1100px center](./img/chatgpt.png)"
   ]
  },
  {
   "cell_type": "markdown",
   "metadata": {
    "slideshow": {
     "slide_type": "subslide"
    }
   },
   "source": [
    "## Transformers in the news\n",
    "\n",
    "![width:1100px center](./img/dalle3.png)"
   ]
  },
  {
   "cell_type": "markdown",
   "metadata": {
    "slideshow": {
     "slide_type": "subslide"
    }
   },
   "source": [
    "## Transformers in the news\n",
    "\n",
    "![width:1100px center](./img/alphafold.jpg)"
   ]
  },
  {
   "cell_type": "markdown",
   "metadata": {
    "slideshow": {
     "slide_type": "slide"
    }
   },
   "source": [
    "## Overview\n",
    "\n",
    "1. Recap of neural architectures\n",
    "2. Self-attention & The Transformer\n",
    "3. Transformer tricks\n",
    "4. Applications: ChatGPT, AlphaFold, other biological applications"
   ]
  },
  {
   "cell_type": "markdown",
   "metadata": {
    "slideshow": {
     "slide_type": "slide"
    }
   },
   "source": [
    "## Data as collections of \"tokens\"\n",
    "\n",
    "![width:600px center](./img/tokens.png)"
   ]
  },
  {
   "cell_type": "markdown",
   "metadata": {
    "slideshow": {
     "slide_type": "subslide"
    }
   },
   "source": [
    "## Text as collections of \"tokens\"\n",
    "\n",
    "![width:1100px center](./img/tokens_text.png)"
   ]
  },
  {
   "cell_type": "markdown",
   "metadata": {
    "slideshow": {
     "slide_type": "subslide"
    }
   },
   "source": [
    "## Images as collections of \"tokens\"\n",
    "\n",
    "![width:1100px center](./img/tokens_img.png)"
   ]
  },
  {
   "cell_type": "markdown",
   "metadata": {
    "slideshow": {
     "slide_type": "subslide"
    }
   },
   "source": [
    "## Molecules as collections of \"tokens\"\n",
    "\n",
    "![width:800px center](./img/tokens_mol.png)"
   ]
  },
  {
   "cell_type": "markdown",
   "metadata": {
    "slideshow": {
     "slide_type": "subslide"
    }
   },
   "source": [
    "## (mass) spectra as collections of \"tokens\"\n",
    "\n",
    "![width:800px center](./img/tokens_spectra.png)"
   ]
  },
  {
   "cell_type": "markdown",
   "metadata": {
    "slideshow": {
     "slide_type": "subslide"
    }
   },
   "source": [
    "## Tabular data as collections of \"tokens\"\n",
    "\n",
    "![width:800px center](./img/tokens_tabular.png)"
   ]
  },
  {
   "cell_type": "code",
   "execution_count": 1,
   "metadata": {
    "slideshow": {
     "slide_type": "slide"
    }
   },
   "outputs": [
    {
     "data": {
      "text/plain": [
       "tensor([ 0.7716, -0.1115, -0.6319, -1.0056, -1.2561,  0.0073,  0.9639, -0.1627,\n",
       "        -0.2908, -0.0932,  1.3660,  0.7804, -1.7173, -1.1826,  0.5034,  0.5858,\n",
       "         0.7642,  0.2054, -0.4241, -0.0033,  0.3697,  0.5210,  0.8765, -0.5851,\n",
       "         1.1675,  0.9602,  1.5260,  0.0590, -1.1147,  0.4108, -0.5527, -0.9677,\n",
       "        -0.1305,  0.9955,  0.6227, -1.0528, -0.2851, -0.7913,  0.1487, -1.1146,\n",
       "        -0.4093,  0.1320, -1.4885,  0.3699, -1.2454,  0.5326,  0.1222,  1.1757,\n",
       "        -0.4448, -1.1425,  0.7155,  0.3445, -0.0535,  1.3649,  1.4965,  0.7048,\n",
       "        -1.1976, -0.5622,  1.9499,  0.1111, -1.2793, -0.5826, -2.1910, -0.1622])"
      ]
     },
     "execution_count": 1,
     "metadata": {},
     "output_type": "execute_result"
    }
   ],
   "source": [
    "import torch\n",
    "torch.randn(64)"
   ]
  }
 ],
 "metadata": {
  "kernelspec": {
   "display_name": "gaetan_utils",
   "language": "python",
   "name": "python3"
  },
  "language_info": {
   "codemirror_mode": {
    "name": "ipython",
    "version": 3
   },
   "file_extension": ".py",
   "mimetype": "text/x-python",
   "name": "python",
   "nbconvert_exporter": "python",
   "pygments_lexer": "ipython3",
   "version": "3.10.8"
  }
 },
 "nbformat": 4,
 "nbformat_minor": 2
}
